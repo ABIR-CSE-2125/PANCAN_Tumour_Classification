{
 "cells": [
  {
   "cell_type": "code",
   "execution_count": 86,
   "id": "f4644b52",
   "metadata": {},
   "outputs": [],
   "source": [
    "from sklearn.datasets import load_iris\n",
    "from sklearn.preprocessing import MinMaxScaler,StandardScaler\n",
    "from sklearn.svm import SVC\n",
    "from sklearn.feature_selection import VarianceThreshold\n",
    "from sklearn.model_selection import train_test_split,RandomizedSearchCV, StratifiedKFold\n",
    "from sklearn.metrics import balanced_accuracy_score,f1_score,precision_score,recall_score\n",
    "from statsmodels.stats.outliers_influence import variance_inflation_factor\n",
    "import pandas as pd\n",
    "import numpy as np\n",
    "import plotly.express as px\n",
    "import plotly.graph_objects as go\n",
    "from plotly.subplots import make_subplots\n",
    "from scipy.stats import gaussian_kde\n",
    "from utils import *\n",
    "from sklearn.decomposition import PCA\n",
    "from sklearn.pipeline import Pipeline\n",
    "from scipy.stats import randint, uniform\n",
    "\n",
    "import networkx as nx\n"
   ]
  },
  {
   "cell_type": "code",
   "execution_count": 5,
   "id": "3c98d40e",
   "metadata": {},
   "outputs": [
    {
     "name": "stdout",
     "output_type": "stream",
     "text": [
      "DataFrame successfully loaded from data/processed_data/gene_exp_data.pkl\n",
      "DataFrame successfully loaded from data/processed_data/label_data.pkl\n",
      "----------------------------------------------------------------------------------------------------------------------------------------------------------------\n",
      "Entries in Gene Expression Dataframe : 5268\n",
      "Entries in Label Dataframe : 5268\n",
      "----------------------------------------------------------------------------------------------------------------------------------------------------------------\n",
      "Entries in Extracted Gene Expression Dataframe : 4392\n",
      "Entries in Extracted Label Dataframe : 4392\n"
     ]
    }
   ],
   "source": [
    "gene_exp_df = read_dataframe_from_pickle(\"data/processed_data/gene_exp_data.pkl\")\n",
    "label_df = read_dataframe_from_pickle(\"data/processed_data/label_data.pkl\")\n",
    "print(\"--\" * 80)\n",
    "print(f\"Entries in Gene Expression Dataframe : {len(gene_exp_df)}\")\n",
    "print(f\"Entries in Label Dataframe : {len(label_df)}\")\n",
    "labels_with_high_freq_df = remove_low_frequency_labels(label_df,threshold=150)\n",
    "extracted_data,extracted_label = collect_relevant_data(gene_exp_df_bkp=gene_exp_df,label_df_bkp=labels_with_high_freq_df)\n",
    "encoded_labels,label_encoder = encode_labels(extracted_label)\n",
    "print(\"--\" * 80)\n",
    "print(f\"Entries in Extracted Gene Expression Dataframe : {len(extracted_data)}\")\n",
    "print(f\"Entries in Extracted Label Dataframe : {len(encoded_labels)}\")"
   ]
  },
  {
   "cell_type": "code",
   "execution_count": 168,
   "id": "0802bb67",
   "metadata": {},
   "outputs": [],
   "source": [
    "def compute_variance_inflation_threshold(X_scaled,vif_thresholds):\n",
    "# Apply MinMax scaling\n",
    "    vif_xtemp = {}\n",
    "    X_temp = X_scaled.copy()\n",
    "    iteration = 1\n",
    "\n",
    "    while True:\n",
    "        print(f\"Iteration {iteration}\")\n",
    "        vif_df = pd.DataFrame()\n",
    "        vif_df[\"Feature\"] = X_temp.columns\n",
    "        vif_df[\"VIF\"] = [variance_inflation_factor(X_temp.values, i) for i in range(X_temp.shape[1])]\n",
    "        \n",
    "        max_vif = vif_df[\"VIF\"].max()\n",
    "\n",
    "        for thresh in vif_thresholds:\n",
    "            if thresh not in vif_xtemp and max_vif <= thresh:\n",
    "                vif_xtemp[thresh] = X_temp.copy()\n",
    "                print(f\"✅ Cached X_temp at threshold {thresh} with {X_temp.shape[1]} features\")\n",
    "\n",
    "        high_vif = vif_df[vif_df[\"VIF\"] > vif_thresholds[0]]  # base threshold\n",
    "\n",
    "        if high_vif.empty:\n",
    "            break\n",
    "\n",
    "        total_features = X_temp.shape[1]\n",
    "        drop_k = max(1, total_features // 40)\n",
    "        drop_count = min(drop_k, high_vif.shape[0])\n",
    "        \n",
    "        drop_features = high_vif.sort_values(\"VIF\", ascending=False).head(drop_count)[\"Feature\"].tolist()\n",
    "        X_temp = X_temp.drop(columns=drop_features)\n",
    "\n",
    "        # print(f\"Max VIF: {max_vif:.2f} | Features left: {len(X_temp.columns)}\")\n",
    "        iteration += 1\n",
    "\n",
    "    # Ensure all remaining thresholds are cached\n",
    "    for thresh in vif_thresholds:\n",
    "        if thresh not in vif_xtemp:\n",
    "            vif_xtemp[thresh] = X_temp.copy()\n",
    "    return vif_xtemp\n"
   ]
  },
  {
   "cell_type": "code",
   "execution_count": 6,
   "id": "449d9ea5",
   "metadata": {},
   "outputs": [
    {
     "name": "stdout",
     "output_type": "stream",
     "text": [
      "\n",
      "🔍 Evaluating Selection Threshold : 0.014 | 471 features after VarianceThreshold.\n",
      "********************************************************************************\n",
      "Proceeding to VIF Step\n",
      "Starting Iteration 1\n",
      "Max VIF: 110.70 | Features left: 460\n",
      "Starting Iteration 2\n",
      "Max VIF: 51.87 | Features left: 449\n",
      "Starting Iteration 3\n",
      "Max VIF: 41.37 | Features left: 438\n",
      "Starting Iteration 4\n",
      "Max VIF: 37.64 | Features left: 428\n",
      "Starting Iteration 5\n",
      "Max VIF: 34.15 | Features left: 418\n",
      "Starting Iteration 6\n",
      "Max VIF: 32.18 | Features left: 408\n",
      "Starting Iteration 7\n",
      "Max VIF: 29.93 | Features left: 398\n",
      "Starting Iteration 8\n",
      "Max VIF: 27.78 | Features left: 389\n",
      "Starting Iteration 9\n",
      "Max VIF: 27.04 | Features left: 380\n",
      "Starting Iteration 10\n",
      "Max VIF: 26.02 | Features left: 371\n",
      "Starting Iteration 11\n",
      "Max VIF: 24.67 | Features left: 362\n",
      "Starting Iteration 12\n",
      "Max VIF: 23.55 | Features left: 353\n",
      "Starting Iteration 13\n",
      "Max VIF: 22.36 | Features left: 345\n",
      "Starting Iteration 14\n",
      "Max VIF: 21.34 | Features left: 337\n",
      "Starting Iteration 15\n",
      "Max VIF: 20.38 | Features left: 331\n",
      "Starting Iteration 16\n",
      "✅ Cached X_temp at threshold 20 with 331 features\n"
     ]
    }
   ],
   "source": [
    "X = extracted_data.copy()\n",
    "y = encoded_labels\n",
    "selection_threshold = 0.014\n",
    "scaler = MinMaxScaler()\n",
    "X_scaled = pd.DataFrame(scaler.fit_transform(X), columns=X.columns)\n",
    "del X\n",
    "var_thresh = VarianceThreshold(threshold=selection_threshold)\n",
    "X_var_filtered = var_thresh.fit_transform(X_scaled)\n",
    "kept_columns = X_scaled.columns[var_thresh.get_support()]\n",
    "X_var_selected = pd.DataFrame(X_var_filtered, columns=kept_columns)\n",
    "print(f\"\\n🔍 Evaluating Selection Threshold : {selection_threshold} | {X_var_selected.shape[1]} features after VarianceThreshold.\")\n",
    "print(\"**\" * 40)\n",
    "print(\"Proceeding to VIF Step\")\n",
    "vif_xtemp = compute_variance_inflation_threshold(X=X_var_selected,vif_thresholds=[20]) \n",
    "del X_var_selected"
   ]
  },
  {
   "cell_type": "code",
   "execution_count": 27,
   "id": "ac8e6f80",
   "metadata": {},
   "outputs": [],
   "source": [
    "X_vif_selection_features_df = vif_xtemp.get(20)"
   ]
  },
  {
   "cell_type": "code",
   "execution_count": 33,
   "id": "4c6696d1",
   "metadata": {},
   "outputs": [],
   "source": [
    "X = extracted_data.copy()\n",
    "n_components=60\n",
    "scaler = StandardScaler()\n",
    "X_scaled = scaler.fit_transform(X)\n",
    "pca = PCA(n_components=n_components, random_state=42)\n",
    "X_pca_extracted_features = pca.fit_transform(X_scaled)\n",
    "X_pca_extracted_features_df = pd.DataFrame(X_pca_extracted_features,)\n",
    "del X,X_scaled"
   ]
  },
  {
   "cell_type": "code",
   "execution_count": 30,
   "id": "54159262",
   "metadata": {},
   "outputs": [
    {
     "name": "stdout",
     "output_type": "stream",
     "text": [
      "<class 'pandas.core.frame.DataFrame'> <class 'pandas.core.frame.DataFrame'>\n"
     ]
    }
   ],
   "source": [
    "print(type(X_vif_selection_features_df),type(X_pca_extracted_features_df))"
   ]
  },
  {
   "cell_type": "code",
   "execution_count": 34,
   "id": "d56dbbbc",
   "metadata": {},
   "outputs": [],
   "source": [
    "X_vif_selection_features_df = X_vif_selection_features_df.rename(columns= {col: f'vif_{i+1}' for i, col in enumerate(X_vif_selection_features_df.columns)})\n",
    "X_pca_extracted_features_df = X_pca_extracted_features_df.rename(columns= {col: f'pca_{i+1}' for i, col in enumerate(X_pca_extracted_features_df.columns)})"
   ]
  },
  {
   "cell_type": "code",
   "execution_count": 43,
   "id": "9f1be667",
   "metadata": {},
   "outputs": [],
   "source": [
    "def check_collinearity(X1, X2, threshold=0.8):\n",
    "    combined = pd.concat([X1, X2], axis=1)\n",
    "    corr_matrix = combined.corr().abs()\n",
    "    upper = corr_matrix.where(np.triu(np.ones(corr_matrix.shape), k=1).astype(bool))\n",
    "    high_corr_pairs = []\n",
    "    for column in upper.columns:\n",
    "        for row in upper.index:\n",
    "            if pd.notnull(upper.loc[row, column]) and upper.loc[row, column] > threshold:\n",
    "                high_corr_pairs.append((row, column,))\n",
    "    \n",
    "    return high_corr_pairs"
   ]
  },
  {
   "cell_type": "code",
   "execution_count": 45,
   "id": "f270d2fa",
   "metadata": {},
   "outputs": [],
   "source": [
    "def check_collinearity_pools(X1, X2, threshold=0.8):\n",
    "    combined = pd.concat([X1, X2], axis=1)\n",
    "    corr_matrix = combined.corr().abs()\n",
    "    upper = corr_matrix.where(np.triu(np.ones(corr_matrix.shape), k=1).astype(bool))\n",
    "    \n",
    "    # Create graph\n",
    "    G = nx.Graph()\n",
    "\n",
    "    # Add edges for highly correlated pairs\n",
    "    for column in upper.columns:\n",
    "        for row in upper.index:\n",
    "            if pd.notnull(upper.loc[row, column]) and upper.loc[row, column] > threshold:\n",
    "                G.add_edge(row, column)\n",
    "    \n",
    "    # Find connected components (pools)\n",
    "    pools = list(nx.connected_components(G))\n",
    "    \n",
    "    return pools"
   ]
  },
  {
   "cell_type": "code",
   "execution_count": null,
   "id": "1da10d96",
   "metadata": {},
   "outputs": [],
   "source": [
    "colinear_groups = check_collinearity_pools(X_vif_selection_features_df,X_pca_extracted_features_df,threshold=0.8)\n",
    "for i,pool in enumerate(colinear_groups):\n",
    "    print(f\"Size of group {i+1} : {len(pool)}\")"
   ]
  },
  {
   "cell_type": "code",
   "execution_count": 63,
   "id": "96e3a42b",
   "metadata": {},
   "outputs": [],
   "source": [
    "combined_df = pd.concat([X_vif_selection_features_df, X_pca_extracted_features_df], axis=1)\n",
    "features_to_drop = []\n",
    "\n",
    "for pool in colinear_groups:\n",
    "    pool = list(pool)\n",
    "    pool.sort()  # To have consistent order\n",
    "    keep_feature = pool[0]  # Select first feature\n",
    "    drop_features = pool[1:]  # All others\n",
    "    features_to_drop.extend(drop_features)\n",
    "final_combined_df = combined_df.drop(columns=features_to_drop)\n"
   ]
  },
  {
   "cell_type": "code",
   "execution_count": 78,
   "id": "d8b5f85b",
   "metadata": {},
   "outputs": [],
   "source": [
    "results = []\n",
    "threshold_list = [0.6,0.65,0.7,0.75,0.8,0.85]"
   ]
  },
  {
   "cell_type": "code",
   "execution_count": 79,
   "id": "de760b92",
   "metadata": {},
   "outputs": [
    {
     "name": "stdout",
     "output_type": "stream",
     "text": [
      "====================================================================================================\n",
      "Strting for threshold :  0.6\n",
      "Dropping  40.66% Features\n",
      "----------------------------------------------------------------------------------------------------\n",
      "Starting Run 1\n",
      "Model Training :: X_train size : 3513 | y_train size : 3513\n",
      "Model Training :: X_test size : 879 | y_test size : 879\n",
      "Threshold : 0.6 | Run 1 | RESULTS STORED SUCCESSFULLY\n",
      "----------------------------------------------------------------------------------------------------\n",
      "Starting Run 2\n",
      "Model Training :: X_train size : 3513 | y_train size : 3513\n",
      "Model Training :: X_test size : 879 | y_test size : 879\n",
      "Threshold : 0.6 | Run 2 | RESULTS STORED SUCCESSFULLY\n",
      "----------------------------------------------------------------------------------------------------\n",
      "Starting Run 3\n",
      "Model Training :: X_train size : 3513 | y_train size : 3513\n",
      "Model Training :: X_test size : 879 | y_test size : 879\n",
      "Threshold : 0.6 | Run 3 | RESULTS STORED SUCCESSFULLY\n",
      "====================================================================================================\n",
      "Strting for threshold :  0.65\n",
      "Dropping  30.43% Features\n",
      "----------------------------------------------------------------------------------------------------\n",
      "Starting Run 1\n",
      "Model Training :: X_train size : 3513 | y_train size : 3513\n",
      "Model Training :: X_test size : 879 | y_test size : 879\n",
      "Threshold : 0.65 | Run 1 | RESULTS STORED SUCCESSFULLY\n",
      "----------------------------------------------------------------------------------------------------\n",
      "Starting Run 2\n",
      "Model Training :: X_train size : 3513 | y_train size : 3513\n",
      "Model Training :: X_test size : 879 | y_test size : 879\n",
      "Threshold : 0.65 | Run 2 | RESULTS STORED SUCCESSFULLY\n",
      "----------------------------------------------------------------------------------------------------\n",
      "Starting Run 3\n",
      "Model Training :: X_train size : 3513 | y_train size : 3513\n",
      "Model Training :: X_test size : 879 | y_test size : 879\n",
      "Threshold : 0.65 | Run 3 | RESULTS STORED SUCCESSFULLY\n",
      "====================================================================================================\n",
      "Strting for threshold :  0.7\n",
      "Dropping  20.72% Features\n",
      "----------------------------------------------------------------------------------------------------\n",
      "Starting Run 1\n",
      "Model Training :: X_train size : 3513 | y_train size : 3513\n",
      "Model Training :: X_test size : 879 | y_test size : 879\n",
      "Threshold : 0.7 | Run 1 | RESULTS STORED SUCCESSFULLY\n",
      "----------------------------------------------------------------------------------------------------\n",
      "Starting Run 2\n",
      "Model Training :: X_train size : 3513 | y_train size : 3513\n",
      "Model Training :: X_test size : 879 | y_test size : 879\n",
      "Threshold : 0.7 | Run 2 | RESULTS STORED SUCCESSFULLY\n",
      "----------------------------------------------------------------------------------------------------\n",
      "Starting Run 3\n",
      "Model Training :: X_train size : 3513 | y_train size : 3513\n",
      "Model Training :: X_test size : 879 | y_test size : 879\n",
      "Threshold : 0.7 | Run 3 | RESULTS STORED SUCCESSFULLY\n",
      "====================================================================================================\n",
      "Strting for threshold :  0.75\n",
      "Dropping  13.30% Features\n",
      "----------------------------------------------------------------------------------------------------\n",
      "Starting Run 1\n",
      "Model Training :: X_train size : 3513 | y_train size : 3513\n",
      "Model Training :: X_test size : 879 | y_test size : 879\n",
      "Threshold : 0.75 | Run 1 | RESULTS STORED SUCCESSFULLY\n",
      "----------------------------------------------------------------------------------------------------\n",
      "Starting Run 2\n",
      "Model Training :: X_train size : 3513 | y_train size : 3513\n",
      "Model Training :: X_test size : 879 | y_test size : 879\n",
      "Threshold : 0.75 | Run 2 | RESULTS STORED SUCCESSFULLY\n",
      "----------------------------------------------------------------------------------------------------\n",
      "Starting Run 3\n",
      "Model Training :: X_train size : 3513 | y_train size : 3513\n",
      "Model Training :: X_test size : 879 | y_test size : 879\n",
      "Threshold : 0.75 | Run 3 | RESULTS STORED SUCCESSFULLY\n",
      "====================================================================================================\n",
      "Strting for threshold :  0.8\n",
      "Dropping  4.86% Features\n",
      "----------------------------------------------------------------------------------------------------\n",
      "Starting Run 1\n",
      "Model Training :: X_train size : 3513 | y_train size : 3513\n",
      "Model Training :: X_test size : 879 | y_test size : 879\n",
      "Threshold : 0.8 | Run 1 | RESULTS STORED SUCCESSFULLY\n",
      "----------------------------------------------------------------------------------------------------\n",
      "Starting Run 2\n",
      "Model Training :: X_train size : 3513 | y_train size : 3513\n",
      "Model Training :: X_test size : 879 | y_test size : 879\n",
      "Threshold : 0.8 | Run 2 | RESULTS STORED SUCCESSFULLY\n",
      "----------------------------------------------------------------------------------------------------\n",
      "Starting Run 3\n",
      "Model Training :: X_train size : 3513 | y_train size : 3513\n",
      "Model Training :: X_test size : 879 | y_test size : 879\n",
      "Threshold : 0.8 | Run 3 | RESULTS STORED SUCCESSFULLY\n",
      "====================================================================================================\n",
      "Strting for threshold :  0.85\n",
      "Dropping  2.05% Features\n",
      "----------------------------------------------------------------------------------------------------\n",
      "Starting Run 1\n",
      "Model Training :: X_train size : 3513 | y_train size : 3513\n",
      "Model Training :: X_test size : 879 | y_test size : 879\n",
      "Threshold : 0.85 | Run 1 | RESULTS STORED SUCCESSFULLY\n",
      "----------------------------------------------------------------------------------------------------\n",
      "Starting Run 2\n",
      "Model Training :: X_train size : 3513 | y_train size : 3513\n",
      "Model Training :: X_test size : 879 | y_test size : 879\n",
      "Threshold : 0.85 | Run 2 | RESULTS STORED SUCCESSFULLY\n",
      "----------------------------------------------------------------------------------------------------\n",
      "Starting Run 3\n",
      "Model Training :: X_train size : 3513 | y_train size : 3513\n",
      "Model Training :: X_test size : 879 | y_test size : 879\n",
      "Threshold : 0.85 | Run 3 | RESULTS STORED SUCCESSFULLY\n"
     ]
    }
   ],
   "source": [
    "combined_df = pd.concat([X_vif_selection_features_df, X_pca_extracted_features_df], axis=1)\n",
    "for i in threshold_list:\n",
    "    print(\"==\"*50)\n",
    "    print(\"Strting for threshold : \",i)\n",
    "    colinear_groups = check_collinearity_pools(X_vif_selection_features_df,X_pca_extracted_features_df,threshold=i)\n",
    "    features_to_drop = []\n",
    "    for pool in colinear_groups:\n",
    "        pool = list(pool)\n",
    "        pool.sort()  # To have consistent order\n",
    "        keep_feature = pool[0]  # Select first feature\n",
    "        drop_features = pool[1:]  # All others\n",
    "        features_to_drop.extend(drop_features)\n",
    "    print(f\"Dropping {len(features_to_drop)*100/len(combined_df.columns) : 0.2f}% Features\")\n",
    "    final_combined_df = combined_df.drop(columns=features_to_drop)\n",
    "    for run in range(3):\n",
    "        print(\"--\"*50)\n",
    "        print(\"Starting Run\",run+1)\n",
    "        X = combined_df.copy()\n",
    "        y = encoded_labels\n",
    "        model_train_scaler = StandardScaler()\n",
    "        X_train, X_test, y_train, y_test = train_test_split(X, y, test_size=0.2, random_state=(run+1)*10+2)\n",
    "        del X\n",
    "        print(f\"Model Training :: X_train size : {len(X_train)} | y_train size : {len(y_train)}\")\n",
    "        print(f\"Model Training :: X_test size : {len(X_test)} | y_test size : {len(y_test)}\")\n",
    "        model = SVC(kernel='rbf', C=3, class_weight='balanced', gamma='scale')\n",
    "        model.fit(X_train,y_train)\n",
    "        # Predictions\n",
    "        y_pred = model.predict(X_test)        \n",
    "        y_pred_train = model.predict(X_train)        \n",
    "\n",
    "        result = {\n",
    "            \"run\":run+1,\n",
    "            \"colinearity_threshold\":i,\n",
    "            'model_score':round(model.score(X_test,y_test),4),\n",
    "            'train_f1_macro':round(f1_score(y_train, y_pred_train, average='macro'),4),\n",
    "            'test_balanced_accuracy': round(balanced_accuracy_score(y_test, y_pred),4),\n",
    "            'test_f1_macro': round(f1_score(y_test, y_pred, average='macro'),4),\n",
    "            'test_f1_weighted': round(f1_score(y_test, y_pred, average='weighted'),4),\n",
    "            \"precision_weighted\" : round(precision_score(y_test, y_pred, average='weighted'),4),\n",
    "            \"recall_weighted\" : round(recall_score(y_test, y_pred, average='weighted'),4),\n",
    "        }\n",
    "        print(f\"Threshold : {i} | Run {run+1} | RESULTS STORED SUCCESSFULLY\")\n",
    "        results.append(result)\n",
    "results_df = pd.DataFrame(results)\n",
    "results_df.to_csv(\"results/Combined_Added_Featureset.csv\",index=False)"
   ]
  },
  {
   "cell_type": "markdown",
   "id": "9015ec1a",
   "metadata": {},
   "source": [
    "## Variation : 2\n",
    "Applying PCA over VIF Selected Features"
   ]
  },
  {
   "cell_type": "code",
   "execution_count": 169,
   "id": "df005109",
   "metadata": {},
   "outputs": [],
   "source": [
    "results = []"
   ]
  },
  {
   "cell_type": "code",
   "execution_count": 170,
   "id": "c36702c2",
   "metadata": {},
   "outputs": [
    {
     "name": "stdout",
     "output_type": "stream",
     "text": [
      "\n",
      "\n",
      "\n",
      "################################################################################\n",
      "Step : Variance Based Selection | Selection Threshold : 0.014\n",
      "Iteration 1\n",
      "Iteration 2\n",
      "Iteration 3\n",
      "Iteration 4\n",
      "Iteration 5\n",
      "Iteration 6\n",
      "Iteration 7\n",
      "✅ Cached X_temp at threshold 30 with 408 features\n",
      "Iteration 8\n",
      "Iteration 9\n",
      "Iteration 10\n",
      "Iteration 11\n",
      "✅ Cached X_temp at threshold 25 with 371 features\n",
      "Iteration 12\n",
      "Iteration 13\n",
      "Iteration 14\n",
      "Iteration 15\n",
      "Iteration 16\n",
      "✅ Cached X_temp at threshold 20 with 329 features\n",
      "Iteration 17\n",
      "Iteration 18\n",
      "Iteration 19\n",
      "Iteration 20\n",
      "Iteration 21\n",
      "Iteration 22\n",
      "Iteration 23\n",
      "Iteration 24\n",
      "Iteration 25\n",
      "✅ Cached X_temp at threshold 15 with 269 features\n",
      "********************************************************************************\n",
      "Step : Variance Inflation Threshold Based Selection | VIF Threshold : 30\n",
      "--------------------------------------------------------------------------------\n",
      "Step : PCA Based Extraction | Run : 1 | PCA n_components : 40\n",
      "================================================================================\n",
      "\n",
      "Last Recorded Config\n",
      "Run 1 | Selection Treshold : 0.014 | VIF Threshold : 30 | PCA n_Component : 40\n",
      "--------------------------------------------------------------------------------\n",
      "Step : PCA Based Extraction | Run : 1 | PCA n_components : 50\n",
      "================================================================================\n",
      "\n",
      "Last Recorded Config\n",
      "Run 1 | Selection Treshold : 0.014 | VIF Threshold : 30 | PCA n_Component : 50\n",
      "--------------------------------------------------------------------------------\n",
      "Step : PCA Based Extraction | Run : 1 | PCA n_components : 60\n",
      "================================================================================\n",
      "\n",
      "Last Recorded Config\n",
      "Run 1 | Selection Treshold : 0.014 | VIF Threshold : 30 | PCA n_Component : 60\n",
      "--------------------------------------------------------------------------------\n",
      "Step : PCA Based Extraction | Run : 1 | PCA n_components : 70\n",
      "================================================================================\n",
      "\n",
      "Last Recorded Config\n",
      "Run 1 | Selection Treshold : 0.014 | VIF Threshold : 30 | PCA n_Component : 70\n",
      "--------------------------------------------------------------------------------\n",
      "Step : PCA Based Extraction | Run : 1 | PCA n_components : 80\n",
      "================================================================================\n",
      "\n",
      "Last Recorded Config\n",
      "Run 1 | Selection Treshold : 0.014 | VIF Threshold : 30 | PCA n_Component : 80\n",
      "--------------------------------------------------------------------------------\n",
      "Step : PCA Based Extraction | Run : 1 | PCA n_components : 90\n",
      "================================================================================\n",
      "\n",
      "Last Recorded Config\n",
      "Run 1 | Selection Treshold : 0.014 | VIF Threshold : 30 | PCA n_Component : 90\n",
      "--------------------------------------------------------------------------------\n",
      "Step : PCA Based Extraction | Run : 1 | PCA n_components : 100\n",
      "================================================================================\n",
      "\n",
      "Last Recorded Config\n",
      "Run 1 | Selection Treshold : 0.014 | VIF Threshold : 30 | PCA n_Component : 100\n",
      "Step : Variance Inflation Threshold Based Selection | VIF Threshold : 25\n",
      "--------------------------------------------------------------------------------\n",
      "Step : PCA Based Extraction | Run : 1 | PCA n_components : 40\n",
      "================================================================================\n",
      "\n",
      "Last Recorded Config\n",
      "Run 1 | Selection Treshold : 0.014 | VIF Threshold : 25 | PCA n_Component : 40\n",
      "--------------------------------------------------------------------------------\n",
      "Step : PCA Based Extraction | Run : 1 | PCA n_components : 50\n",
      "================================================================================\n",
      "\n",
      "Last Recorded Config\n",
      "Run 1 | Selection Treshold : 0.014 | VIF Threshold : 25 | PCA n_Component : 50\n",
      "--------------------------------------------------------------------------------\n",
      "Step : PCA Based Extraction | Run : 1 | PCA n_components : 60\n",
      "================================================================================\n",
      "\n",
      "Last Recorded Config\n",
      "Run 1 | Selection Treshold : 0.014 | VIF Threshold : 25 | PCA n_Component : 60\n",
      "--------------------------------------------------------------------------------\n",
      "Step : PCA Based Extraction | Run : 1 | PCA n_components : 70\n",
      "================================================================================\n",
      "\n",
      "Last Recorded Config\n",
      "Run 1 | Selection Treshold : 0.014 | VIF Threshold : 25 | PCA n_Component : 70\n",
      "--------------------------------------------------------------------------------\n",
      "Step : PCA Based Extraction | Run : 1 | PCA n_components : 80\n",
      "================================================================================\n",
      "\n",
      "Last Recorded Config\n",
      "Run 1 | Selection Treshold : 0.014 | VIF Threshold : 25 | PCA n_Component : 80\n",
      "--------------------------------------------------------------------------------\n",
      "Step : PCA Based Extraction | Run : 1 | PCA n_components : 90\n",
      "================================================================================\n",
      "\n",
      "Last Recorded Config\n",
      "Run 1 | Selection Treshold : 0.014 | VIF Threshold : 25 | PCA n_Component : 90\n",
      "--------------------------------------------------------------------------------\n",
      "Step : PCA Based Extraction | Run : 1 | PCA n_components : 100\n",
      "================================================================================\n",
      "\n",
      "Last Recorded Config\n",
      "Run 1 | Selection Treshold : 0.014 | VIF Threshold : 25 | PCA n_Component : 100\n",
      "Step : Variance Inflation Threshold Based Selection | VIF Threshold : 20\n",
      "--------------------------------------------------------------------------------\n",
      "Step : PCA Based Extraction | Run : 1 | PCA n_components : 40\n",
      "================================================================================\n",
      "\n",
      "Last Recorded Config\n",
      "Run 1 | Selection Treshold : 0.014 | VIF Threshold : 20 | PCA n_Component : 40\n",
      "--------------------------------------------------------------------------------\n",
      "Step : PCA Based Extraction | Run : 1 | PCA n_components : 50\n",
      "================================================================================\n",
      "\n",
      "Last Recorded Config\n",
      "Run 1 | Selection Treshold : 0.014 | VIF Threshold : 20 | PCA n_Component : 50\n",
      "--------------------------------------------------------------------------------\n",
      "Step : PCA Based Extraction | Run : 1 | PCA n_components : 60\n",
      "================================================================================\n",
      "\n",
      "Last Recorded Config\n",
      "Run 1 | Selection Treshold : 0.014 | VIF Threshold : 20 | PCA n_Component : 60\n",
      "--------------------------------------------------------------------------------\n",
      "Step : PCA Based Extraction | Run : 1 | PCA n_components : 70\n",
      "================================================================================\n",
      "\n",
      "Last Recorded Config\n",
      "Run 1 | Selection Treshold : 0.014 | VIF Threshold : 20 | PCA n_Component : 70\n",
      "--------------------------------------------------------------------------------\n",
      "Step : PCA Based Extraction | Run : 1 | PCA n_components : 80\n",
      "================================================================================\n",
      "\n",
      "Last Recorded Config\n",
      "Run 1 | Selection Treshold : 0.014 | VIF Threshold : 20 | PCA n_Component : 80\n",
      "--------------------------------------------------------------------------------\n",
      "Step : PCA Based Extraction | Run : 1 | PCA n_components : 90\n",
      "================================================================================\n",
      "\n",
      "Last Recorded Config\n",
      "Run 1 | Selection Treshold : 0.014 | VIF Threshold : 20 | PCA n_Component : 90\n",
      "--------------------------------------------------------------------------------\n",
      "Step : PCA Based Extraction | Run : 1 | PCA n_components : 100\n",
      "================================================================================\n",
      "\n",
      "Last Recorded Config\n",
      "Run 1 | Selection Treshold : 0.014 | VIF Threshold : 20 | PCA n_Component : 100\n",
      "Step : Variance Inflation Threshold Based Selection | VIF Threshold : 15\n",
      "--------------------------------------------------------------------------------\n",
      "Step : PCA Based Extraction | Run : 1 | PCA n_components : 40\n",
      "================================================================================\n",
      "\n",
      "Last Recorded Config\n",
      "Run 1 | Selection Treshold : 0.014 | VIF Threshold : 15 | PCA n_Component : 40\n",
      "--------------------------------------------------------------------------------\n",
      "Step : PCA Based Extraction | Run : 1 | PCA n_components : 50\n",
      "================================================================================\n",
      "\n",
      "Last Recorded Config\n",
      "Run 1 | Selection Treshold : 0.014 | VIF Threshold : 15 | PCA n_Component : 50\n",
      "--------------------------------------------------------------------------------\n",
      "Step : PCA Based Extraction | Run : 1 | PCA n_components : 60\n",
      "================================================================================\n",
      "\n",
      "Last Recorded Config\n",
      "Run 1 | Selection Treshold : 0.014 | VIF Threshold : 15 | PCA n_Component : 60\n",
      "--------------------------------------------------------------------------------\n",
      "Step : PCA Based Extraction | Run : 1 | PCA n_components : 70\n",
      "================================================================================\n",
      "\n",
      "Last Recorded Config\n",
      "Run 1 | Selection Treshold : 0.014 | VIF Threshold : 15 | PCA n_Component : 70\n",
      "--------------------------------------------------------------------------------\n",
      "Step : PCA Based Extraction | Run : 1 | PCA n_components : 80\n",
      "================================================================================\n",
      "\n",
      "Last Recorded Config\n",
      "Run 1 | Selection Treshold : 0.014 | VIF Threshold : 15 | PCA n_Component : 80\n",
      "--------------------------------------------------------------------------------\n",
      "Step : PCA Based Extraction | Run : 1 | PCA n_components : 90\n",
      "================================================================================\n",
      "\n",
      "Last Recorded Config\n",
      "Run 1 | Selection Treshold : 0.014 | VIF Threshold : 15 | PCA n_Component : 90\n",
      "--------------------------------------------------------------------------------\n",
      "Step : PCA Based Extraction | Run : 1 | PCA n_components : 100\n",
      "================================================================================\n",
      "\n",
      "Last Recorded Config\n",
      "Run 1 | Selection Treshold : 0.014 | VIF Threshold : 15 | PCA n_Component : 100\n",
      "Step : Variance Inflation Threshold Based Selection | VIF Threshold : 30\n",
      "--------------------------------------------------------------------------------\n",
      "Step : PCA Based Extraction | Run : 2 | PCA n_components : 40\n",
      "================================================================================\n",
      "\n",
      "Last Recorded Config\n",
      "Run 2 | Selection Treshold : 0.014 | VIF Threshold : 30 | PCA n_Component : 40\n",
      "--------------------------------------------------------------------------------\n",
      "Step : PCA Based Extraction | Run : 2 | PCA n_components : 50\n",
      "================================================================================\n",
      "\n",
      "Last Recorded Config\n",
      "Run 2 | Selection Treshold : 0.014 | VIF Threshold : 30 | PCA n_Component : 50\n",
      "--------------------------------------------------------------------------------\n",
      "Step : PCA Based Extraction | Run : 2 | PCA n_components : 60\n",
      "================================================================================\n",
      "\n",
      "Last Recorded Config\n",
      "Run 2 | Selection Treshold : 0.014 | VIF Threshold : 30 | PCA n_Component : 60\n",
      "--------------------------------------------------------------------------------\n",
      "Step : PCA Based Extraction | Run : 2 | PCA n_components : 70\n",
      "================================================================================\n",
      "\n",
      "Last Recorded Config\n",
      "Run 2 | Selection Treshold : 0.014 | VIF Threshold : 30 | PCA n_Component : 70\n",
      "--------------------------------------------------------------------------------\n",
      "Step : PCA Based Extraction | Run : 2 | PCA n_components : 80\n",
      "================================================================================\n",
      "\n",
      "Last Recorded Config\n",
      "Run 2 | Selection Treshold : 0.014 | VIF Threshold : 30 | PCA n_Component : 80\n",
      "--------------------------------------------------------------------------------\n",
      "Step : PCA Based Extraction | Run : 2 | PCA n_components : 90\n",
      "================================================================================\n",
      "\n",
      "Last Recorded Config\n",
      "Run 2 | Selection Treshold : 0.014 | VIF Threshold : 30 | PCA n_Component : 90\n",
      "--------------------------------------------------------------------------------\n",
      "Step : PCA Based Extraction | Run : 2 | PCA n_components : 100\n",
      "================================================================================\n",
      "\n",
      "Last Recorded Config\n",
      "Run 2 | Selection Treshold : 0.014 | VIF Threshold : 30 | PCA n_Component : 100\n",
      "Step : Variance Inflation Threshold Based Selection | VIF Threshold : 25\n",
      "--------------------------------------------------------------------------------\n",
      "Step : PCA Based Extraction | Run : 2 | PCA n_components : 40\n",
      "================================================================================\n",
      "\n",
      "Last Recorded Config\n",
      "Run 2 | Selection Treshold : 0.014 | VIF Threshold : 25 | PCA n_Component : 40\n",
      "--------------------------------------------------------------------------------\n",
      "Step : PCA Based Extraction | Run : 2 | PCA n_components : 50\n",
      "================================================================================\n",
      "\n",
      "Last Recorded Config\n",
      "Run 2 | Selection Treshold : 0.014 | VIF Threshold : 25 | PCA n_Component : 50\n",
      "--------------------------------------------------------------------------------\n",
      "Step : PCA Based Extraction | Run : 2 | PCA n_components : 60\n",
      "================================================================================\n",
      "\n",
      "Last Recorded Config\n",
      "Run 2 | Selection Treshold : 0.014 | VIF Threshold : 25 | PCA n_Component : 60\n",
      "--------------------------------------------------------------------------------\n",
      "Step : PCA Based Extraction | Run : 2 | PCA n_components : 70\n",
      "================================================================================\n",
      "\n",
      "Last Recorded Config\n",
      "Run 2 | Selection Treshold : 0.014 | VIF Threshold : 25 | PCA n_Component : 70\n",
      "--------------------------------------------------------------------------------\n",
      "Step : PCA Based Extraction | Run : 2 | PCA n_components : 80\n",
      "================================================================================\n",
      "\n",
      "Last Recorded Config\n",
      "Run 2 | Selection Treshold : 0.014 | VIF Threshold : 25 | PCA n_Component : 80\n",
      "--------------------------------------------------------------------------------\n",
      "Step : PCA Based Extraction | Run : 2 | PCA n_components : 90\n",
      "================================================================================\n",
      "\n",
      "Last Recorded Config\n",
      "Run 2 | Selection Treshold : 0.014 | VIF Threshold : 25 | PCA n_Component : 90\n",
      "--------------------------------------------------------------------------------\n",
      "Step : PCA Based Extraction | Run : 2 | PCA n_components : 100\n",
      "================================================================================\n",
      "\n",
      "Last Recorded Config\n",
      "Run 2 | Selection Treshold : 0.014 | VIF Threshold : 25 | PCA n_Component : 100\n",
      "Step : Variance Inflation Threshold Based Selection | VIF Threshold : 20\n",
      "--------------------------------------------------------------------------------\n",
      "Step : PCA Based Extraction | Run : 2 | PCA n_components : 40\n",
      "================================================================================\n",
      "\n",
      "Last Recorded Config\n",
      "Run 2 | Selection Treshold : 0.014 | VIF Threshold : 20 | PCA n_Component : 40\n",
      "--------------------------------------------------------------------------------\n",
      "Step : PCA Based Extraction | Run : 2 | PCA n_components : 50\n",
      "================================================================================\n",
      "\n",
      "Last Recorded Config\n",
      "Run 2 | Selection Treshold : 0.014 | VIF Threshold : 20 | PCA n_Component : 50\n",
      "--------------------------------------------------------------------------------\n",
      "Step : PCA Based Extraction | Run : 2 | PCA n_components : 60\n",
      "================================================================================\n",
      "\n",
      "Last Recorded Config\n",
      "Run 2 | Selection Treshold : 0.014 | VIF Threshold : 20 | PCA n_Component : 60\n",
      "--------------------------------------------------------------------------------\n",
      "Step : PCA Based Extraction | Run : 2 | PCA n_components : 70\n",
      "================================================================================\n",
      "\n",
      "Last Recorded Config\n",
      "Run 2 | Selection Treshold : 0.014 | VIF Threshold : 20 | PCA n_Component : 70\n",
      "--------------------------------------------------------------------------------\n",
      "Step : PCA Based Extraction | Run : 2 | PCA n_components : 80\n",
      "================================================================================\n",
      "\n",
      "Last Recorded Config\n",
      "Run 2 | Selection Treshold : 0.014 | VIF Threshold : 20 | PCA n_Component : 80\n",
      "--------------------------------------------------------------------------------\n",
      "Step : PCA Based Extraction | Run : 2 | PCA n_components : 90\n",
      "================================================================================\n",
      "\n",
      "Last Recorded Config\n",
      "Run 2 | Selection Treshold : 0.014 | VIF Threshold : 20 | PCA n_Component : 90\n",
      "--------------------------------------------------------------------------------\n",
      "Step : PCA Based Extraction | Run : 2 | PCA n_components : 100\n",
      "================================================================================\n",
      "\n",
      "Last Recorded Config\n",
      "Run 2 | Selection Treshold : 0.014 | VIF Threshold : 20 | PCA n_Component : 100\n",
      "Step : Variance Inflation Threshold Based Selection | VIF Threshold : 15\n",
      "--------------------------------------------------------------------------------\n",
      "Step : PCA Based Extraction | Run : 2 | PCA n_components : 40\n",
      "================================================================================\n",
      "\n",
      "Last Recorded Config\n",
      "Run 2 | Selection Treshold : 0.014 | VIF Threshold : 15 | PCA n_Component : 40\n",
      "--------------------------------------------------------------------------------\n",
      "Step : PCA Based Extraction | Run : 2 | PCA n_components : 50\n",
      "================================================================================\n",
      "\n",
      "Last Recorded Config\n",
      "Run 2 | Selection Treshold : 0.014 | VIF Threshold : 15 | PCA n_Component : 50\n",
      "--------------------------------------------------------------------------------\n",
      "Step : PCA Based Extraction | Run : 2 | PCA n_components : 60\n",
      "================================================================================\n",
      "\n",
      "Last Recorded Config\n",
      "Run 2 | Selection Treshold : 0.014 | VIF Threshold : 15 | PCA n_Component : 60\n",
      "--------------------------------------------------------------------------------\n",
      "Step : PCA Based Extraction | Run : 2 | PCA n_components : 70\n",
      "================================================================================\n",
      "\n",
      "Last Recorded Config\n",
      "Run 2 | Selection Treshold : 0.014 | VIF Threshold : 15 | PCA n_Component : 70\n",
      "--------------------------------------------------------------------------------\n",
      "Step : PCA Based Extraction | Run : 2 | PCA n_components : 80\n",
      "================================================================================\n",
      "\n",
      "Last Recorded Config\n",
      "Run 2 | Selection Treshold : 0.014 | VIF Threshold : 15 | PCA n_Component : 80\n",
      "--------------------------------------------------------------------------------\n",
      "Step : PCA Based Extraction | Run : 2 | PCA n_components : 90\n",
      "================================================================================\n",
      "\n",
      "Last Recorded Config\n",
      "Run 2 | Selection Treshold : 0.014 | VIF Threshold : 15 | PCA n_Component : 90\n",
      "--------------------------------------------------------------------------------\n",
      "Step : PCA Based Extraction | Run : 2 | PCA n_components : 100\n",
      "================================================================================\n",
      "\n",
      "Last Recorded Config\n",
      "Run 2 | Selection Treshold : 0.014 | VIF Threshold : 15 | PCA n_Component : 100\n",
      "Step : Variance Inflation Threshold Based Selection | VIF Threshold : 30\n",
      "--------------------------------------------------------------------------------\n",
      "Step : PCA Based Extraction | Run : 3 | PCA n_components : 40\n",
      "================================================================================\n",
      "\n",
      "Last Recorded Config\n",
      "Run 3 | Selection Treshold : 0.014 | VIF Threshold : 30 | PCA n_Component : 40\n",
      "--------------------------------------------------------------------------------\n",
      "Step : PCA Based Extraction | Run : 3 | PCA n_components : 50\n",
      "================================================================================\n",
      "\n",
      "Last Recorded Config\n",
      "Run 3 | Selection Treshold : 0.014 | VIF Threshold : 30 | PCA n_Component : 50\n",
      "--------------------------------------------------------------------------------\n",
      "Step : PCA Based Extraction | Run : 3 | PCA n_components : 60\n",
      "================================================================================\n",
      "\n",
      "Last Recorded Config\n",
      "Run 3 | Selection Treshold : 0.014 | VIF Threshold : 30 | PCA n_Component : 60\n",
      "--------------------------------------------------------------------------------\n",
      "Step : PCA Based Extraction | Run : 3 | PCA n_components : 70\n",
      "================================================================================\n",
      "\n",
      "Last Recorded Config\n",
      "Run 3 | Selection Treshold : 0.014 | VIF Threshold : 30 | PCA n_Component : 70\n",
      "--------------------------------------------------------------------------------\n",
      "Step : PCA Based Extraction | Run : 3 | PCA n_components : 80\n",
      "================================================================================\n",
      "\n",
      "Last Recorded Config\n",
      "Run 3 | Selection Treshold : 0.014 | VIF Threshold : 30 | PCA n_Component : 80\n",
      "--------------------------------------------------------------------------------\n",
      "Step : PCA Based Extraction | Run : 3 | PCA n_components : 90\n",
      "================================================================================\n",
      "\n",
      "Last Recorded Config\n",
      "Run 3 | Selection Treshold : 0.014 | VIF Threshold : 30 | PCA n_Component : 90\n",
      "--------------------------------------------------------------------------------\n",
      "Step : PCA Based Extraction | Run : 3 | PCA n_components : 100\n",
      "================================================================================\n",
      "\n",
      "Last Recorded Config\n",
      "Run 3 | Selection Treshold : 0.014 | VIF Threshold : 30 | PCA n_Component : 100\n",
      "Step : Variance Inflation Threshold Based Selection | VIF Threshold : 25\n",
      "--------------------------------------------------------------------------------\n",
      "Step : PCA Based Extraction | Run : 3 | PCA n_components : 40\n",
      "================================================================================\n",
      "\n",
      "Last Recorded Config\n",
      "Run 3 | Selection Treshold : 0.014 | VIF Threshold : 25 | PCA n_Component : 40\n",
      "--------------------------------------------------------------------------------\n",
      "Step : PCA Based Extraction | Run : 3 | PCA n_components : 50\n",
      "================================================================================\n",
      "\n",
      "Last Recorded Config\n",
      "Run 3 | Selection Treshold : 0.014 | VIF Threshold : 25 | PCA n_Component : 50\n",
      "--------------------------------------------------------------------------------\n",
      "Step : PCA Based Extraction | Run : 3 | PCA n_components : 60\n",
      "================================================================================\n",
      "\n",
      "Last Recorded Config\n",
      "Run 3 | Selection Treshold : 0.014 | VIF Threshold : 25 | PCA n_Component : 60\n",
      "--------------------------------------------------------------------------------\n",
      "Step : PCA Based Extraction | Run : 3 | PCA n_components : 70\n",
      "================================================================================\n",
      "\n",
      "Last Recorded Config\n",
      "Run 3 | Selection Treshold : 0.014 | VIF Threshold : 25 | PCA n_Component : 70\n",
      "--------------------------------------------------------------------------------\n",
      "Step : PCA Based Extraction | Run : 3 | PCA n_components : 80\n",
      "================================================================================\n",
      "\n",
      "Last Recorded Config\n",
      "Run 3 | Selection Treshold : 0.014 | VIF Threshold : 25 | PCA n_Component : 80\n",
      "--------------------------------------------------------------------------------\n",
      "Step : PCA Based Extraction | Run : 3 | PCA n_components : 90\n",
      "================================================================================\n",
      "\n",
      "Last Recorded Config\n",
      "Run 3 | Selection Treshold : 0.014 | VIF Threshold : 25 | PCA n_Component : 90\n",
      "--------------------------------------------------------------------------------\n",
      "Step : PCA Based Extraction | Run : 3 | PCA n_components : 100\n",
      "================================================================================\n",
      "\n",
      "Last Recorded Config\n",
      "Run 3 | Selection Treshold : 0.014 | VIF Threshold : 25 | PCA n_Component : 100\n",
      "Step : Variance Inflation Threshold Based Selection | VIF Threshold : 20\n",
      "--------------------------------------------------------------------------------\n",
      "Step : PCA Based Extraction | Run : 3 | PCA n_components : 40\n",
      "================================================================================\n",
      "\n",
      "Last Recorded Config\n",
      "Run 3 | Selection Treshold : 0.014 | VIF Threshold : 20 | PCA n_Component : 40\n",
      "--------------------------------------------------------------------------------\n",
      "Step : PCA Based Extraction | Run : 3 | PCA n_components : 50\n",
      "================================================================================\n",
      "\n",
      "Last Recorded Config\n",
      "Run 3 | Selection Treshold : 0.014 | VIF Threshold : 20 | PCA n_Component : 50\n",
      "--------------------------------------------------------------------------------\n",
      "Step : PCA Based Extraction | Run : 3 | PCA n_components : 60\n",
      "================================================================================\n",
      "\n",
      "Last Recorded Config\n",
      "Run 3 | Selection Treshold : 0.014 | VIF Threshold : 20 | PCA n_Component : 60\n",
      "--------------------------------------------------------------------------------\n",
      "Step : PCA Based Extraction | Run : 3 | PCA n_components : 70\n",
      "================================================================================\n",
      "\n",
      "Last Recorded Config\n",
      "Run 3 | Selection Treshold : 0.014 | VIF Threshold : 20 | PCA n_Component : 70\n",
      "--------------------------------------------------------------------------------\n",
      "Step : PCA Based Extraction | Run : 3 | PCA n_components : 80\n",
      "================================================================================\n",
      "\n",
      "Last Recorded Config\n",
      "Run 3 | Selection Treshold : 0.014 | VIF Threshold : 20 | PCA n_Component : 80\n",
      "--------------------------------------------------------------------------------\n",
      "Step : PCA Based Extraction | Run : 3 | PCA n_components : 90\n",
      "================================================================================\n",
      "\n",
      "Last Recorded Config\n",
      "Run 3 | Selection Treshold : 0.014 | VIF Threshold : 20 | PCA n_Component : 90\n",
      "--------------------------------------------------------------------------------\n",
      "Step : PCA Based Extraction | Run : 3 | PCA n_components : 100\n",
      "================================================================================\n",
      "\n",
      "Last Recorded Config\n",
      "Run 3 | Selection Treshold : 0.014 | VIF Threshold : 20 | PCA n_Component : 100\n",
      "Step : Variance Inflation Threshold Based Selection | VIF Threshold : 15\n",
      "--------------------------------------------------------------------------------\n",
      "Step : PCA Based Extraction | Run : 3 | PCA n_components : 40\n",
      "================================================================================\n",
      "\n",
      "Last Recorded Config\n",
      "Run 3 | Selection Treshold : 0.014 | VIF Threshold : 15 | PCA n_Component : 40\n",
      "--------------------------------------------------------------------------------\n",
      "Step : PCA Based Extraction | Run : 3 | PCA n_components : 50\n",
      "================================================================================\n",
      "\n",
      "Last Recorded Config\n",
      "Run 3 | Selection Treshold : 0.014 | VIF Threshold : 15 | PCA n_Component : 50\n",
      "--------------------------------------------------------------------------------\n",
      "Step : PCA Based Extraction | Run : 3 | PCA n_components : 60\n",
      "================================================================================\n",
      "\n",
      "Last Recorded Config\n",
      "Run 3 | Selection Treshold : 0.014 | VIF Threshold : 15 | PCA n_Component : 60\n",
      "--------------------------------------------------------------------------------\n",
      "Step : PCA Based Extraction | Run : 3 | PCA n_components : 70\n",
      "================================================================================\n",
      "\n",
      "Last Recorded Config\n",
      "Run 3 | Selection Treshold : 0.014 | VIF Threshold : 15 | PCA n_Component : 70\n",
      "--------------------------------------------------------------------------------\n",
      "Step : PCA Based Extraction | Run : 3 | PCA n_components : 80\n",
      "================================================================================\n",
      "\n",
      "Last Recorded Config\n",
      "Run 3 | Selection Treshold : 0.014 | VIF Threshold : 15 | PCA n_Component : 80\n",
      "--------------------------------------------------------------------------------\n",
      "Step : PCA Based Extraction | Run : 3 | PCA n_components : 90\n",
      "================================================================================\n",
      "\n",
      "Last Recorded Config\n",
      "Run 3 | Selection Treshold : 0.014 | VIF Threshold : 15 | PCA n_Component : 90\n",
      "--------------------------------------------------------------------------------\n",
      "Step : PCA Based Extraction | Run : 3 | PCA n_components : 100\n",
      "================================================================================\n",
      "\n",
      "Last Recorded Config\n",
      "Run 3 | Selection Treshold : 0.014 | VIF Threshold : 15 | PCA n_Component : 100\n",
      "\n",
      "\n",
      "\n",
      "################################################################################\n",
      "Step : Variance Based Selection | Selection Threshold : 0.016\n",
      "Iteration 1\n",
      "Iteration 2\n",
      "Iteration 3\n",
      "✅ Cached X_temp at threshold 30 with 215 features\n",
      "Iteration 4\n",
      "Iteration 5\n",
      "✅ Cached X_temp at threshold 25 with 205 features\n",
      "Iteration 6\n",
      "Iteration 7\n",
      "Iteration 8\n",
      "✅ Cached X_temp at threshold 20 with 191 features\n",
      "Iteration 9\n",
      "Iteration 10\n",
      "Iteration 11\n",
      "Iteration 12\n",
      "Iteration 13\n",
      "Iteration 14\n",
      "Iteration 15\n",
      "Iteration 16\n",
      "✅ Cached X_temp at threshold 15 with 159 features\n",
      "********************************************************************************\n",
      "Step : Variance Inflation Threshold Based Selection | VIF Threshold : 30\n",
      "--------------------------------------------------------------------------------\n",
      "Step : PCA Based Extraction | Run : 1 | PCA n_components : 40\n",
      "================================================================================\n",
      "\n",
      "Last Recorded Config\n",
      "Run 1 | Selection Treshold : 0.016 | VIF Threshold : 30 | PCA n_Component : 40\n",
      "--------------------------------------------------------------------------------\n",
      "Step : PCA Based Extraction | Run : 1 | PCA n_components : 50\n",
      "================================================================================\n",
      "\n",
      "Last Recorded Config\n",
      "Run 1 | Selection Treshold : 0.016 | VIF Threshold : 30 | PCA n_Component : 50\n",
      "--------------------------------------------------------------------------------\n",
      "Step : PCA Based Extraction | Run : 1 | PCA n_components : 60\n",
      "================================================================================\n",
      "\n",
      "Last Recorded Config\n",
      "Run 1 | Selection Treshold : 0.016 | VIF Threshold : 30 | PCA n_Component : 60\n",
      "--------------------------------------------------------------------------------\n",
      "Step : PCA Based Extraction | Run : 1 | PCA n_components : 70\n",
      "================================================================================\n",
      "\n",
      "Last Recorded Config\n",
      "Run 1 | Selection Treshold : 0.016 | VIF Threshold : 30 | PCA n_Component : 70\n",
      "--------------------------------------------------------------------------------\n",
      "Step : PCA Based Extraction | Run : 1 | PCA n_components : 80\n",
      "================================================================================\n",
      "\n",
      "Last Recorded Config\n",
      "Run 1 | Selection Treshold : 0.016 | VIF Threshold : 30 | PCA n_Component : 80\n",
      "--------------------------------------------------------------------------------\n",
      "Step : PCA Based Extraction | Run : 1 | PCA n_components : 90\n",
      "================================================================================\n",
      "\n",
      "Last Recorded Config\n",
      "Run 1 | Selection Treshold : 0.016 | VIF Threshold : 30 | PCA n_Component : 90\n",
      "--------------------------------------------------------------------------------\n",
      "Step : PCA Based Extraction | Run : 1 | PCA n_components : 100\n",
      "================================================================================\n",
      "\n",
      "Last Recorded Config\n",
      "Run 1 | Selection Treshold : 0.016 | VIF Threshold : 30 | PCA n_Component : 100\n",
      "Step : Variance Inflation Threshold Based Selection | VIF Threshold : 25\n",
      "--------------------------------------------------------------------------------\n",
      "Step : PCA Based Extraction | Run : 1 | PCA n_components : 40\n",
      "================================================================================\n",
      "\n",
      "Last Recorded Config\n",
      "Run 1 | Selection Treshold : 0.016 | VIF Threshold : 25 | PCA n_Component : 40\n",
      "--------------------------------------------------------------------------------\n",
      "Step : PCA Based Extraction | Run : 1 | PCA n_components : 50\n",
      "================================================================================\n",
      "\n",
      "Last Recorded Config\n",
      "Run 1 | Selection Treshold : 0.016 | VIF Threshold : 25 | PCA n_Component : 50\n",
      "--------------------------------------------------------------------------------\n",
      "Step : PCA Based Extraction | Run : 1 | PCA n_components : 60\n",
      "================================================================================\n",
      "\n",
      "Last Recorded Config\n",
      "Run 1 | Selection Treshold : 0.016 | VIF Threshold : 25 | PCA n_Component : 60\n",
      "--------------------------------------------------------------------------------\n",
      "Step : PCA Based Extraction | Run : 1 | PCA n_components : 70\n",
      "================================================================================\n",
      "\n",
      "Last Recorded Config\n",
      "Run 1 | Selection Treshold : 0.016 | VIF Threshold : 25 | PCA n_Component : 70\n",
      "--------------------------------------------------------------------------------\n",
      "Step : PCA Based Extraction | Run : 1 | PCA n_components : 80\n",
      "================================================================================\n",
      "\n",
      "Last Recorded Config\n",
      "Run 1 | Selection Treshold : 0.016 | VIF Threshold : 25 | PCA n_Component : 80\n",
      "--------------------------------------------------------------------------------\n",
      "Step : PCA Based Extraction | Run : 1 | PCA n_components : 90\n",
      "================================================================================\n",
      "\n",
      "Last Recorded Config\n",
      "Run 1 | Selection Treshold : 0.016 | VIF Threshold : 25 | PCA n_Component : 90\n",
      "--------------------------------------------------------------------------------\n",
      "Step : PCA Based Extraction | Run : 1 | PCA n_components : 100\n",
      "================================================================================\n",
      "\n",
      "Last Recorded Config\n",
      "Run 1 | Selection Treshold : 0.016 | VIF Threshold : 25 | PCA n_Component : 100\n",
      "Step : Variance Inflation Threshold Based Selection | VIF Threshold : 20\n",
      "--------------------------------------------------------------------------------\n",
      "Step : PCA Based Extraction | Run : 1 | PCA n_components : 40\n",
      "================================================================================\n",
      "\n",
      "Last Recorded Config\n",
      "Run 1 | Selection Treshold : 0.016 | VIF Threshold : 20 | PCA n_Component : 40\n",
      "--------------------------------------------------------------------------------\n",
      "Step : PCA Based Extraction | Run : 1 | PCA n_components : 50\n",
      "================================================================================\n",
      "\n",
      "Last Recorded Config\n",
      "Run 1 | Selection Treshold : 0.016 | VIF Threshold : 20 | PCA n_Component : 50\n",
      "--------------------------------------------------------------------------------\n",
      "Step : PCA Based Extraction | Run : 1 | PCA n_components : 60\n",
      "================================================================================\n",
      "\n",
      "Last Recorded Config\n",
      "Run 1 | Selection Treshold : 0.016 | VIF Threshold : 20 | PCA n_Component : 60\n",
      "--------------------------------------------------------------------------------\n",
      "Step : PCA Based Extraction | Run : 1 | PCA n_components : 70\n",
      "================================================================================\n",
      "\n",
      "Last Recorded Config\n",
      "Run 1 | Selection Treshold : 0.016 | VIF Threshold : 20 | PCA n_Component : 70\n",
      "--------------------------------------------------------------------------------\n",
      "Step : PCA Based Extraction | Run : 1 | PCA n_components : 80\n",
      "================================================================================\n",
      "\n",
      "Last Recorded Config\n",
      "Run 1 | Selection Treshold : 0.016 | VIF Threshold : 20 | PCA n_Component : 80\n",
      "--------------------------------------------------------------------------------\n",
      "Step : PCA Based Extraction | Run : 1 | PCA n_components : 90\n",
      "================================================================================\n",
      "\n",
      "Last Recorded Config\n",
      "Run 1 | Selection Treshold : 0.016 | VIF Threshold : 20 | PCA n_Component : 90\n",
      "--------------------------------------------------------------------------------\n",
      "Step : PCA Based Extraction | Run : 1 | PCA n_components : 100\n",
      "================================================================================\n",
      "\n",
      "Last Recorded Config\n",
      "Run 1 | Selection Treshold : 0.016 | VIF Threshold : 20 | PCA n_Component : 100\n",
      "Step : Variance Inflation Threshold Based Selection | VIF Threshold : 15\n",
      "--------------------------------------------------------------------------------\n",
      "Step : PCA Based Extraction | Run : 1 | PCA n_components : 40\n",
      "================================================================================\n",
      "\n",
      "Last Recorded Config\n",
      "Run 1 | Selection Treshold : 0.016 | VIF Threshold : 15 | PCA n_Component : 40\n",
      "--------------------------------------------------------------------------------\n",
      "Step : PCA Based Extraction | Run : 1 | PCA n_components : 50\n",
      "================================================================================\n",
      "\n",
      "Last Recorded Config\n",
      "Run 1 | Selection Treshold : 0.016 | VIF Threshold : 15 | PCA n_Component : 50\n",
      "--------------------------------------------------------------------------------\n",
      "Step : PCA Based Extraction | Run : 1 | PCA n_components : 60\n",
      "================================================================================\n",
      "\n",
      "Last Recorded Config\n",
      "Run 1 | Selection Treshold : 0.016 | VIF Threshold : 15 | PCA n_Component : 60\n",
      "--------------------------------------------------------------------------------\n",
      "Step : PCA Based Extraction | Run : 1 | PCA n_components : 70\n",
      "================================================================================\n",
      "\n",
      "Last Recorded Config\n",
      "Run 1 | Selection Treshold : 0.016 | VIF Threshold : 15 | PCA n_Component : 70\n",
      "--------------------------------------------------------------------------------\n",
      "Step : PCA Based Extraction | Run : 1 | PCA n_components : 80\n",
      "================================================================================\n",
      "\n",
      "Last Recorded Config\n",
      "Run 1 | Selection Treshold : 0.016 | VIF Threshold : 15 | PCA n_Component : 80\n",
      "--------------------------------------------------------------------------------\n",
      "Step : PCA Based Extraction | Run : 1 | PCA n_components : 90\n",
      "================================================================================\n",
      "\n",
      "Last Recorded Config\n",
      "Run 1 | Selection Treshold : 0.016 | VIF Threshold : 15 | PCA n_Component : 90\n",
      "--------------------------------------------------------------------------------\n",
      "Step : PCA Based Extraction | Run : 1 | PCA n_components : 100\n",
      "================================================================================\n",
      "\n",
      "Last Recorded Config\n",
      "Run 1 | Selection Treshold : 0.016 | VIF Threshold : 15 | PCA n_Component : 100\n",
      "Step : Variance Inflation Threshold Based Selection | VIF Threshold : 30\n",
      "--------------------------------------------------------------------------------\n",
      "Step : PCA Based Extraction | Run : 2 | PCA n_components : 40\n",
      "================================================================================\n",
      "\n",
      "Last Recorded Config\n",
      "Run 2 | Selection Treshold : 0.016 | VIF Threshold : 30 | PCA n_Component : 40\n",
      "--------------------------------------------------------------------------------\n",
      "Step : PCA Based Extraction | Run : 2 | PCA n_components : 50\n",
      "================================================================================\n",
      "\n",
      "Last Recorded Config\n",
      "Run 2 | Selection Treshold : 0.016 | VIF Threshold : 30 | PCA n_Component : 50\n",
      "--------------------------------------------------------------------------------\n",
      "Step : PCA Based Extraction | Run : 2 | PCA n_components : 60\n",
      "================================================================================\n",
      "\n",
      "Last Recorded Config\n",
      "Run 2 | Selection Treshold : 0.016 | VIF Threshold : 30 | PCA n_Component : 60\n",
      "--------------------------------------------------------------------------------\n",
      "Step : PCA Based Extraction | Run : 2 | PCA n_components : 70\n",
      "================================================================================\n",
      "\n",
      "Last Recorded Config\n",
      "Run 2 | Selection Treshold : 0.016 | VIF Threshold : 30 | PCA n_Component : 70\n",
      "--------------------------------------------------------------------------------\n",
      "Step : PCA Based Extraction | Run : 2 | PCA n_components : 80\n",
      "================================================================================\n",
      "\n",
      "Last Recorded Config\n",
      "Run 2 | Selection Treshold : 0.016 | VIF Threshold : 30 | PCA n_Component : 80\n",
      "--------------------------------------------------------------------------------\n",
      "Step : PCA Based Extraction | Run : 2 | PCA n_components : 90\n",
      "================================================================================\n",
      "\n",
      "Last Recorded Config\n",
      "Run 2 | Selection Treshold : 0.016 | VIF Threshold : 30 | PCA n_Component : 90\n",
      "--------------------------------------------------------------------------------\n",
      "Step : PCA Based Extraction | Run : 2 | PCA n_components : 100\n",
      "================================================================================\n",
      "\n",
      "Last Recorded Config\n",
      "Run 2 | Selection Treshold : 0.016 | VIF Threshold : 30 | PCA n_Component : 100\n",
      "Step : Variance Inflation Threshold Based Selection | VIF Threshold : 25\n",
      "--------------------------------------------------------------------------------\n",
      "Step : PCA Based Extraction | Run : 2 | PCA n_components : 40\n",
      "================================================================================\n",
      "\n",
      "Last Recorded Config\n",
      "Run 2 | Selection Treshold : 0.016 | VIF Threshold : 25 | PCA n_Component : 40\n",
      "--------------------------------------------------------------------------------\n",
      "Step : PCA Based Extraction | Run : 2 | PCA n_components : 50\n",
      "================================================================================\n",
      "\n",
      "Last Recorded Config\n",
      "Run 2 | Selection Treshold : 0.016 | VIF Threshold : 25 | PCA n_Component : 50\n",
      "--------------------------------------------------------------------------------\n",
      "Step : PCA Based Extraction | Run : 2 | PCA n_components : 60\n",
      "================================================================================\n",
      "\n",
      "Last Recorded Config\n",
      "Run 2 | Selection Treshold : 0.016 | VIF Threshold : 25 | PCA n_Component : 60\n",
      "--------------------------------------------------------------------------------\n",
      "Step : PCA Based Extraction | Run : 2 | PCA n_components : 70\n",
      "================================================================================\n",
      "\n",
      "Last Recorded Config\n",
      "Run 2 | Selection Treshold : 0.016 | VIF Threshold : 25 | PCA n_Component : 70\n",
      "--------------------------------------------------------------------------------\n",
      "Step : PCA Based Extraction | Run : 2 | PCA n_components : 80\n",
      "================================================================================\n",
      "\n",
      "Last Recorded Config\n",
      "Run 2 | Selection Treshold : 0.016 | VIF Threshold : 25 | PCA n_Component : 80\n",
      "--------------------------------------------------------------------------------\n",
      "Step : PCA Based Extraction | Run : 2 | PCA n_components : 90\n",
      "================================================================================\n",
      "\n",
      "Last Recorded Config\n",
      "Run 2 | Selection Treshold : 0.016 | VIF Threshold : 25 | PCA n_Component : 90\n",
      "--------------------------------------------------------------------------------\n",
      "Step : PCA Based Extraction | Run : 2 | PCA n_components : 100\n",
      "================================================================================\n",
      "\n",
      "Last Recorded Config\n",
      "Run 2 | Selection Treshold : 0.016 | VIF Threshold : 25 | PCA n_Component : 100\n",
      "Step : Variance Inflation Threshold Based Selection | VIF Threshold : 20\n",
      "--------------------------------------------------------------------------------\n",
      "Step : PCA Based Extraction | Run : 2 | PCA n_components : 40\n",
      "================================================================================\n",
      "\n",
      "Last Recorded Config\n",
      "Run 2 | Selection Treshold : 0.016 | VIF Threshold : 20 | PCA n_Component : 40\n",
      "--------------------------------------------------------------------------------\n",
      "Step : PCA Based Extraction | Run : 2 | PCA n_components : 50\n",
      "================================================================================\n",
      "\n",
      "Last Recorded Config\n",
      "Run 2 | Selection Treshold : 0.016 | VIF Threshold : 20 | PCA n_Component : 50\n",
      "--------------------------------------------------------------------------------\n",
      "Step : PCA Based Extraction | Run : 2 | PCA n_components : 60\n",
      "================================================================================\n",
      "\n",
      "Last Recorded Config\n",
      "Run 2 | Selection Treshold : 0.016 | VIF Threshold : 20 | PCA n_Component : 60\n",
      "--------------------------------------------------------------------------------\n",
      "Step : PCA Based Extraction | Run : 2 | PCA n_components : 70\n",
      "================================================================================\n",
      "\n",
      "Last Recorded Config\n",
      "Run 2 | Selection Treshold : 0.016 | VIF Threshold : 20 | PCA n_Component : 70\n",
      "--------------------------------------------------------------------------------\n",
      "Step : PCA Based Extraction | Run : 2 | PCA n_components : 80\n",
      "================================================================================\n",
      "\n",
      "Last Recorded Config\n",
      "Run 2 | Selection Treshold : 0.016 | VIF Threshold : 20 | PCA n_Component : 80\n",
      "--------------------------------------------------------------------------------\n",
      "Step : PCA Based Extraction | Run : 2 | PCA n_components : 90\n",
      "================================================================================\n",
      "\n",
      "Last Recorded Config\n",
      "Run 2 | Selection Treshold : 0.016 | VIF Threshold : 20 | PCA n_Component : 90\n",
      "--------------------------------------------------------------------------------\n",
      "Step : PCA Based Extraction | Run : 2 | PCA n_components : 100\n",
      "================================================================================\n",
      "\n",
      "Last Recorded Config\n",
      "Run 2 | Selection Treshold : 0.016 | VIF Threshold : 20 | PCA n_Component : 100\n",
      "Step : Variance Inflation Threshold Based Selection | VIF Threshold : 15\n",
      "--------------------------------------------------------------------------------\n",
      "Step : PCA Based Extraction | Run : 2 | PCA n_components : 40\n",
      "================================================================================\n",
      "\n",
      "Last Recorded Config\n",
      "Run 2 | Selection Treshold : 0.016 | VIF Threshold : 15 | PCA n_Component : 40\n",
      "--------------------------------------------------------------------------------\n",
      "Step : PCA Based Extraction | Run : 2 | PCA n_components : 50\n",
      "================================================================================\n",
      "\n",
      "Last Recorded Config\n",
      "Run 2 | Selection Treshold : 0.016 | VIF Threshold : 15 | PCA n_Component : 50\n",
      "--------------------------------------------------------------------------------\n",
      "Step : PCA Based Extraction | Run : 2 | PCA n_components : 60\n",
      "================================================================================\n",
      "\n",
      "Last Recorded Config\n",
      "Run 2 | Selection Treshold : 0.016 | VIF Threshold : 15 | PCA n_Component : 60\n",
      "--------------------------------------------------------------------------------\n",
      "Step : PCA Based Extraction | Run : 2 | PCA n_components : 70\n",
      "================================================================================\n",
      "\n",
      "Last Recorded Config\n",
      "Run 2 | Selection Treshold : 0.016 | VIF Threshold : 15 | PCA n_Component : 70\n",
      "--------------------------------------------------------------------------------\n",
      "Step : PCA Based Extraction | Run : 2 | PCA n_components : 80\n",
      "================================================================================\n",
      "\n",
      "Last Recorded Config\n",
      "Run 2 | Selection Treshold : 0.016 | VIF Threshold : 15 | PCA n_Component : 80\n",
      "--------------------------------------------------------------------------------\n",
      "Step : PCA Based Extraction | Run : 2 | PCA n_components : 90\n",
      "================================================================================\n",
      "\n",
      "Last Recorded Config\n",
      "Run 2 | Selection Treshold : 0.016 | VIF Threshold : 15 | PCA n_Component : 90\n",
      "--------------------------------------------------------------------------------\n",
      "Step : PCA Based Extraction | Run : 2 | PCA n_components : 100\n",
      "================================================================================\n",
      "\n",
      "Last Recorded Config\n",
      "Run 2 | Selection Treshold : 0.016 | VIF Threshold : 15 | PCA n_Component : 100\n",
      "Step : Variance Inflation Threshold Based Selection | VIF Threshold : 30\n",
      "--------------------------------------------------------------------------------\n",
      "Step : PCA Based Extraction | Run : 3 | PCA n_components : 40\n",
      "================================================================================\n",
      "\n",
      "Last Recorded Config\n",
      "Run 3 | Selection Treshold : 0.016 | VIF Threshold : 30 | PCA n_Component : 40\n",
      "--------------------------------------------------------------------------------\n",
      "Step : PCA Based Extraction | Run : 3 | PCA n_components : 50\n",
      "================================================================================\n",
      "\n",
      "Last Recorded Config\n",
      "Run 3 | Selection Treshold : 0.016 | VIF Threshold : 30 | PCA n_Component : 50\n",
      "--------------------------------------------------------------------------------\n",
      "Step : PCA Based Extraction | Run : 3 | PCA n_components : 60\n",
      "================================================================================\n",
      "\n",
      "Last Recorded Config\n",
      "Run 3 | Selection Treshold : 0.016 | VIF Threshold : 30 | PCA n_Component : 60\n",
      "--------------------------------------------------------------------------------\n",
      "Step : PCA Based Extraction | Run : 3 | PCA n_components : 70\n",
      "================================================================================\n",
      "\n",
      "Last Recorded Config\n",
      "Run 3 | Selection Treshold : 0.016 | VIF Threshold : 30 | PCA n_Component : 70\n",
      "--------------------------------------------------------------------------------\n",
      "Step : PCA Based Extraction | Run : 3 | PCA n_components : 80\n",
      "================================================================================\n",
      "\n",
      "Last Recorded Config\n",
      "Run 3 | Selection Treshold : 0.016 | VIF Threshold : 30 | PCA n_Component : 80\n",
      "--------------------------------------------------------------------------------\n",
      "Step : PCA Based Extraction | Run : 3 | PCA n_components : 90\n",
      "================================================================================\n",
      "\n",
      "Last Recorded Config\n",
      "Run 3 | Selection Treshold : 0.016 | VIF Threshold : 30 | PCA n_Component : 90\n",
      "--------------------------------------------------------------------------------\n",
      "Step : PCA Based Extraction | Run : 3 | PCA n_components : 100\n",
      "================================================================================\n",
      "\n",
      "Last Recorded Config\n",
      "Run 3 | Selection Treshold : 0.016 | VIF Threshold : 30 | PCA n_Component : 100\n",
      "Step : Variance Inflation Threshold Based Selection | VIF Threshold : 25\n",
      "--------------------------------------------------------------------------------\n",
      "Step : PCA Based Extraction | Run : 3 | PCA n_components : 40\n",
      "================================================================================\n",
      "\n",
      "Last Recorded Config\n",
      "Run 3 | Selection Treshold : 0.016 | VIF Threshold : 25 | PCA n_Component : 40\n",
      "--------------------------------------------------------------------------------\n",
      "Step : PCA Based Extraction | Run : 3 | PCA n_components : 50\n",
      "================================================================================\n",
      "\n",
      "Last Recorded Config\n",
      "Run 3 | Selection Treshold : 0.016 | VIF Threshold : 25 | PCA n_Component : 50\n",
      "--------------------------------------------------------------------------------\n",
      "Step : PCA Based Extraction | Run : 3 | PCA n_components : 60\n",
      "================================================================================\n",
      "\n",
      "Last Recorded Config\n",
      "Run 3 | Selection Treshold : 0.016 | VIF Threshold : 25 | PCA n_Component : 60\n",
      "--------------------------------------------------------------------------------\n",
      "Step : PCA Based Extraction | Run : 3 | PCA n_components : 70\n",
      "================================================================================\n",
      "\n",
      "Last Recorded Config\n",
      "Run 3 | Selection Treshold : 0.016 | VIF Threshold : 25 | PCA n_Component : 70\n",
      "--------------------------------------------------------------------------------\n",
      "Step : PCA Based Extraction | Run : 3 | PCA n_components : 80\n",
      "================================================================================\n",
      "\n",
      "Last Recorded Config\n",
      "Run 3 | Selection Treshold : 0.016 | VIF Threshold : 25 | PCA n_Component : 80\n",
      "--------------------------------------------------------------------------------\n",
      "Step : PCA Based Extraction | Run : 3 | PCA n_components : 90\n",
      "================================================================================\n",
      "\n",
      "Last Recorded Config\n",
      "Run 3 | Selection Treshold : 0.016 | VIF Threshold : 25 | PCA n_Component : 90\n",
      "--------------------------------------------------------------------------------\n",
      "Step : PCA Based Extraction | Run : 3 | PCA n_components : 100\n",
      "================================================================================\n",
      "\n",
      "Last Recorded Config\n",
      "Run 3 | Selection Treshold : 0.016 | VIF Threshold : 25 | PCA n_Component : 100\n",
      "Step : Variance Inflation Threshold Based Selection | VIF Threshold : 20\n",
      "--------------------------------------------------------------------------------\n",
      "Step : PCA Based Extraction | Run : 3 | PCA n_components : 40\n",
      "================================================================================\n",
      "\n",
      "Last Recorded Config\n",
      "Run 3 | Selection Treshold : 0.016 | VIF Threshold : 20 | PCA n_Component : 40\n",
      "--------------------------------------------------------------------------------\n",
      "Step : PCA Based Extraction | Run : 3 | PCA n_components : 50\n",
      "================================================================================\n",
      "\n",
      "Last Recorded Config\n",
      "Run 3 | Selection Treshold : 0.016 | VIF Threshold : 20 | PCA n_Component : 50\n",
      "--------------------------------------------------------------------------------\n",
      "Step : PCA Based Extraction | Run : 3 | PCA n_components : 60\n",
      "================================================================================\n",
      "\n",
      "Last Recorded Config\n",
      "Run 3 | Selection Treshold : 0.016 | VIF Threshold : 20 | PCA n_Component : 60\n",
      "--------------------------------------------------------------------------------\n",
      "Step : PCA Based Extraction | Run : 3 | PCA n_components : 70\n",
      "================================================================================\n",
      "\n",
      "Last Recorded Config\n",
      "Run 3 | Selection Treshold : 0.016 | VIF Threshold : 20 | PCA n_Component : 70\n",
      "--------------------------------------------------------------------------------\n",
      "Step : PCA Based Extraction | Run : 3 | PCA n_components : 80\n",
      "================================================================================\n",
      "\n",
      "Last Recorded Config\n",
      "Run 3 | Selection Treshold : 0.016 | VIF Threshold : 20 | PCA n_Component : 80\n",
      "--------------------------------------------------------------------------------\n",
      "Step : PCA Based Extraction | Run : 3 | PCA n_components : 90\n",
      "================================================================================\n",
      "\n",
      "Last Recorded Config\n",
      "Run 3 | Selection Treshold : 0.016 | VIF Threshold : 20 | PCA n_Component : 90\n",
      "--------------------------------------------------------------------------------\n",
      "Step : PCA Based Extraction | Run : 3 | PCA n_components : 100\n",
      "================================================================================\n",
      "\n",
      "Last Recorded Config\n",
      "Run 3 | Selection Treshold : 0.016 | VIF Threshold : 20 | PCA n_Component : 100\n",
      "Step : Variance Inflation Threshold Based Selection | VIF Threshold : 15\n",
      "--------------------------------------------------------------------------------\n",
      "Step : PCA Based Extraction | Run : 3 | PCA n_components : 40\n",
      "================================================================================\n",
      "\n",
      "Last Recorded Config\n",
      "Run 3 | Selection Treshold : 0.016 | VIF Threshold : 15 | PCA n_Component : 40\n",
      "--------------------------------------------------------------------------------\n",
      "Step : PCA Based Extraction | Run : 3 | PCA n_components : 50\n",
      "================================================================================\n",
      "\n",
      "Last Recorded Config\n",
      "Run 3 | Selection Treshold : 0.016 | VIF Threshold : 15 | PCA n_Component : 50\n",
      "--------------------------------------------------------------------------------\n",
      "Step : PCA Based Extraction | Run : 3 | PCA n_components : 60\n",
      "================================================================================\n",
      "\n",
      "Last Recorded Config\n",
      "Run 3 | Selection Treshold : 0.016 | VIF Threshold : 15 | PCA n_Component : 60\n",
      "--------------------------------------------------------------------------------\n",
      "Step : PCA Based Extraction | Run : 3 | PCA n_components : 70\n",
      "================================================================================\n",
      "\n",
      "Last Recorded Config\n",
      "Run 3 | Selection Treshold : 0.016 | VIF Threshold : 15 | PCA n_Component : 70\n",
      "--------------------------------------------------------------------------------\n",
      "Step : PCA Based Extraction | Run : 3 | PCA n_components : 80\n",
      "================================================================================\n",
      "\n",
      "Last Recorded Config\n",
      "Run 3 | Selection Treshold : 0.016 | VIF Threshold : 15 | PCA n_Component : 80\n",
      "--------------------------------------------------------------------------------\n",
      "Step : PCA Based Extraction | Run : 3 | PCA n_components : 90\n",
      "================================================================================\n",
      "\n",
      "Last Recorded Config\n",
      "Run 3 | Selection Treshold : 0.016 | VIF Threshold : 15 | PCA n_Component : 90\n",
      "--------------------------------------------------------------------------------\n",
      "Step : PCA Based Extraction | Run : 3 | PCA n_components : 100\n",
      "================================================================================\n",
      "\n",
      "Last Recorded Config\n",
      "Run 3 | Selection Treshold : 0.016 | VIF Threshold : 15 | PCA n_Component : 100\n",
      "\n",
      "\n",
      "\n",
      "################################################################################\n",
      "Step : Variance Based Selection | Selection Threshold : 0.018\n",
      "Iteration 1\n",
      "Iteration 2\n",
      "✅ Cached X_temp at threshold 25 with 105 features\n",
      "✅ Cached X_temp at threshold 30 with 105 features\n",
      "Iteration 3\n",
      "Iteration 4\n",
      "✅ Cached X_temp at threshold 20 with 101 features\n",
      "Iteration 5\n",
      "Iteration 6\n",
      "Iteration 7\n",
      "Iteration 8\n",
      "✅ Cached X_temp at threshold 15 with 93 features\n",
      "********************************************************************************\n",
      "Step : Variance Inflation Threshold Based Selection | VIF Threshold : 25\n",
      "--------------------------------------------------------------------------------\n",
      "Step : PCA Based Extraction | Run : 1 | PCA n_components : 40\n",
      "================================================================================\n",
      "\n",
      "Last Recorded Config\n",
      "Run 1 | Selection Treshold : 0.018 | VIF Threshold : 25 | PCA n_Component : 40\n",
      "--------------------------------------------------------------------------------\n",
      "Step : PCA Based Extraction | Run : 1 | PCA n_components : 50\n",
      "================================================================================\n",
      "\n",
      "Last Recorded Config\n",
      "Run 1 | Selection Treshold : 0.018 | VIF Threshold : 25 | PCA n_Component : 50\n",
      "--------------------------------------------------------------------------------\n",
      "Step : PCA Based Extraction | Run : 1 | PCA n_components : 60\n",
      "================================================================================\n",
      "\n",
      "Last Recorded Config\n",
      "Run 1 | Selection Treshold : 0.018 | VIF Threshold : 25 | PCA n_Component : 60\n",
      "--------------------------------------------------------------------------------\n",
      "Step : PCA Based Extraction | Run : 1 | PCA n_components : 70\n",
      "================================================================================\n",
      "\n",
      "Last Recorded Config\n",
      "Run 1 | Selection Treshold : 0.018 | VIF Threshold : 25 | PCA n_Component : 70\n",
      "--------------------------------------------------------------------------------\n",
      "Step : PCA Based Extraction | Run : 1 | PCA n_components : 80\n",
      "================================================================================\n",
      "\n",
      "Last Recorded Config\n",
      "Run 1 | Selection Treshold : 0.018 | VIF Threshold : 25 | PCA n_Component : 80\n",
      "--------------------------------------------------------------------------------\n",
      "Step : PCA Based Extraction | Run : 1 | PCA n_components : 90\n",
      "================================================================================\n",
      "\n",
      "Last Recorded Config\n",
      "Run 1 | Selection Treshold : 0.018 | VIF Threshold : 25 | PCA n_Component : 90\n",
      "--------------------------------------------------------------------------------\n",
      "Step : PCA Based Extraction | Run : 1 | PCA n_components : 100\n",
      "================================================================================\n",
      "\n",
      "Last Recorded Config\n",
      "Run 1 | Selection Treshold : 0.018 | VIF Threshold : 25 | PCA n_Component : 100\n",
      "Step : Variance Inflation Threshold Based Selection | VIF Threshold : 30\n",
      "--------------------------------------------------------------------------------\n",
      "Step : PCA Based Extraction | Run : 1 | PCA n_components : 40\n",
      "================================================================================\n",
      "\n",
      "Last Recorded Config\n",
      "Run 1 | Selection Treshold : 0.018 | VIF Threshold : 30 | PCA n_Component : 40\n",
      "--------------------------------------------------------------------------------\n",
      "Step : PCA Based Extraction | Run : 1 | PCA n_components : 50\n",
      "================================================================================\n",
      "\n",
      "Last Recorded Config\n",
      "Run 1 | Selection Treshold : 0.018 | VIF Threshold : 30 | PCA n_Component : 50\n",
      "--------------------------------------------------------------------------------\n",
      "Step : PCA Based Extraction | Run : 1 | PCA n_components : 60\n",
      "================================================================================\n",
      "\n",
      "Last Recorded Config\n",
      "Run 1 | Selection Treshold : 0.018 | VIF Threshold : 30 | PCA n_Component : 60\n",
      "--------------------------------------------------------------------------------\n",
      "Step : PCA Based Extraction | Run : 1 | PCA n_components : 70\n",
      "================================================================================\n",
      "\n",
      "Last Recorded Config\n",
      "Run 1 | Selection Treshold : 0.018 | VIF Threshold : 30 | PCA n_Component : 70\n",
      "--------------------------------------------------------------------------------\n",
      "Step : PCA Based Extraction | Run : 1 | PCA n_components : 80\n",
      "================================================================================\n",
      "\n",
      "Last Recorded Config\n",
      "Run 1 | Selection Treshold : 0.018 | VIF Threshold : 30 | PCA n_Component : 80\n",
      "--------------------------------------------------------------------------------\n",
      "Step : PCA Based Extraction | Run : 1 | PCA n_components : 90\n",
      "================================================================================\n",
      "\n",
      "Last Recorded Config\n",
      "Run 1 | Selection Treshold : 0.018 | VIF Threshold : 30 | PCA n_Component : 90\n",
      "--------------------------------------------------------------------------------\n",
      "Step : PCA Based Extraction | Run : 1 | PCA n_components : 100\n",
      "================================================================================\n",
      "\n",
      "Last Recorded Config\n",
      "Run 1 | Selection Treshold : 0.018 | VIF Threshold : 30 | PCA n_Component : 100\n",
      "Step : Variance Inflation Threshold Based Selection | VIF Threshold : 20\n",
      "--------------------------------------------------------------------------------\n",
      "Step : PCA Based Extraction | Run : 1 | PCA n_components : 40\n",
      "================================================================================\n",
      "\n",
      "Last Recorded Config\n",
      "Run 1 | Selection Treshold : 0.018 | VIF Threshold : 20 | PCA n_Component : 40\n",
      "--------------------------------------------------------------------------------\n",
      "Step : PCA Based Extraction | Run : 1 | PCA n_components : 50\n",
      "================================================================================\n",
      "\n",
      "Last Recorded Config\n",
      "Run 1 | Selection Treshold : 0.018 | VIF Threshold : 20 | PCA n_Component : 50\n",
      "--------------------------------------------------------------------------------\n",
      "Step : PCA Based Extraction | Run : 1 | PCA n_components : 60\n",
      "================================================================================\n",
      "\n",
      "Last Recorded Config\n",
      "Run 1 | Selection Treshold : 0.018 | VIF Threshold : 20 | PCA n_Component : 60\n",
      "--------------------------------------------------------------------------------\n",
      "Step : PCA Based Extraction | Run : 1 | PCA n_components : 70\n",
      "================================================================================\n",
      "\n",
      "Last Recorded Config\n",
      "Run 1 | Selection Treshold : 0.018 | VIF Threshold : 20 | PCA n_Component : 70\n",
      "--------------------------------------------------------------------------------\n",
      "Step : PCA Based Extraction | Run : 1 | PCA n_components : 80\n",
      "================================================================================\n",
      "\n",
      "Last Recorded Config\n",
      "Run 1 | Selection Treshold : 0.018 | VIF Threshold : 20 | PCA n_Component : 80\n",
      "--------------------------------------------------------------------------------\n",
      "Step : PCA Based Extraction | Run : 1 | PCA n_components : 90\n",
      "================================================================================\n",
      "\n",
      "Last Recorded Config\n",
      "Run 1 | Selection Treshold : 0.018 | VIF Threshold : 20 | PCA n_Component : 90\n",
      "--------------------------------------------------------------------------------\n",
      "Step : PCA Based Extraction | Run : 1 | PCA n_components : 100\n",
      "================================================================================\n",
      "\n",
      "Last Recorded Config\n",
      "Run 1 | Selection Treshold : 0.018 | VIF Threshold : 20 | PCA n_Component : 100\n",
      "Step : Variance Inflation Threshold Based Selection | VIF Threshold : 15\n",
      "--------------------------------------------------------------------------------\n",
      "Step : PCA Based Extraction | Run : 1 | PCA n_components : 40\n",
      "================================================================================\n",
      "\n",
      "Last Recorded Config\n",
      "Run 1 | Selection Treshold : 0.018 | VIF Threshold : 15 | PCA n_Component : 40\n",
      "--------------------------------------------------------------------------------\n",
      "Step : PCA Based Extraction | Run : 1 | PCA n_components : 50\n",
      "================================================================================\n",
      "\n",
      "Last Recorded Config\n",
      "Run 1 | Selection Treshold : 0.018 | VIF Threshold : 15 | PCA n_Component : 50\n",
      "--------------------------------------------------------------------------------\n",
      "Step : PCA Based Extraction | Run : 1 | PCA n_components : 60\n",
      "================================================================================\n",
      "\n",
      "Last Recorded Config\n",
      "Run 1 | Selection Treshold : 0.018 | VIF Threshold : 15 | PCA n_Component : 60\n",
      "--------------------------------------------------------------------------------\n",
      "Step : PCA Based Extraction | Run : 1 | PCA n_components : 70\n",
      "================================================================================\n",
      "\n",
      "Last Recorded Config\n",
      "Run 1 | Selection Treshold : 0.018 | VIF Threshold : 15 | PCA n_Component : 70\n",
      "--------------------------------------------------------------------------------\n",
      "Step : PCA Based Extraction | Run : 1 | PCA n_components : 80\n",
      "================================================================================\n",
      "\n",
      "Last Recorded Config\n",
      "Run 1 | Selection Treshold : 0.018 | VIF Threshold : 15 | PCA n_Component : 80\n",
      "--------------------------------------------------------------------------------\n",
      "Step : PCA Based Extraction | Run : 1 | PCA n_components : 90\n",
      "================================================================================\n",
      "\n",
      "Last Recorded Config\n",
      "Run 1 | Selection Treshold : 0.018 | VIF Threshold : 15 | PCA n_Component : 90\n",
      "--------------------------------------------------------------------------------\n",
      "Step : PCA Based Extraction | Run : 1 | PCA n_components : 100\n",
      "Skipping PC count 100 | Low Feature Count | 93\n",
      "Step : Variance Inflation Threshold Based Selection | VIF Threshold : 25\n",
      "--------------------------------------------------------------------------------\n",
      "Step : PCA Based Extraction | Run : 2 | PCA n_components : 40\n",
      "================================================================================\n",
      "\n",
      "Last Recorded Config\n",
      "Run 2 | Selection Treshold : 0.018 | VIF Threshold : 25 | PCA n_Component : 40\n",
      "--------------------------------------------------------------------------------\n",
      "Step : PCA Based Extraction | Run : 2 | PCA n_components : 50\n",
      "================================================================================\n",
      "\n",
      "Last Recorded Config\n",
      "Run 2 | Selection Treshold : 0.018 | VIF Threshold : 25 | PCA n_Component : 50\n",
      "--------------------------------------------------------------------------------\n",
      "Step : PCA Based Extraction | Run : 2 | PCA n_components : 60\n",
      "================================================================================\n",
      "\n",
      "Last Recorded Config\n",
      "Run 2 | Selection Treshold : 0.018 | VIF Threshold : 25 | PCA n_Component : 60\n",
      "--------------------------------------------------------------------------------\n",
      "Step : PCA Based Extraction | Run : 2 | PCA n_components : 70\n",
      "================================================================================\n",
      "\n",
      "Last Recorded Config\n",
      "Run 2 | Selection Treshold : 0.018 | VIF Threshold : 25 | PCA n_Component : 70\n",
      "--------------------------------------------------------------------------------\n",
      "Step : PCA Based Extraction | Run : 2 | PCA n_components : 80\n",
      "================================================================================\n",
      "\n",
      "Last Recorded Config\n",
      "Run 2 | Selection Treshold : 0.018 | VIF Threshold : 25 | PCA n_Component : 80\n",
      "--------------------------------------------------------------------------------\n",
      "Step : PCA Based Extraction | Run : 2 | PCA n_components : 90\n",
      "================================================================================\n",
      "\n",
      "Last Recorded Config\n",
      "Run 2 | Selection Treshold : 0.018 | VIF Threshold : 25 | PCA n_Component : 90\n",
      "--------------------------------------------------------------------------------\n",
      "Step : PCA Based Extraction | Run : 2 | PCA n_components : 100\n",
      "================================================================================\n",
      "\n",
      "Last Recorded Config\n",
      "Run 2 | Selection Treshold : 0.018 | VIF Threshold : 25 | PCA n_Component : 100\n",
      "Step : Variance Inflation Threshold Based Selection | VIF Threshold : 30\n",
      "--------------------------------------------------------------------------------\n",
      "Step : PCA Based Extraction | Run : 2 | PCA n_components : 40\n",
      "================================================================================\n",
      "\n",
      "Last Recorded Config\n",
      "Run 2 | Selection Treshold : 0.018 | VIF Threshold : 30 | PCA n_Component : 40\n",
      "--------------------------------------------------------------------------------\n",
      "Step : PCA Based Extraction | Run : 2 | PCA n_components : 50\n",
      "================================================================================\n",
      "\n",
      "Last Recorded Config\n",
      "Run 2 | Selection Treshold : 0.018 | VIF Threshold : 30 | PCA n_Component : 50\n",
      "--------------------------------------------------------------------------------\n",
      "Step : PCA Based Extraction | Run : 2 | PCA n_components : 60\n",
      "================================================================================\n",
      "\n",
      "Last Recorded Config\n",
      "Run 2 | Selection Treshold : 0.018 | VIF Threshold : 30 | PCA n_Component : 60\n",
      "--------------------------------------------------------------------------------\n",
      "Step : PCA Based Extraction | Run : 2 | PCA n_components : 70\n",
      "================================================================================\n",
      "\n",
      "Last Recorded Config\n",
      "Run 2 | Selection Treshold : 0.018 | VIF Threshold : 30 | PCA n_Component : 70\n",
      "--------------------------------------------------------------------------------\n",
      "Step : PCA Based Extraction | Run : 2 | PCA n_components : 80\n",
      "================================================================================\n",
      "\n",
      "Last Recorded Config\n",
      "Run 2 | Selection Treshold : 0.018 | VIF Threshold : 30 | PCA n_Component : 80\n",
      "--------------------------------------------------------------------------------\n",
      "Step : PCA Based Extraction | Run : 2 | PCA n_components : 90\n",
      "================================================================================\n",
      "\n",
      "Last Recorded Config\n",
      "Run 2 | Selection Treshold : 0.018 | VIF Threshold : 30 | PCA n_Component : 90\n",
      "--------------------------------------------------------------------------------\n",
      "Step : PCA Based Extraction | Run : 2 | PCA n_components : 100\n",
      "================================================================================\n",
      "\n",
      "Last Recorded Config\n",
      "Run 2 | Selection Treshold : 0.018 | VIF Threshold : 30 | PCA n_Component : 100\n",
      "Step : Variance Inflation Threshold Based Selection | VIF Threshold : 20\n",
      "--------------------------------------------------------------------------------\n",
      "Step : PCA Based Extraction | Run : 2 | PCA n_components : 40\n",
      "================================================================================\n",
      "\n",
      "Last Recorded Config\n",
      "Run 2 | Selection Treshold : 0.018 | VIF Threshold : 20 | PCA n_Component : 40\n",
      "--------------------------------------------------------------------------------\n",
      "Step : PCA Based Extraction | Run : 2 | PCA n_components : 50\n",
      "================================================================================\n",
      "\n",
      "Last Recorded Config\n",
      "Run 2 | Selection Treshold : 0.018 | VIF Threshold : 20 | PCA n_Component : 50\n",
      "--------------------------------------------------------------------------------\n",
      "Step : PCA Based Extraction | Run : 2 | PCA n_components : 60\n",
      "================================================================================\n",
      "\n",
      "Last Recorded Config\n",
      "Run 2 | Selection Treshold : 0.018 | VIF Threshold : 20 | PCA n_Component : 60\n",
      "--------------------------------------------------------------------------------\n",
      "Step : PCA Based Extraction | Run : 2 | PCA n_components : 70\n",
      "================================================================================\n",
      "\n",
      "Last Recorded Config\n",
      "Run 2 | Selection Treshold : 0.018 | VIF Threshold : 20 | PCA n_Component : 70\n",
      "--------------------------------------------------------------------------------\n",
      "Step : PCA Based Extraction | Run : 2 | PCA n_components : 80\n",
      "================================================================================\n",
      "\n",
      "Last Recorded Config\n",
      "Run 2 | Selection Treshold : 0.018 | VIF Threshold : 20 | PCA n_Component : 80\n",
      "--------------------------------------------------------------------------------\n",
      "Step : PCA Based Extraction | Run : 2 | PCA n_components : 90\n",
      "================================================================================\n",
      "\n",
      "Last Recorded Config\n",
      "Run 2 | Selection Treshold : 0.018 | VIF Threshold : 20 | PCA n_Component : 90\n",
      "--------------------------------------------------------------------------------\n",
      "Step : PCA Based Extraction | Run : 2 | PCA n_components : 100\n",
      "================================================================================\n",
      "\n",
      "Last Recorded Config\n",
      "Run 2 | Selection Treshold : 0.018 | VIF Threshold : 20 | PCA n_Component : 100\n",
      "Step : Variance Inflation Threshold Based Selection | VIF Threshold : 15\n",
      "--------------------------------------------------------------------------------\n",
      "Step : PCA Based Extraction | Run : 2 | PCA n_components : 40\n",
      "================================================================================\n",
      "\n",
      "Last Recorded Config\n",
      "Run 2 | Selection Treshold : 0.018 | VIF Threshold : 15 | PCA n_Component : 40\n",
      "--------------------------------------------------------------------------------\n",
      "Step : PCA Based Extraction | Run : 2 | PCA n_components : 50\n",
      "================================================================================\n",
      "\n",
      "Last Recorded Config\n",
      "Run 2 | Selection Treshold : 0.018 | VIF Threshold : 15 | PCA n_Component : 50\n",
      "--------------------------------------------------------------------------------\n",
      "Step : PCA Based Extraction | Run : 2 | PCA n_components : 60\n",
      "================================================================================\n",
      "\n",
      "Last Recorded Config\n",
      "Run 2 | Selection Treshold : 0.018 | VIF Threshold : 15 | PCA n_Component : 60\n",
      "--------------------------------------------------------------------------------\n",
      "Step : PCA Based Extraction | Run : 2 | PCA n_components : 70\n",
      "================================================================================\n",
      "\n",
      "Last Recorded Config\n",
      "Run 2 | Selection Treshold : 0.018 | VIF Threshold : 15 | PCA n_Component : 70\n",
      "--------------------------------------------------------------------------------\n",
      "Step : PCA Based Extraction | Run : 2 | PCA n_components : 80\n",
      "================================================================================\n",
      "\n",
      "Last Recorded Config\n",
      "Run 2 | Selection Treshold : 0.018 | VIF Threshold : 15 | PCA n_Component : 80\n",
      "--------------------------------------------------------------------------------\n",
      "Step : PCA Based Extraction | Run : 2 | PCA n_components : 90\n",
      "================================================================================\n",
      "\n",
      "Last Recorded Config\n",
      "Run 2 | Selection Treshold : 0.018 | VIF Threshold : 15 | PCA n_Component : 90\n",
      "--------------------------------------------------------------------------------\n",
      "Step : PCA Based Extraction | Run : 2 | PCA n_components : 100\n",
      "Skipping PC count 100 | Low Feature Count | 93\n",
      "Step : Variance Inflation Threshold Based Selection | VIF Threshold : 25\n",
      "--------------------------------------------------------------------------------\n",
      "Step : PCA Based Extraction | Run : 3 | PCA n_components : 40\n",
      "================================================================================\n",
      "\n",
      "Last Recorded Config\n",
      "Run 3 | Selection Treshold : 0.018 | VIF Threshold : 25 | PCA n_Component : 40\n",
      "--------------------------------------------------------------------------------\n",
      "Step : PCA Based Extraction | Run : 3 | PCA n_components : 50\n",
      "================================================================================\n",
      "\n",
      "Last Recorded Config\n",
      "Run 3 | Selection Treshold : 0.018 | VIF Threshold : 25 | PCA n_Component : 50\n",
      "--------------------------------------------------------------------------------\n",
      "Step : PCA Based Extraction | Run : 3 | PCA n_components : 60\n",
      "================================================================================\n",
      "\n",
      "Last Recorded Config\n",
      "Run 3 | Selection Treshold : 0.018 | VIF Threshold : 25 | PCA n_Component : 60\n",
      "--------------------------------------------------------------------------------\n",
      "Step : PCA Based Extraction | Run : 3 | PCA n_components : 70\n",
      "================================================================================\n",
      "\n",
      "Last Recorded Config\n",
      "Run 3 | Selection Treshold : 0.018 | VIF Threshold : 25 | PCA n_Component : 70\n",
      "--------------------------------------------------------------------------------\n",
      "Step : PCA Based Extraction | Run : 3 | PCA n_components : 80\n",
      "================================================================================\n",
      "\n",
      "Last Recorded Config\n",
      "Run 3 | Selection Treshold : 0.018 | VIF Threshold : 25 | PCA n_Component : 80\n",
      "--------------------------------------------------------------------------------\n",
      "Step : PCA Based Extraction | Run : 3 | PCA n_components : 90\n",
      "================================================================================\n",
      "\n",
      "Last Recorded Config\n",
      "Run 3 | Selection Treshold : 0.018 | VIF Threshold : 25 | PCA n_Component : 90\n",
      "--------------------------------------------------------------------------------\n",
      "Step : PCA Based Extraction | Run : 3 | PCA n_components : 100\n",
      "================================================================================\n",
      "\n",
      "Last Recorded Config\n",
      "Run 3 | Selection Treshold : 0.018 | VIF Threshold : 25 | PCA n_Component : 100\n",
      "Step : Variance Inflation Threshold Based Selection | VIF Threshold : 30\n",
      "--------------------------------------------------------------------------------\n",
      "Step : PCA Based Extraction | Run : 3 | PCA n_components : 40\n",
      "================================================================================\n",
      "\n",
      "Last Recorded Config\n",
      "Run 3 | Selection Treshold : 0.018 | VIF Threshold : 30 | PCA n_Component : 40\n",
      "--------------------------------------------------------------------------------\n",
      "Step : PCA Based Extraction | Run : 3 | PCA n_components : 50\n",
      "================================================================================\n",
      "\n",
      "Last Recorded Config\n",
      "Run 3 | Selection Treshold : 0.018 | VIF Threshold : 30 | PCA n_Component : 50\n",
      "--------------------------------------------------------------------------------\n",
      "Step : PCA Based Extraction | Run : 3 | PCA n_components : 60\n",
      "================================================================================\n",
      "\n",
      "Last Recorded Config\n",
      "Run 3 | Selection Treshold : 0.018 | VIF Threshold : 30 | PCA n_Component : 60\n",
      "--------------------------------------------------------------------------------\n",
      "Step : PCA Based Extraction | Run : 3 | PCA n_components : 70\n",
      "================================================================================\n",
      "\n",
      "Last Recorded Config\n",
      "Run 3 | Selection Treshold : 0.018 | VIF Threshold : 30 | PCA n_Component : 70\n",
      "--------------------------------------------------------------------------------\n",
      "Step : PCA Based Extraction | Run : 3 | PCA n_components : 80\n",
      "================================================================================\n",
      "\n",
      "Last Recorded Config\n",
      "Run 3 | Selection Treshold : 0.018 | VIF Threshold : 30 | PCA n_Component : 80\n",
      "--------------------------------------------------------------------------------\n",
      "Step : PCA Based Extraction | Run : 3 | PCA n_components : 90\n",
      "================================================================================\n",
      "\n",
      "Last Recorded Config\n",
      "Run 3 | Selection Treshold : 0.018 | VIF Threshold : 30 | PCA n_Component : 90\n",
      "--------------------------------------------------------------------------------\n",
      "Step : PCA Based Extraction | Run : 3 | PCA n_components : 100\n",
      "================================================================================\n",
      "\n",
      "Last Recorded Config\n",
      "Run 3 | Selection Treshold : 0.018 | VIF Threshold : 30 | PCA n_Component : 100\n",
      "Step : Variance Inflation Threshold Based Selection | VIF Threshold : 20\n",
      "--------------------------------------------------------------------------------\n",
      "Step : PCA Based Extraction | Run : 3 | PCA n_components : 40\n",
      "================================================================================\n",
      "\n",
      "Last Recorded Config\n",
      "Run 3 | Selection Treshold : 0.018 | VIF Threshold : 20 | PCA n_Component : 40\n",
      "--------------------------------------------------------------------------------\n",
      "Step : PCA Based Extraction | Run : 3 | PCA n_components : 50\n",
      "================================================================================\n",
      "\n",
      "Last Recorded Config\n",
      "Run 3 | Selection Treshold : 0.018 | VIF Threshold : 20 | PCA n_Component : 50\n",
      "--------------------------------------------------------------------------------\n",
      "Step : PCA Based Extraction | Run : 3 | PCA n_components : 60\n",
      "================================================================================\n",
      "\n",
      "Last Recorded Config\n",
      "Run 3 | Selection Treshold : 0.018 | VIF Threshold : 20 | PCA n_Component : 60\n",
      "--------------------------------------------------------------------------------\n",
      "Step : PCA Based Extraction | Run : 3 | PCA n_components : 70\n",
      "================================================================================\n",
      "\n",
      "Last Recorded Config\n",
      "Run 3 | Selection Treshold : 0.018 | VIF Threshold : 20 | PCA n_Component : 70\n",
      "--------------------------------------------------------------------------------\n",
      "Step : PCA Based Extraction | Run : 3 | PCA n_components : 80\n",
      "================================================================================\n",
      "\n",
      "Last Recorded Config\n",
      "Run 3 | Selection Treshold : 0.018 | VIF Threshold : 20 | PCA n_Component : 80\n",
      "--------------------------------------------------------------------------------\n",
      "Step : PCA Based Extraction | Run : 3 | PCA n_components : 90\n",
      "================================================================================\n",
      "\n",
      "Last Recorded Config\n",
      "Run 3 | Selection Treshold : 0.018 | VIF Threshold : 20 | PCA n_Component : 90\n",
      "--------------------------------------------------------------------------------\n",
      "Step : PCA Based Extraction | Run : 3 | PCA n_components : 100\n",
      "================================================================================\n",
      "\n",
      "Last Recorded Config\n",
      "Run 3 | Selection Treshold : 0.018 | VIF Threshold : 20 | PCA n_Component : 100\n",
      "Step : Variance Inflation Threshold Based Selection | VIF Threshold : 15\n",
      "--------------------------------------------------------------------------------\n",
      "Step : PCA Based Extraction | Run : 3 | PCA n_components : 40\n",
      "================================================================================\n",
      "\n",
      "Last Recorded Config\n",
      "Run 3 | Selection Treshold : 0.018 | VIF Threshold : 15 | PCA n_Component : 40\n",
      "--------------------------------------------------------------------------------\n",
      "Step : PCA Based Extraction | Run : 3 | PCA n_components : 50\n",
      "================================================================================\n",
      "\n",
      "Last Recorded Config\n",
      "Run 3 | Selection Treshold : 0.018 | VIF Threshold : 15 | PCA n_Component : 50\n",
      "--------------------------------------------------------------------------------\n",
      "Step : PCA Based Extraction | Run : 3 | PCA n_components : 60\n",
      "================================================================================\n",
      "\n",
      "Last Recorded Config\n",
      "Run 3 | Selection Treshold : 0.018 | VIF Threshold : 15 | PCA n_Component : 60\n",
      "--------------------------------------------------------------------------------\n",
      "Step : PCA Based Extraction | Run : 3 | PCA n_components : 70\n",
      "================================================================================\n",
      "\n",
      "Last Recorded Config\n",
      "Run 3 | Selection Treshold : 0.018 | VIF Threshold : 15 | PCA n_Component : 70\n",
      "--------------------------------------------------------------------------------\n",
      "Step : PCA Based Extraction | Run : 3 | PCA n_components : 80\n",
      "================================================================================\n",
      "\n",
      "Last Recorded Config\n",
      "Run 3 | Selection Treshold : 0.018 | VIF Threshold : 15 | PCA n_Component : 80\n",
      "--------------------------------------------------------------------------------\n",
      "Step : PCA Based Extraction | Run : 3 | PCA n_components : 90\n",
      "================================================================================\n",
      "\n",
      "Last Recorded Config\n",
      "Run 3 | Selection Treshold : 0.018 | VIF Threshold : 15 | PCA n_Component : 90\n",
      "--------------------------------------------------------------------------------\n",
      "Step : PCA Based Extraction | Run : 3 | PCA n_components : 100\n",
      "Skipping PC count 100 | Low Feature Count | 93\n"
     ]
    }
   ],
   "source": [
    "X = extracted_data.copy()\n",
    "y = encoded_labels\n",
    "# Apply MinMax scaling\n",
    "scaler = MinMaxScaler()\n",
    "X_scaled = pd.DataFrame(scaler.fit_transform(X), columns=X.columns)\n",
    "del X\n",
    "vif_thresholds = [15,20,25,30]\n",
    "selection_thresholds = [0.014,0.016,0.018]\n",
    "pca_n_component_list = list(range(40,101,10))\n",
    "# vif_thresholds = [100]\n",
    "# selection_thresholds = [0.022]\n",
    "# pca_n_component_list = [30]\n",
    "for selection_threshold in selection_thresholds:\n",
    "    print(\"\\n\\n\")\n",
    "    print(\"##\"*40)\n",
    "    var_thresh = VarianceThreshold(threshold=selection_threshold)\n",
    "    X_var_filtered = var_thresh.fit_transform(X_scaled)\n",
    "    kept_columns = X_scaled.columns[var_thresh.get_support()]\n",
    "    X_var_selected = pd.DataFrame(X_var_filtered, columns=kept_columns)\n",
    "    print(f\"Step : Variance Based Selection | Selection Threshold : {selection_threshold}\")\n",
    "    # print(\"**\" * 40)\n",
    "    # print(f\"{X_var_selected.shape[1]} features selected\")\n",
    "    vif_xtemp = compute_variance_inflation_threshold(X_scaled=X_var_selected,vif_thresholds=vif_thresholds) \n",
    "    del X_var_selected\n",
    "    print(\"**\" * 40)\n",
    "    for run in range(3):\n",
    "        for vif_thresh, X_temp in vif_xtemp.items():\n",
    "            # Step 3: Train/Test and Evaluate\n",
    "            print(f\"Step : Variance Inflation Threshold Based Selection | VIF Threshold : {vif_thresh}\")\n",
    "            X_train, X_test, y_train, y_test = train_test_split(X_temp, y, test_size=0.2, random_state=(run*10)+2)\n",
    "            scaler = StandardScaler()\n",
    "            scaler.fit(X_train)  # no reassignment needed\n",
    "            X_train_scaled = scaler.transform(X_train)\n",
    "            X_test_scaled = scaler.transform(X_test)\n",
    "            for pc_count in pca_n_component_list:\n",
    "                print(\"--\"*40)\n",
    "                print(f\"Step : PCA Based Extraction | Run : {run+1} | PCA n_components : {pc_count}\")\n",
    "                if pc_count > min(len(X_train), len(X_train.columns)):\n",
    "                    print(f\"Skipping PC count {pc_count} | Low Feature Count | {min(len(X_train), len(X_train.columns))}\")\n",
    "                    continue\n",
    "                pca_transformer = PCA(n_components=pc_count)\n",
    "                pca_transformer.fit(X_train_scaled)\n",
    "\n",
    "                X_train_scaled_pca = pca_transformer.transform(X_train_scaled)\n",
    "                X_test_scaled_pca = pca_transformer.transform(X_test_scaled)\n",
    "\n",
    "                model = SVC(kernel='rbf', C=3, class_weight='balanced', gamma='scale',random_state=(run*10)+3)\n",
    "                model.fit(X_train_scaled_pca,y_train)\n",
    "                y_pred = model.predict(X_test_scaled_pca)\n",
    "                y_pred_train = model.predict(X_train_scaled_pca)        \n",
    "\n",
    "                # Output results\n",
    "                results.append({\n",
    "                    \"experiment_number\":run+1,\n",
    "                    \"Selection Threshold\": selection_threshold,\n",
    "                    \"VIFThreshold\": vif_thresh,\n",
    "                    \"PCA_n_Components\":pc_count,\n",
    "                    'train_f1_macro':f1_score(y_train, y_pred_train, average='macro'),\n",
    "                    'test_f1_macro':f1_score(y_test, y_pred, average='macro'),\n",
    "                    'test_balanced_accuracy': balanced_accuracy_score(y_test, y_pred),\n",
    "                    'test_f1_weighted': f1_score(y_test, y_pred, average='weighted'),\n",
    "                    \"precision_weighted\" : precision_score(y_test, y_pred, average='weighted'),\n",
    "                    \"recall_weighted\" : recall_score(y_test, y_pred, average='weighted'),\n",
    "                })\n",
    "                print(\"==\"*40)\n",
    "                print(\"\\nLast Recorded Config\")\n",
    "                print(f\"Run {run+1} | Selection Treshold : {selection_threshold} | VIF Threshold : {vif_thresh} | PCA n_Component : {pc_count}\")\n"
   ]
  },
  {
   "cell_type": "code",
   "execution_count": 171,
   "id": "fb16ee30",
   "metadata": {},
   "outputs": [
    {
     "ename": "ZeroDivisionError",
     "evalue": "division by zero",
     "output_type": "error",
     "traceback": [
      "\u001b[31m---------------------------------------------------------------------------\u001b[39m",
      "\u001b[31mZeroDivisionError\u001b[39m                         Traceback (most recent call last)",
      "\u001b[36mCell\u001b[39m\u001b[36m \u001b[39m\u001b[32mIn[171]\u001b[39m\u001b[32m, line 1\u001b[39m\n\u001b[32m----> \u001b[39m\u001b[32m1\u001b[39m \u001b[32;43m1\u001b[39;49m\u001b[43m/\u001b[49m\u001b[32;43m0\u001b[39;49m\n",
      "\u001b[31mZeroDivisionError\u001b[39m: division by zero"
     ]
    }
   ],
   "source": [
    "1/0"
   ]
  },
  {
   "cell_type": "code",
   "execution_count": 173,
   "id": "fe5d1e62",
   "metadata": {},
   "outputs": [],
   "source": [
    "df= pd.DataFrame(results)\n",
    "df.to_csv(\"results/Combination_pca_over_vif_multi_run.csv\")"
   ]
  },
  {
   "cell_type": "code",
   "execution_count": 174,
   "id": "6b056f5b",
   "metadata": {},
   "outputs": [],
   "source": [
    "chart_df = pd.read_csv(\"results/Combination_pca_over_vif_multi_run.csv\")"
   ]
  },
  {
   "cell_type": "code",
   "execution_count": 175,
   "id": "526a7038",
   "metadata": {},
   "outputs": [],
   "source": [
    "chart_df.drop(columns=\"Unnamed: 0\",inplace=True)"
   ]
  },
  {
   "cell_type": "code",
   "execution_count": 176,
   "id": "d6ddff29",
   "metadata": {},
   "outputs": [],
   "source": [
    "t = chart_df.groupby([\"Selection Threshold\",'VIFThreshold','PCA_n_Components'])[['train_f1_macro', 'test_f1_macro',\n",
    "       'test_balanced_accuracy', 'test_f1_weighted', 'precision_weighted',\n",
    "       'recall_weighted']].mean()"
   ]
  },
  {
   "cell_type": "code",
   "execution_count": 177,
   "id": "29ea352d",
   "metadata": {},
   "outputs": [],
   "source": [
    "t[\"precision_weighted\"] = np.round(t[\"precision_weighted\"]*100,2)\n",
    "t[\"recall_weighted\"] = np.round(t[\"recall_weighted\"]*100,2)\n",
    "t[\"train_f1_macro\"] = np.round(t[\"train_f1_macro\"]*100,2)\n",
    "t[\"test_f1_macro\"] = np.round(t[\"test_f1_macro\"]*100,2)\n",
    "t[\"test_balanced_accuracy\"] = np.round(t[\"test_balanced_accuracy\"]*100,2)\n",
    "t[\"test_f1_weighted\"] = np.round(t[\"test_f1_weighted\"]*100,2)"
   ]
  },
  {
   "cell_type": "code",
   "execution_count": 178,
   "id": "8bacb973",
   "metadata": {},
   "outputs": [],
   "source": [
    "table = t.reset_index()\n",
    "table.to_csv(\"results/Presentable_output/pca_over_vif/results.csv\",index=False)"
   ]
  },
  {
   "cell_type": "code",
   "execution_count": 180,
   "id": "3267176d",
   "metadata": {},
   "outputs": [
    {
     "data": {
      "text/plain": [
       "Index(['Selection Threshold', 'VIFThreshold', 'PCA_n_Components',\n",
       "       'train_f1_macro', 'test_f1_macro', 'test_balanced_accuracy',\n",
       "       'test_f1_weighted', 'precision_weighted', 'recall_weighted'],\n",
       "      dtype='object')"
      ]
     },
     "execution_count": 180,
     "metadata": {},
     "output_type": "execute_result"
    }
   ],
   "source": [
    "table.columns"
   ]
  },
  {
   "cell_type": "code",
   "execution_count": 179,
   "id": "acf8d546",
   "metadata": {},
   "outputs": [
    {
     "data": {
      "text/plain": [
       "np.float64(89.3)"
      ]
     },
     "execution_count": 179,
     "metadata": {},
     "output_type": "execute_result"
    }
   ],
   "source": [
    "np.max(table[\"test_f1_macro\"])"
   ]
  },
  {
   "cell_type": "code",
   "execution_count": 181,
   "id": "f317f892",
   "metadata": {},
   "outputs": [
    {
     "data": {
      "application/vnd.plotly.v1+json": {
       "config": {
        "plotlyServerURL": "https://plot.ly"
       },
       "data": [
        {
         "hovertemplate": "PCA_n_Components=%{x}<br>test_f1_macro=%{y}<br>Selection Threshold=%{marker.size}<br>VIFThreshold=%{marker.color}<extra></extra>",
         "legendgroup": "",
         "marker": {
          "color": {
           "bdata": "Dw8PDw8PDxQUFBQUFBQZGRkZGRkZHh4eHh4eHg8PDw8PDw8UFBQUFBQUGRkZGRkZGR4eHh4eHh4PDw8PDw8UFBQUFBQUGRkZGRkZGR4eHh4eHh4=",
           "dtype": "i1"
          },
          "coloraxis": "coloraxis",
          "size": {
           "bdata": "eekmMQisjD956SYxCKyMP3npJjEIrIw/eekmMQisjD956SYxCKyMP3npJjEIrIw/eekmMQisjD956SYxCKyMP3npJjEIrIw/eekmMQisjD956SYxCKyMP3npJjEIrIw/eekmMQisjD956SYxCKyMP3npJjEIrIw/eekmMQisjD956SYxCKyMP3npJjEIrIw/eekmMQisjD956SYxCKyMP3npJjEIrIw/eekmMQisjD956SYxCKyMP3npJjEIrIw/eekmMQisjD956SYxCKyMP3npJjEIrIw/eekmMQisjD/8qfHSTWKQP/yp8dJNYpA//Knx0k1ikD/8qfHSTWKQP/yp8dJNYpA//Knx0k1ikD/8qfHSTWKQP/yp8dJNYpA//Knx0k1ikD/8qfHSTWKQP/yp8dJNYpA//Knx0k1ikD/8qfHSTWKQP/yp8dJNYpA//Knx0k1ikD/8qfHSTWKQP/yp8dJNYpA//Knx0k1ikD/8qfHSTWKQP/yp8dJNYpA//Knx0k1ikD/8qfHSTWKQP/yp8dJNYpA//Knx0k1ikD/8qfHSTWKQP/yp8dJNYpA//Knx0k1ikD/8qfHSTWKQPzvfT42XbpI/O99PjZdukj8730+Nl26SPzvfT42XbpI/O99PjZdukj8730+Nl26SPzvfT42XbpI/O99PjZdukj8730+Nl26SPzvfT42XbpI/O99PjZdukj8730+Nl26SPzvfT42XbpI/O99PjZdukj8730+Nl26SPzvfT42XbpI/O99PjZdukj8730+Nl26SPzvfT42XbpI/O99PjZdukj8730+Nl26SPzvfT42XbpI/O99PjZdukj8730+Nl26SPzvfT42XbpI/O99PjZdukj8730+Nl26SPw==",
           "dtype": "f8"
          },
          "sizemode": "area",
          "sizeref": 0.000044999999999999996,
          "symbol": "circle"
         },
         "mode": "markers",
         "name": "",
         "orientation": "v",
         "showlegend": false,
         "type": "scatter",
         "x": {
          "bdata": "KDI8RlBaZCgyPEZQWmQoMjxGUFpkKDI8RlBaZCgyPEZQWmQoMjxGUFpkKDI8RlBaZCgyPEZQWmQoMjxGUFooMjxGUFpkKDI8RlBaZCgyPEZQWmQ=",
          "dtype": "i1"
         },
         "xaxis": "x",
         "y": {
          "bdata": "rkfhehTuVUAfhetRuA5WQM3MzMzMLFZAH4XrUbhOVkAUrkfhejRWQI/C9ShcP1ZAexSuR+E6VkAAAAAAAABWQMP1KFyP4lVASOF6FK4XVkDsUbgehRtWQArXo3A9OlZApHA9CtdDVkAzMzMzM1NWQKRwPQrX41VApHA9CtfzVUC4HoXrURhWQOF6FK5HMVZA7FG4HoUrVkDhehSuRzFWQM3MzMzMPFZAZmZmZmbmVUCamZmZmflVQOxRuB6FC1ZAw/UoXI8iVkAAAAAAADBWQIXrUbgeJVZAMzMzMzNDVkDD9Shcj9JVQArXo3A92lVAKVyPwvX4VUAUrkfhevRVQOF6FK5HAVZA7FG4HoX7VUAfhetRuB5WQD0K16NwrVVAcT0K16OQVUBI4XoUrqdVQK5H4XoU/lVAAAAAAAAAVkDD9ShcjxJWQMP1KFyPElZASOF6FK63VUDNzMzMzLxVQHsUrkfh2lVAZmZmZmb2VUDsUbgehQtWQIXrUbgeBVZA9ihcj8IlVkAK16NwPapVQOF6FK5H0VVACtejcD3aVUApXI/C9ehVQJqZmZmZCVZAFK5H4XoUVkC4HoXrUShWQK5H4XoUTlVArkfhehReVUCuR+F6FH5VQFyPwvUofFVAuB6F61GIVUDNzMzMzKxVQI/C9ShcX1VA4XoUrkdhVUAUrkfheoRVQAAAAAAAkFVAUrgeheuhVUCPwvUoXK9VQOF6FK5HwVVACtejcD06VUAzMzMzM3NVQKRwPQrXg1VAcT0K16OQVUAK16NwPapVQJqZmZmZuVVArkfhehS+VUAK16NwPTpVQDMzMzMzc1VApHA9CteDVUBxPQrXo5BVQArXo3A9qlVAmpmZmZm5VUCuR+F6FL5VQA==",
          "dtype": "f8"
         },
         "yaxis": "y"
        }
       ],
       "layout": {
        "coloraxis": {
         "colorbar": {
          "title": {
           "text": "VIFThreshold"
          }
         },
         "colorscale": [
          [
           0,
           "#0d0887"
          ],
          [
           0.1111111111111111,
           "#46039f"
          ],
          [
           0.2222222222222222,
           "#7201a8"
          ],
          [
           0.3333333333333333,
           "#9c179e"
          ],
          [
           0.4444444444444444,
           "#bd3786"
          ],
          [
           0.5555555555555556,
           "#d8576b"
          ],
          [
           0.6666666666666666,
           "#ed7953"
          ],
          [
           0.7777777777777778,
           "#fb9f3a"
          ],
          [
           0.8888888888888888,
           "#fdca26"
          ],
          [
           1,
           "#f0f921"
          ]
         ]
        },
        "legend": {
         "itemsizing": "constant",
         "tracegroupgap": 0
        },
        "template": {
         "data": {
          "bar": [
           {
            "error_x": {
             "color": "#2a3f5f"
            },
            "error_y": {
             "color": "#2a3f5f"
            },
            "marker": {
             "line": {
              "color": "#E5ECF6",
              "width": 0.5
             },
             "pattern": {
              "fillmode": "overlay",
              "size": 10,
              "solidity": 0.2
             }
            },
            "type": "bar"
           }
          ],
          "barpolar": [
           {
            "marker": {
             "line": {
              "color": "#E5ECF6",
              "width": 0.5
             },
             "pattern": {
              "fillmode": "overlay",
              "size": 10,
              "solidity": 0.2
             }
            },
            "type": "barpolar"
           }
          ],
          "carpet": [
           {
            "aaxis": {
             "endlinecolor": "#2a3f5f",
             "gridcolor": "white",
             "linecolor": "white",
             "minorgridcolor": "white",
             "startlinecolor": "#2a3f5f"
            },
            "baxis": {
             "endlinecolor": "#2a3f5f",
             "gridcolor": "white",
             "linecolor": "white",
             "minorgridcolor": "white",
             "startlinecolor": "#2a3f5f"
            },
            "type": "carpet"
           }
          ],
          "choropleth": [
           {
            "colorbar": {
             "outlinewidth": 0,
             "ticks": ""
            },
            "type": "choropleth"
           }
          ],
          "contour": [
           {
            "colorbar": {
             "outlinewidth": 0,
             "ticks": ""
            },
            "colorscale": [
             [
              0,
              "#0d0887"
             ],
             [
              0.1111111111111111,
              "#46039f"
             ],
             [
              0.2222222222222222,
              "#7201a8"
             ],
             [
              0.3333333333333333,
              "#9c179e"
             ],
             [
              0.4444444444444444,
              "#bd3786"
             ],
             [
              0.5555555555555556,
              "#d8576b"
             ],
             [
              0.6666666666666666,
              "#ed7953"
             ],
             [
              0.7777777777777778,
              "#fb9f3a"
             ],
             [
              0.8888888888888888,
              "#fdca26"
             ],
             [
              1,
              "#f0f921"
             ]
            ],
            "type": "contour"
           }
          ],
          "contourcarpet": [
           {
            "colorbar": {
             "outlinewidth": 0,
             "ticks": ""
            },
            "type": "contourcarpet"
           }
          ],
          "heatmap": [
           {
            "colorbar": {
             "outlinewidth": 0,
             "ticks": ""
            },
            "colorscale": [
             [
              0,
              "#0d0887"
             ],
             [
              0.1111111111111111,
              "#46039f"
             ],
             [
              0.2222222222222222,
              "#7201a8"
             ],
             [
              0.3333333333333333,
              "#9c179e"
             ],
             [
              0.4444444444444444,
              "#bd3786"
             ],
             [
              0.5555555555555556,
              "#d8576b"
             ],
             [
              0.6666666666666666,
              "#ed7953"
             ],
             [
              0.7777777777777778,
              "#fb9f3a"
             ],
             [
              0.8888888888888888,
              "#fdca26"
             ],
             [
              1,
              "#f0f921"
             ]
            ],
            "type": "heatmap"
           }
          ],
          "histogram": [
           {
            "marker": {
             "pattern": {
              "fillmode": "overlay",
              "size": 10,
              "solidity": 0.2
             }
            },
            "type": "histogram"
           }
          ],
          "histogram2d": [
           {
            "colorbar": {
             "outlinewidth": 0,
             "ticks": ""
            },
            "colorscale": [
             [
              0,
              "#0d0887"
             ],
             [
              0.1111111111111111,
              "#46039f"
             ],
             [
              0.2222222222222222,
              "#7201a8"
             ],
             [
              0.3333333333333333,
              "#9c179e"
             ],
             [
              0.4444444444444444,
              "#bd3786"
             ],
             [
              0.5555555555555556,
              "#d8576b"
             ],
             [
              0.6666666666666666,
              "#ed7953"
             ],
             [
              0.7777777777777778,
              "#fb9f3a"
             ],
             [
              0.8888888888888888,
              "#fdca26"
             ],
             [
              1,
              "#f0f921"
             ]
            ],
            "type": "histogram2d"
           }
          ],
          "histogram2dcontour": [
           {
            "colorbar": {
             "outlinewidth": 0,
             "ticks": ""
            },
            "colorscale": [
             [
              0,
              "#0d0887"
             ],
             [
              0.1111111111111111,
              "#46039f"
             ],
             [
              0.2222222222222222,
              "#7201a8"
             ],
             [
              0.3333333333333333,
              "#9c179e"
             ],
             [
              0.4444444444444444,
              "#bd3786"
             ],
             [
              0.5555555555555556,
              "#d8576b"
             ],
             [
              0.6666666666666666,
              "#ed7953"
             ],
             [
              0.7777777777777778,
              "#fb9f3a"
             ],
             [
              0.8888888888888888,
              "#fdca26"
             ],
             [
              1,
              "#f0f921"
             ]
            ],
            "type": "histogram2dcontour"
           }
          ],
          "mesh3d": [
           {
            "colorbar": {
             "outlinewidth": 0,
             "ticks": ""
            },
            "type": "mesh3d"
           }
          ],
          "parcoords": [
           {
            "line": {
             "colorbar": {
              "outlinewidth": 0,
              "ticks": ""
             }
            },
            "type": "parcoords"
           }
          ],
          "pie": [
           {
            "automargin": true,
            "type": "pie"
           }
          ],
          "scatter": [
           {
            "fillpattern": {
             "fillmode": "overlay",
             "size": 10,
             "solidity": 0.2
            },
            "type": "scatter"
           }
          ],
          "scatter3d": [
           {
            "line": {
             "colorbar": {
              "outlinewidth": 0,
              "ticks": ""
             }
            },
            "marker": {
             "colorbar": {
              "outlinewidth": 0,
              "ticks": ""
             }
            },
            "type": "scatter3d"
           }
          ],
          "scattercarpet": [
           {
            "marker": {
             "colorbar": {
              "outlinewidth": 0,
              "ticks": ""
             }
            },
            "type": "scattercarpet"
           }
          ],
          "scattergeo": [
           {
            "marker": {
             "colorbar": {
              "outlinewidth": 0,
              "ticks": ""
             }
            },
            "type": "scattergeo"
           }
          ],
          "scattergl": [
           {
            "marker": {
             "colorbar": {
              "outlinewidth": 0,
              "ticks": ""
             }
            },
            "type": "scattergl"
           }
          ],
          "scattermap": [
           {
            "marker": {
             "colorbar": {
              "outlinewidth": 0,
              "ticks": ""
             }
            },
            "type": "scattermap"
           }
          ],
          "scattermapbox": [
           {
            "marker": {
             "colorbar": {
              "outlinewidth": 0,
              "ticks": ""
             }
            },
            "type": "scattermapbox"
           }
          ],
          "scatterpolar": [
           {
            "marker": {
             "colorbar": {
              "outlinewidth": 0,
              "ticks": ""
             }
            },
            "type": "scatterpolar"
           }
          ],
          "scatterpolargl": [
           {
            "marker": {
             "colorbar": {
              "outlinewidth": 0,
              "ticks": ""
             }
            },
            "type": "scatterpolargl"
           }
          ],
          "scatterternary": [
           {
            "marker": {
             "colorbar": {
              "outlinewidth": 0,
              "ticks": ""
             }
            },
            "type": "scatterternary"
           }
          ],
          "surface": [
           {
            "colorbar": {
             "outlinewidth": 0,
             "ticks": ""
            },
            "colorscale": [
             [
              0,
              "#0d0887"
             ],
             [
              0.1111111111111111,
              "#46039f"
             ],
             [
              0.2222222222222222,
              "#7201a8"
             ],
             [
              0.3333333333333333,
              "#9c179e"
             ],
             [
              0.4444444444444444,
              "#bd3786"
             ],
             [
              0.5555555555555556,
              "#d8576b"
             ],
             [
              0.6666666666666666,
              "#ed7953"
             ],
             [
              0.7777777777777778,
              "#fb9f3a"
             ],
             [
              0.8888888888888888,
              "#fdca26"
             ],
             [
              1,
              "#f0f921"
             ]
            ],
            "type": "surface"
           }
          ],
          "table": [
           {
            "cells": {
             "fill": {
              "color": "#EBF0F8"
             },
             "line": {
              "color": "white"
             }
            },
            "header": {
             "fill": {
              "color": "#C8D4E3"
             },
             "line": {
              "color": "white"
             }
            },
            "type": "table"
           }
          ]
         },
         "layout": {
          "annotationdefaults": {
           "arrowcolor": "#2a3f5f",
           "arrowhead": 0,
           "arrowwidth": 1
          },
          "autotypenumbers": "strict",
          "coloraxis": {
           "colorbar": {
            "outlinewidth": 0,
            "ticks": ""
           }
          },
          "colorscale": {
           "diverging": [
            [
             0,
             "#8e0152"
            ],
            [
             0.1,
             "#c51b7d"
            ],
            [
             0.2,
             "#de77ae"
            ],
            [
             0.3,
             "#f1b6da"
            ],
            [
             0.4,
             "#fde0ef"
            ],
            [
             0.5,
             "#f7f7f7"
            ],
            [
             0.6,
             "#e6f5d0"
            ],
            [
             0.7,
             "#b8e186"
            ],
            [
             0.8,
             "#7fbc41"
            ],
            [
             0.9,
             "#4d9221"
            ],
            [
             1,
             "#276419"
            ]
           ],
           "sequential": [
            [
             0,
             "#0d0887"
            ],
            [
             0.1111111111111111,
             "#46039f"
            ],
            [
             0.2222222222222222,
             "#7201a8"
            ],
            [
             0.3333333333333333,
             "#9c179e"
            ],
            [
             0.4444444444444444,
             "#bd3786"
            ],
            [
             0.5555555555555556,
             "#d8576b"
            ],
            [
             0.6666666666666666,
             "#ed7953"
            ],
            [
             0.7777777777777778,
             "#fb9f3a"
            ],
            [
             0.8888888888888888,
             "#fdca26"
            ],
            [
             1,
             "#f0f921"
            ]
           ],
           "sequentialminus": [
            [
             0,
             "#0d0887"
            ],
            [
             0.1111111111111111,
             "#46039f"
            ],
            [
             0.2222222222222222,
             "#7201a8"
            ],
            [
             0.3333333333333333,
             "#9c179e"
            ],
            [
             0.4444444444444444,
             "#bd3786"
            ],
            [
             0.5555555555555556,
             "#d8576b"
            ],
            [
             0.6666666666666666,
             "#ed7953"
            ],
            [
             0.7777777777777778,
             "#fb9f3a"
            ],
            [
             0.8888888888888888,
             "#fdca26"
            ],
            [
             1,
             "#f0f921"
            ]
           ]
          },
          "colorway": [
           "#636efa",
           "#EF553B",
           "#00cc96",
           "#ab63fa",
           "#FFA15A",
           "#19d3f3",
           "#FF6692",
           "#B6E880",
           "#FF97FF",
           "#FECB52"
          ],
          "font": {
           "color": "#2a3f5f"
          },
          "geo": {
           "bgcolor": "white",
           "lakecolor": "white",
           "landcolor": "#E5ECF6",
           "showlakes": true,
           "showland": true,
           "subunitcolor": "white"
          },
          "hoverlabel": {
           "align": "left"
          },
          "hovermode": "closest",
          "mapbox": {
           "style": "light"
          },
          "paper_bgcolor": "white",
          "plot_bgcolor": "#E5ECF6",
          "polar": {
           "angularaxis": {
            "gridcolor": "white",
            "linecolor": "white",
            "ticks": ""
           },
           "bgcolor": "#E5ECF6",
           "radialaxis": {
            "gridcolor": "white",
            "linecolor": "white",
            "ticks": ""
           }
          },
          "scene": {
           "xaxis": {
            "backgroundcolor": "#E5ECF6",
            "gridcolor": "white",
            "gridwidth": 2,
            "linecolor": "white",
            "showbackground": true,
            "ticks": "",
            "zerolinecolor": "white"
           },
           "yaxis": {
            "backgroundcolor": "#E5ECF6",
            "gridcolor": "white",
            "gridwidth": 2,
            "linecolor": "white",
            "showbackground": true,
            "ticks": "",
            "zerolinecolor": "white"
           },
           "zaxis": {
            "backgroundcolor": "#E5ECF6",
            "gridcolor": "white",
            "gridwidth": 2,
            "linecolor": "white",
            "showbackground": true,
            "ticks": "",
            "zerolinecolor": "white"
           }
          },
          "shapedefaults": {
           "line": {
            "color": "#2a3f5f"
           }
          },
          "ternary": {
           "aaxis": {
            "gridcolor": "white",
            "linecolor": "white",
            "ticks": ""
           },
           "baxis": {
            "gridcolor": "white",
            "linecolor": "white",
            "ticks": ""
           },
           "bgcolor": "#E5ECF6",
           "caxis": {
            "gridcolor": "white",
            "linecolor": "white",
            "ticks": ""
           }
          },
          "title": {
           "x": 0.05
          },
          "xaxis": {
           "automargin": true,
           "gridcolor": "white",
           "linecolor": "white",
           "ticks": "",
           "title": {
            "standoff": 15
           },
           "zerolinecolor": "white",
           "zerolinewidth": 2
          },
          "yaxis": {
           "automargin": true,
           "gridcolor": "white",
           "linecolor": "white",
           "ticks": "",
           "title": {
            "standoff": 15
           },
           "zerolinecolor": "white",
           "zerolinewidth": 2
          }
         }
        },
        "title": {
         "text": "Selection Threshold vs Test F1 Macro (Bubble Size = PCA Components)"
        },
        "xaxis": {
         "anchor": "y",
         "domain": [
          0,
          1
         ],
         "title": {
          "text": "PCA_n_Components"
         }
        },
        "yaxis": {
         "anchor": "x",
         "domain": [
          0,
          1
         ],
         "title": {
          "text": "test_f1_macro"
         }
        }
       }
      }
     },
     "metadata": {},
     "output_type": "display_data"
    }
   ],
   "source": [
    "import plotly.express as px\n",
    "\n",
    "fig = px.scatter(table,\n",
    "                 x='PCA_n_Components',\n",
    "                 y='test_f1_macro',\n",
    "                 size='Selection Threshold',\n",
    "                 color='VIFThreshold',\n",
    "                 title=\"Selection Threshold vs Test F1 Macro (Bubble Size = PCA Components)\")\n",
    "fig.show()\n"
   ]
  },
  {
   "cell_type": "code",
   "execution_count": 182,
   "id": "c3e99591",
   "metadata": {},
   "outputs": [
    {
     "data": {
      "application/vnd.plotly.v1+json": {
       "config": {
        "plotlyServerURL": "https://plot.ly"
       },
       "data": [
        {
         "hovertemplate": "Selection Threshold=0.014<br>VIFThreshold=%{x}<br>test_f1_macro=%{y}<extra></extra>",
         "legendgroup": "0.014",
         "line": {
          "color": "#636efa",
          "dash": "solid"
         },
         "marker": {
          "symbol": "circle"
         },
         "mode": "lines+markers",
         "name": "0.014",
         "orientation": "v",
         "showlegend": true,
         "type": "scatter",
         "x": {
          "bdata": "DxQZHg==",
          "dtype": "i1"
         },
         "xaxis": "x",
         "y": {
          "bdata": "rkfhehTuVUAAAAAAAABWQKRwPQrX41VAZmZmZmbmVUA=",
          "dtype": "f8"
         },
         "yaxis": "y"
        },
        {
         "hovertemplate": "Selection Threshold=0.016<br>VIFThreshold=%{x}<br>test_f1_macro=%{y}<extra></extra>",
         "legendgroup": "0.016",
         "line": {
          "color": "#EF553B",
          "dash": "solid"
         },
         "marker": {
          "symbol": "circle"
         },
         "mode": "lines+markers",
         "name": "0.016",
         "orientation": "v",
         "showlegend": true,
         "type": "scatter",
         "x": {
          "bdata": "DxQZHg==",
          "dtype": "i1"
         },
         "xaxis": "x",
         "y": {
          "bdata": "w/UoXI/SVUA9CtejcK1VQEjhehSut1VACtejcD2qVUA=",
          "dtype": "f8"
         },
         "yaxis": "y"
        },
        {
         "hovertemplate": "Selection Threshold=0.018<br>VIFThreshold=%{x}<br>test_f1_macro=%{y}<extra></extra>",
         "legendgroup": "0.018",
         "line": {
          "color": "#00cc96",
          "dash": "solid"
         },
         "marker": {
          "symbol": "circle"
         },
         "mode": "lines+markers",
         "name": "0.018",
         "orientation": "v",
         "showlegend": true,
         "type": "scatter",
         "x": {
          "bdata": "DxQZHg==",
          "dtype": "i1"
         },
         "xaxis": "x",
         "y": {
          "bdata": "rkfhehROVUCPwvUoXF9VQArXo3A9OlVACtejcD06VUA=",
          "dtype": "f8"
         },
         "yaxis": "y"
        }
       ],
       "layout": {
        "legend": {
         "title": {
          "text": "Selection Threshold"
         },
         "tracegroupgap": 0
        },
        "template": {
         "data": {
          "bar": [
           {
            "error_x": {
             "color": "#2a3f5f"
            },
            "error_y": {
             "color": "#2a3f5f"
            },
            "marker": {
             "line": {
              "color": "#E5ECF6",
              "width": 0.5
             },
             "pattern": {
              "fillmode": "overlay",
              "size": 10,
              "solidity": 0.2
             }
            },
            "type": "bar"
           }
          ],
          "barpolar": [
           {
            "marker": {
             "line": {
              "color": "#E5ECF6",
              "width": 0.5
             },
             "pattern": {
              "fillmode": "overlay",
              "size": 10,
              "solidity": 0.2
             }
            },
            "type": "barpolar"
           }
          ],
          "carpet": [
           {
            "aaxis": {
             "endlinecolor": "#2a3f5f",
             "gridcolor": "white",
             "linecolor": "white",
             "minorgridcolor": "white",
             "startlinecolor": "#2a3f5f"
            },
            "baxis": {
             "endlinecolor": "#2a3f5f",
             "gridcolor": "white",
             "linecolor": "white",
             "minorgridcolor": "white",
             "startlinecolor": "#2a3f5f"
            },
            "type": "carpet"
           }
          ],
          "choropleth": [
           {
            "colorbar": {
             "outlinewidth": 0,
             "ticks": ""
            },
            "type": "choropleth"
           }
          ],
          "contour": [
           {
            "colorbar": {
             "outlinewidth": 0,
             "ticks": ""
            },
            "colorscale": [
             [
              0,
              "#0d0887"
             ],
             [
              0.1111111111111111,
              "#46039f"
             ],
             [
              0.2222222222222222,
              "#7201a8"
             ],
             [
              0.3333333333333333,
              "#9c179e"
             ],
             [
              0.4444444444444444,
              "#bd3786"
             ],
             [
              0.5555555555555556,
              "#d8576b"
             ],
             [
              0.6666666666666666,
              "#ed7953"
             ],
             [
              0.7777777777777778,
              "#fb9f3a"
             ],
             [
              0.8888888888888888,
              "#fdca26"
             ],
             [
              1,
              "#f0f921"
             ]
            ],
            "type": "contour"
           }
          ],
          "contourcarpet": [
           {
            "colorbar": {
             "outlinewidth": 0,
             "ticks": ""
            },
            "type": "contourcarpet"
           }
          ],
          "heatmap": [
           {
            "colorbar": {
             "outlinewidth": 0,
             "ticks": ""
            },
            "colorscale": [
             [
              0,
              "#0d0887"
             ],
             [
              0.1111111111111111,
              "#46039f"
             ],
             [
              0.2222222222222222,
              "#7201a8"
             ],
             [
              0.3333333333333333,
              "#9c179e"
             ],
             [
              0.4444444444444444,
              "#bd3786"
             ],
             [
              0.5555555555555556,
              "#d8576b"
             ],
             [
              0.6666666666666666,
              "#ed7953"
             ],
             [
              0.7777777777777778,
              "#fb9f3a"
             ],
             [
              0.8888888888888888,
              "#fdca26"
             ],
             [
              1,
              "#f0f921"
             ]
            ],
            "type": "heatmap"
           }
          ],
          "histogram": [
           {
            "marker": {
             "pattern": {
              "fillmode": "overlay",
              "size": 10,
              "solidity": 0.2
             }
            },
            "type": "histogram"
           }
          ],
          "histogram2d": [
           {
            "colorbar": {
             "outlinewidth": 0,
             "ticks": ""
            },
            "colorscale": [
             [
              0,
              "#0d0887"
             ],
             [
              0.1111111111111111,
              "#46039f"
             ],
             [
              0.2222222222222222,
              "#7201a8"
             ],
             [
              0.3333333333333333,
              "#9c179e"
             ],
             [
              0.4444444444444444,
              "#bd3786"
             ],
             [
              0.5555555555555556,
              "#d8576b"
             ],
             [
              0.6666666666666666,
              "#ed7953"
             ],
             [
              0.7777777777777778,
              "#fb9f3a"
             ],
             [
              0.8888888888888888,
              "#fdca26"
             ],
             [
              1,
              "#f0f921"
             ]
            ],
            "type": "histogram2d"
           }
          ],
          "histogram2dcontour": [
           {
            "colorbar": {
             "outlinewidth": 0,
             "ticks": ""
            },
            "colorscale": [
             [
              0,
              "#0d0887"
             ],
             [
              0.1111111111111111,
              "#46039f"
             ],
             [
              0.2222222222222222,
              "#7201a8"
             ],
             [
              0.3333333333333333,
              "#9c179e"
             ],
             [
              0.4444444444444444,
              "#bd3786"
             ],
             [
              0.5555555555555556,
              "#d8576b"
             ],
             [
              0.6666666666666666,
              "#ed7953"
             ],
             [
              0.7777777777777778,
              "#fb9f3a"
             ],
             [
              0.8888888888888888,
              "#fdca26"
             ],
             [
              1,
              "#f0f921"
             ]
            ],
            "type": "histogram2dcontour"
           }
          ],
          "mesh3d": [
           {
            "colorbar": {
             "outlinewidth": 0,
             "ticks": ""
            },
            "type": "mesh3d"
           }
          ],
          "parcoords": [
           {
            "line": {
             "colorbar": {
              "outlinewidth": 0,
              "ticks": ""
             }
            },
            "type": "parcoords"
           }
          ],
          "pie": [
           {
            "automargin": true,
            "type": "pie"
           }
          ],
          "scatter": [
           {
            "fillpattern": {
             "fillmode": "overlay",
             "size": 10,
             "solidity": 0.2
            },
            "type": "scatter"
           }
          ],
          "scatter3d": [
           {
            "line": {
             "colorbar": {
              "outlinewidth": 0,
              "ticks": ""
             }
            },
            "marker": {
             "colorbar": {
              "outlinewidth": 0,
              "ticks": ""
             }
            },
            "type": "scatter3d"
           }
          ],
          "scattercarpet": [
           {
            "marker": {
             "colorbar": {
              "outlinewidth": 0,
              "ticks": ""
             }
            },
            "type": "scattercarpet"
           }
          ],
          "scattergeo": [
           {
            "marker": {
             "colorbar": {
              "outlinewidth": 0,
              "ticks": ""
             }
            },
            "type": "scattergeo"
           }
          ],
          "scattergl": [
           {
            "marker": {
             "colorbar": {
              "outlinewidth": 0,
              "ticks": ""
             }
            },
            "type": "scattergl"
           }
          ],
          "scattermap": [
           {
            "marker": {
             "colorbar": {
              "outlinewidth": 0,
              "ticks": ""
             }
            },
            "type": "scattermap"
           }
          ],
          "scattermapbox": [
           {
            "marker": {
             "colorbar": {
              "outlinewidth": 0,
              "ticks": ""
             }
            },
            "type": "scattermapbox"
           }
          ],
          "scatterpolar": [
           {
            "marker": {
             "colorbar": {
              "outlinewidth": 0,
              "ticks": ""
             }
            },
            "type": "scatterpolar"
           }
          ],
          "scatterpolargl": [
           {
            "marker": {
             "colorbar": {
              "outlinewidth": 0,
              "ticks": ""
             }
            },
            "type": "scatterpolargl"
           }
          ],
          "scatterternary": [
           {
            "marker": {
             "colorbar": {
              "outlinewidth": 0,
              "ticks": ""
             }
            },
            "type": "scatterternary"
           }
          ],
          "surface": [
           {
            "colorbar": {
             "outlinewidth": 0,
             "ticks": ""
            },
            "colorscale": [
             [
              0,
              "#0d0887"
             ],
             [
              0.1111111111111111,
              "#46039f"
             ],
             [
              0.2222222222222222,
              "#7201a8"
             ],
             [
              0.3333333333333333,
              "#9c179e"
             ],
             [
              0.4444444444444444,
              "#bd3786"
             ],
             [
              0.5555555555555556,
              "#d8576b"
             ],
             [
              0.6666666666666666,
              "#ed7953"
             ],
             [
              0.7777777777777778,
              "#fb9f3a"
             ],
             [
              0.8888888888888888,
              "#fdca26"
             ],
             [
              1,
              "#f0f921"
             ]
            ],
            "type": "surface"
           }
          ],
          "table": [
           {
            "cells": {
             "fill": {
              "color": "#EBF0F8"
             },
             "line": {
              "color": "white"
             }
            },
            "header": {
             "fill": {
              "color": "#C8D4E3"
             },
             "line": {
              "color": "white"
             }
            },
            "type": "table"
           }
          ]
         },
         "layout": {
          "annotationdefaults": {
           "arrowcolor": "#2a3f5f",
           "arrowhead": 0,
           "arrowwidth": 1
          },
          "autotypenumbers": "strict",
          "coloraxis": {
           "colorbar": {
            "outlinewidth": 0,
            "ticks": ""
           }
          },
          "colorscale": {
           "diverging": [
            [
             0,
             "#8e0152"
            ],
            [
             0.1,
             "#c51b7d"
            ],
            [
             0.2,
             "#de77ae"
            ],
            [
             0.3,
             "#f1b6da"
            ],
            [
             0.4,
             "#fde0ef"
            ],
            [
             0.5,
             "#f7f7f7"
            ],
            [
             0.6,
             "#e6f5d0"
            ],
            [
             0.7,
             "#b8e186"
            ],
            [
             0.8,
             "#7fbc41"
            ],
            [
             0.9,
             "#4d9221"
            ],
            [
             1,
             "#276419"
            ]
           ],
           "sequential": [
            [
             0,
             "#0d0887"
            ],
            [
             0.1111111111111111,
             "#46039f"
            ],
            [
             0.2222222222222222,
             "#7201a8"
            ],
            [
             0.3333333333333333,
             "#9c179e"
            ],
            [
             0.4444444444444444,
             "#bd3786"
            ],
            [
             0.5555555555555556,
             "#d8576b"
            ],
            [
             0.6666666666666666,
             "#ed7953"
            ],
            [
             0.7777777777777778,
             "#fb9f3a"
            ],
            [
             0.8888888888888888,
             "#fdca26"
            ],
            [
             1,
             "#f0f921"
            ]
           ],
           "sequentialminus": [
            [
             0,
             "#0d0887"
            ],
            [
             0.1111111111111111,
             "#46039f"
            ],
            [
             0.2222222222222222,
             "#7201a8"
            ],
            [
             0.3333333333333333,
             "#9c179e"
            ],
            [
             0.4444444444444444,
             "#bd3786"
            ],
            [
             0.5555555555555556,
             "#d8576b"
            ],
            [
             0.6666666666666666,
             "#ed7953"
            ],
            [
             0.7777777777777778,
             "#fb9f3a"
            ],
            [
             0.8888888888888888,
             "#fdca26"
            ],
            [
             1,
             "#f0f921"
            ]
           ]
          },
          "colorway": [
           "#636efa",
           "#EF553B",
           "#00cc96",
           "#ab63fa",
           "#FFA15A",
           "#19d3f3",
           "#FF6692",
           "#B6E880",
           "#FF97FF",
           "#FECB52"
          ],
          "font": {
           "color": "#2a3f5f"
          },
          "geo": {
           "bgcolor": "white",
           "lakecolor": "white",
           "landcolor": "#E5ECF6",
           "showlakes": true,
           "showland": true,
           "subunitcolor": "white"
          },
          "hoverlabel": {
           "align": "left"
          },
          "hovermode": "closest",
          "mapbox": {
           "style": "light"
          },
          "paper_bgcolor": "white",
          "plot_bgcolor": "#E5ECF6",
          "polar": {
           "angularaxis": {
            "gridcolor": "white",
            "linecolor": "white",
            "ticks": ""
           },
           "bgcolor": "#E5ECF6",
           "radialaxis": {
            "gridcolor": "white",
            "linecolor": "white",
            "ticks": ""
           }
          },
          "scene": {
           "xaxis": {
            "backgroundcolor": "#E5ECF6",
            "gridcolor": "white",
            "gridwidth": 2,
            "linecolor": "white",
            "showbackground": true,
            "ticks": "",
            "zerolinecolor": "white"
           },
           "yaxis": {
            "backgroundcolor": "#E5ECF6",
            "gridcolor": "white",
            "gridwidth": 2,
            "linecolor": "white",
            "showbackground": true,
            "ticks": "",
            "zerolinecolor": "white"
           },
           "zaxis": {
            "backgroundcolor": "#E5ECF6",
            "gridcolor": "white",
            "gridwidth": 2,
            "linecolor": "white",
            "showbackground": true,
            "ticks": "",
            "zerolinecolor": "white"
           }
          },
          "shapedefaults": {
           "line": {
            "color": "#2a3f5f"
           }
          },
          "ternary": {
           "aaxis": {
            "gridcolor": "white",
            "linecolor": "white",
            "ticks": ""
           },
           "baxis": {
            "gridcolor": "white",
            "linecolor": "white",
            "ticks": ""
           },
           "bgcolor": "#E5ECF6",
           "caxis": {
            "gridcolor": "white",
            "linecolor": "white",
            "ticks": ""
           }
          },
          "title": {
           "x": 0.05
          },
          "xaxis": {
           "automargin": true,
           "gridcolor": "white",
           "linecolor": "white",
           "ticks": "",
           "title": {
            "standoff": 15
           },
           "zerolinecolor": "white",
           "zerolinewidth": 2
          },
          "yaxis": {
           "automargin": true,
           "gridcolor": "white",
           "linecolor": "white",
           "ticks": "",
           "title": {
            "standoff": 15
           },
           "zerolinecolor": "white",
           "zerolinewidth": 2
          }
         }
        },
        "title": {
         "text": "Test F1 Macro vs Selection Threshold for PCA Components = 40"
        },
        "xaxis": {
         "anchor": "y",
         "domain": [
          0,
          1
         ],
         "title": {
          "text": "VIFThreshold"
         }
        },
        "yaxis": {
         "anchor": "x",
         "domain": [
          0,
          1
         ],
         "title": {
          "text": "test_f1_macro"
         }
        }
       }
      }
     },
     "metadata": {},
     "output_type": "display_data"
    },
    {
     "data": {
      "application/vnd.plotly.v1+json": {
       "config": {
        "plotlyServerURL": "https://plot.ly"
       },
       "data": [
        {
         "hovertemplate": "Selection Threshold=0.014<br>VIFThreshold=%{x}<br>test_f1_macro=%{y}<extra></extra>",
         "legendgroup": "0.014",
         "line": {
          "color": "#636efa",
          "dash": "solid"
         },
         "marker": {
          "symbol": "circle"
         },
         "mode": "lines+markers",
         "name": "0.014",
         "orientation": "v",
         "showlegend": true,
         "type": "scatter",
         "x": {
          "bdata": "DxQZHg==",
          "dtype": "i1"
         },
         "xaxis": "x",
         "y": {
          "bdata": "H4XrUbgOVkDD9Shcj+JVQKRwPQrX81VAmpmZmZn5VUA=",
          "dtype": "f8"
         },
         "yaxis": "y"
        },
        {
         "hovertemplate": "Selection Threshold=0.016<br>VIFThreshold=%{x}<br>test_f1_macro=%{y}<extra></extra>",
         "legendgroup": "0.016",
         "line": {
          "color": "#EF553B",
          "dash": "solid"
         },
         "marker": {
          "symbol": "circle"
         },
         "mode": "lines+markers",
         "name": "0.016",
         "orientation": "v",
         "showlegend": true,
         "type": "scatter",
         "x": {
          "bdata": "DxQZHg==",
          "dtype": "i1"
         },
         "xaxis": "x",
         "y": {
          "bdata": "CtejcD3aVUBxPQrXo5BVQM3MzMzMvFVA4XoUrkfRVUA=",
          "dtype": "f8"
         },
         "yaxis": "y"
        },
        {
         "hovertemplate": "Selection Threshold=0.018<br>VIFThreshold=%{x}<br>test_f1_macro=%{y}<extra></extra>",
         "legendgroup": "0.018",
         "line": {
          "color": "#00cc96",
          "dash": "solid"
         },
         "marker": {
          "symbol": "circle"
         },
         "mode": "lines+markers",
         "name": "0.018",
         "orientation": "v",
         "showlegend": true,
         "type": "scatter",
         "x": {
          "bdata": "DxQZHg==",
          "dtype": "i1"
         },
         "xaxis": "x",
         "y": {
          "bdata": "rkfhehReVUDhehSuR2FVQDMzMzMzc1VAMzMzMzNzVUA=",
          "dtype": "f8"
         },
         "yaxis": "y"
        }
       ],
       "layout": {
        "legend": {
         "title": {
          "text": "Selection Threshold"
         },
         "tracegroupgap": 0
        },
        "template": {
         "data": {
          "bar": [
           {
            "error_x": {
             "color": "#2a3f5f"
            },
            "error_y": {
             "color": "#2a3f5f"
            },
            "marker": {
             "line": {
              "color": "#E5ECF6",
              "width": 0.5
             },
             "pattern": {
              "fillmode": "overlay",
              "size": 10,
              "solidity": 0.2
             }
            },
            "type": "bar"
           }
          ],
          "barpolar": [
           {
            "marker": {
             "line": {
              "color": "#E5ECF6",
              "width": 0.5
             },
             "pattern": {
              "fillmode": "overlay",
              "size": 10,
              "solidity": 0.2
             }
            },
            "type": "barpolar"
           }
          ],
          "carpet": [
           {
            "aaxis": {
             "endlinecolor": "#2a3f5f",
             "gridcolor": "white",
             "linecolor": "white",
             "minorgridcolor": "white",
             "startlinecolor": "#2a3f5f"
            },
            "baxis": {
             "endlinecolor": "#2a3f5f",
             "gridcolor": "white",
             "linecolor": "white",
             "minorgridcolor": "white",
             "startlinecolor": "#2a3f5f"
            },
            "type": "carpet"
           }
          ],
          "choropleth": [
           {
            "colorbar": {
             "outlinewidth": 0,
             "ticks": ""
            },
            "type": "choropleth"
           }
          ],
          "contour": [
           {
            "colorbar": {
             "outlinewidth": 0,
             "ticks": ""
            },
            "colorscale": [
             [
              0,
              "#0d0887"
             ],
             [
              0.1111111111111111,
              "#46039f"
             ],
             [
              0.2222222222222222,
              "#7201a8"
             ],
             [
              0.3333333333333333,
              "#9c179e"
             ],
             [
              0.4444444444444444,
              "#bd3786"
             ],
             [
              0.5555555555555556,
              "#d8576b"
             ],
             [
              0.6666666666666666,
              "#ed7953"
             ],
             [
              0.7777777777777778,
              "#fb9f3a"
             ],
             [
              0.8888888888888888,
              "#fdca26"
             ],
             [
              1,
              "#f0f921"
             ]
            ],
            "type": "contour"
           }
          ],
          "contourcarpet": [
           {
            "colorbar": {
             "outlinewidth": 0,
             "ticks": ""
            },
            "type": "contourcarpet"
           }
          ],
          "heatmap": [
           {
            "colorbar": {
             "outlinewidth": 0,
             "ticks": ""
            },
            "colorscale": [
             [
              0,
              "#0d0887"
             ],
             [
              0.1111111111111111,
              "#46039f"
             ],
             [
              0.2222222222222222,
              "#7201a8"
             ],
             [
              0.3333333333333333,
              "#9c179e"
             ],
             [
              0.4444444444444444,
              "#bd3786"
             ],
             [
              0.5555555555555556,
              "#d8576b"
             ],
             [
              0.6666666666666666,
              "#ed7953"
             ],
             [
              0.7777777777777778,
              "#fb9f3a"
             ],
             [
              0.8888888888888888,
              "#fdca26"
             ],
             [
              1,
              "#f0f921"
             ]
            ],
            "type": "heatmap"
           }
          ],
          "histogram": [
           {
            "marker": {
             "pattern": {
              "fillmode": "overlay",
              "size": 10,
              "solidity": 0.2
             }
            },
            "type": "histogram"
           }
          ],
          "histogram2d": [
           {
            "colorbar": {
             "outlinewidth": 0,
             "ticks": ""
            },
            "colorscale": [
             [
              0,
              "#0d0887"
             ],
             [
              0.1111111111111111,
              "#46039f"
             ],
             [
              0.2222222222222222,
              "#7201a8"
             ],
             [
              0.3333333333333333,
              "#9c179e"
             ],
             [
              0.4444444444444444,
              "#bd3786"
             ],
             [
              0.5555555555555556,
              "#d8576b"
             ],
             [
              0.6666666666666666,
              "#ed7953"
             ],
             [
              0.7777777777777778,
              "#fb9f3a"
             ],
             [
              0.8888888888888888,
              "#fdca26"
             ],
             [
              1,
              "#f0f921"
             ]
            ],
            "type": "histogram2d"
           }
          ],
          "histogram2dcontour": [
           {
            "colorbar": {
             "outlinewidth": 0,
             "ticks": ""
            },
            "colorscale": [
             [
              0,
              "#0d0887"
             ],
             [
              0.1111111111111111,
              "#46039f"
             ],
             [
              0.2222222222222222,
              "#7201a8"
             ],
             [
              0.3333333333333333,
              "#9c179e"
             ],
             [
              0.4444444444444444,
              "#bd3786"
             ],
             [
              0.5555555555555556,
              "#d8576b"
             ],
             [
              0.6666666666666666,
              "#ed7953"
             ],
             [
              0.7777777777777778,
              "#fb9f3a"
             ],
             [
              0.8888888888888888,
              "#fdca26"
             ],
             [
              1,
              "#f0f921"
             ]
            ],
            "type": "histogram2dcontour"
           }
          ],
          "mesh3d": [
           {
            "colorbar": {
             "outlinewidth": 0,
             "ticks": ""
            },
            "type": "mesh3d"
           }
          ],
          "parcoords": [
           {
            "line": {
             "colorbar": {
              "outlinewidth": 0,
              "ticks": ""
             }
            },
            "type": "parcoords"
           }
          ],
          "pie": [
           {
            "automargin": true,
            "type": "pie"
           }
          ],
          "scatter": [
           {
            "fillpattern": {
             "fillmode": "overlay",
             "size": 10,
             "solidity": 0.2
            },
            "type": "scatter"
           }
          ],
          "scatter3d": [
           {
            "line": {
             "colorbar": {
              "outlinewidth": 0,
              "ticks": ""
             }
            },
            "marker": {
             "colorbar": {
              "outlinewidth": 0,
              "ticks": ""
             }
            },
            "type": "scatter3d"
           }
          ],
          "scattercarpet": [
           {
            "marker": {
             "colorbar": {
              "outlinewidth": 0,
              "ticks": ""
             }
            },
            "type": "scattercarpet"
           }
          ],
          "scattergeo": [
           {
            "marker": {
             "colorbar": {
              "outlinewidth": 0,
              "ticks": ""
             }
            },
            "type": "scattergeo"
           }
          ],
          "scattergl": [
           {
            "marker": {
             "colorbar": {
              "outlinewidth": 0,
              "ticks": ""
             }
            },
            "type": "scattergl"
           }
          ],
          "scattermap": [
           {
            "marker": {
             "colorbar": {
              "outlinewidth": 0,
              "ticks": ""
             }
            },
            "type": "scattermap"
           }
          ],
          "scattermapbox": [
           {
            "marker": {
             "colorbar": {
              "outlinewidth": 0,
              "ticks": ""
             }
            },
            "type": "scattermapbox"
           }
          ],
          "scatterpolar": [
           {
            "marker": {
             "colorbar": {
              "outlinewidth": 0,
              "ticks": ""
             }
            },
            "type": "scatterpolar"
           }
          ],
          "scatterpolargl": [
           {
            "marker": {
             "colorbar": {
              "outlinewidth": 0,
              "ticks": ""
             }
            },
            "type": "scatterpolargl"
           }
          ],
          "scatterternary": [
           {
            "marker": {
             "colorbar": {
              "outlinewidth": 0,
              "ticks": ""
             }
            },
            "type": "scatterternary"
           }
          ],
          "surface": [
           {
            "colorbar": {
             "outlinewidth": 0,
             "ticks": ""
            },
            "colorscale": [
             [
              0,
              "#0d0887"
             ],
             [
              0.1111111111111111,
              "#46039f"
             ],
             [
              0.2222222222222222,
              "#7201a8"
             ],
             [
              0.3333333333333333,
              "#9c179e"
             ],
             [
              0.4444444444444444,
              "#bd3786"
             ],
             [
              0.5555555555555556,
              "#d8576b"
             ],
             [
              0.6666666666666666,
              "#ed7953"
             ],
             [
              0.7777777777777778,
              "#fb9f3a"
             ],
             [
              0.8888888888888888,
              "#fdca26"
             ],
             [
              1,
              "#f0f921"
             ]
            ],
            "type": "surface"
           }
          ],
          "table": [
           {
            "cells": {
             "fill": {
              "color": "#EBF0F8"
             },
             "line": {
              "color": "white"
             }
            },
            "header": {
             "fill": {
              "color": "#C8D4E3"
             },
             "line": {
              "color": "white"
             }
            },
            "type": "table"
           }
          ]
         },
         "layout": {
          "annotationdefaults": {
           "arrowcolor": "#2a3f5f",
           "arrowhead": 0,
           "arrowwidth": 1
          },
          "autotypenumbers": "strict",
          "coloraxis": {
           "colorbar": {
            "outlinewidth": 0,
            "ticks": ""
           }
          },
          "colorscale": {
           "diverging": [
            [
             0,
             "#8e0152"
            ],
            [
             0.1,
             "#c51b7d"
            ],
            [
             0.2,
             "#de77ae"
            ],
            [
             0.3,
             "#f1b6da"
            ],
            [
             0.4,
             "#fde0ef"
            ],
            [
             0.5,
             "#f7f7f7"
            ],
            [
             0.6,
             "#e6f5d0"
            ],
            [
             0.7,
             "#b8e186"
            ],
            [
             0.8,
             "#7fbc41"
            ],
            [
             0.9,
             "#4d9221"
            ],
            [
             1,
             "#276419"
            ]
           ],
           "sequential": [
            [
             0,
             "#0d0887"
            ],
            [
             0.1111111111111111,
             "#46039f"
            ],
            [
             0.2222222222222222,
             "#7201a8"
            ],
            [
             0.3333333333333333,
             "#9c179e"
            ],
            [
             0.4444444444444444,
             "#bd3786"
            ],
            [
             0.5555555555555556,
             "#d8576b"
            ],
            [
             0.6666666666666666,
             "#ed7953"
            ],
            [
             0.7777777777777778,
             "#fb9f3a"
            ],
            [
             0.8888888888888888,
             "#fdca26"
            ],
            [
             1,
             "#f0f921"
            ]
           ],
           "sequentialminus": [
            [
             0,
             "#0d0887"
            ],
            [
             0.1111111111111111,
             "#46039f"
            ],
            [
             0.2222222222222222,
             "#7201a8"
            ],
            [
             0.3333333333333333,
             "#9c179e"
            ],
            [
             0.4444444444444444,
             "#bd3786"
            ],
            [
             0.5555555555555556,
             "#d8576b"
            ],
            [
             0.6666666666666666,
             "#ed7953"
            ],
            [
             0.7777777777777778,
             "#fb9f3a"
            ],
            [
             0.8888888888888888,
             "#fdca26"
            ],
            [
             1,
             "#f0f921"
            ]
           ]
          },
          "colorway": [
           "#636efa",
           "#EF553B",
           "#00cc96",
           "#ab63fa",
           "#FFA15A",
           "#19d3f3",
           "#FF6692",
           "#B6E880",
           "#FF97FF",
           "#FECB52"
          ],
          "font": {
           "color": "#2a3f5f"
          },
          "geo": {
           "bgcolor": "white",
           "lakecolor": "white",
           "landcolor": "#E5ECF6",
           "showlakes": true,
           "showland": true,
           "subunitcolor": "white"
          },
          "hoverlabel": {
           "align": "left"
          },
          "hovermode": "closest",
          "mapbox": {
           "style": "light"
          },
          "paper_bgcolor": "white",
          "plot_bgcolor": "#E5ECF6",
          "polar": {
           "angularaxis": {
            "gridcolor": "white",
            "linecolor": "white",
            "ticks": ""
           },
           "bgcolor": "#E5ECF6",
           "radialaxis": {
            "gridcolor": "white",
            "linecolor": "white",
            "ticks": ""
           }
          },
          "scene": {
           "xaxis": {
            "backgroundcolor": "#E5ECF6",
            "gridcolor": "white",
            "gridwidth": 2,
            "linecolor": "white",
            "showbackground": true,
            "ticks": "",
            "zerolinecolor": "white"
           },
           "yaxis": {
            "backgroundcolor": "#E5ECF6",
            "gridcolor": "white",
            "gridwidth": 2,
            "linecolor": "white",
            "showbackground": true,
            "ticks": "",
            "zerolinecolor": "white"
           },
           "zaxis": {
            "backgroundcolor": "#E5ECF6",
            "gridcolor": "white",
            "gridwidth": 2,
            "linecolor": "white",
            "showbackground": true,
            "ticks": "",
            "zerolinecolor": "white"
           }
          },
          "shapedefaults": {
           "line": {
            "color": "#2a3f5f"
           }
          },
          "ternary": {
           "aaxis": {
            "gridcolor": "white",
            "linecolor": "white",
            "ticks": ""
           },
           "baxis": {
            "gridcolor": "white",
            "linecolor": "white",
            "ticks": ""
           },
           "bgcolor": "#E5ECF6",
           "caxis": {
            "gridcolor": "white",
            "linecolor": "white",
            "ticks": ""
           }
          },
          "title": {
           "x": 0.05
          },
          "xaxis": {
           "automargin": true,
           "gridcolor": "white",
           "linecolor": "white",
           "ticks": "",
           "title": {
            "standoff": 15
           },
           "zerolinecolor": "white",
           "zerolinewidth": 2
          },
          "yaxis": {
           "automargin": true,
           "gridcolor": "white",
           "linecolor": "white",
           "ticks": "",
           "title": {
            "standoff": 15
           },
           "zerolinecolor": "white",
           "zerolinewidth": 2
          }
         }
        },
        "title": {
         "text": "Test F1 Macro vs Selection Threshold for PCA Components = 50"
        },
        "xaxis": {
         "anchor": "y",
         "domain": [
          0,
          1
         ],
         "title": {
          "text": "VIFThreshold"
         }
        },
        "yaxis": {
         "anchor": "x",
         "domain": [
          0,
          1
         ],
         "title": {
          "text": "test_f1_macro"
         }
        }
       }
      }
     },
     "metadata": {},
     "output_type": "display_data"
    },
    {
     "data": {
      "application/vnd.plotly.v1+json": {
       "config": {
        "plotlyServerURL": "https://plot.ly"
       },
       "data": [
        {
         "hovertemplate": "Selection Threshold=0.014<br>VIFThreshold=%{x}<br>test_f1_macro=%{y}<extra></extra>",
         "legendgroup": "0.014",
         "line": {
          "color": "#636efa",
          "dash": "solid"
         },
         "marker": {
          "symbol": "circle"
         },
         "mode": "lines+markers",
         "name": "0.014",
         "orientation": "v",
         "showlegend": true,
         "type": "scatter",
         "x": {
          "bdata": "DxQZHg==",
          "dtype": "i1"
         },
         "xaxis": "x",
         "y": {
          "bdata": "zczMzMwsVkBI4XoUrhdWQLgehetRGFZA7FG4HoULVkA=",
          "dtype": "f8"
         },
         "yaxis": "y"
        },
        {
         "hovertemplate": "Selection Threshold=0.016<br>VIFThreshold=%{x}<br>test_f1_macro=%{y}<extra></extra>",
         "legendgroup": "0.016",
         "line": {
          "color": "#EF553B",
          "dash": "solid"
         },
         "marker": {
          "symbol": "circle"
         },
         "mode": "lines+markers",
         "name": "0.016",
         "orientation": "v",
         "showlegend": true,
         "type": "scatter",
         "x": {
          "bdata": "DxQZHg==",
          "dtype": "i1"
         },
         "xaxis": "x",
         "y": {
          "bdata": "KVyPwvX4VUBI4XoUrqdVQHsUrkfh2lVACtejcD3aVUA=",
          "dtype": "f8"
         },
         "yaxis": "y"
        },
        {
         "hovertemplate": "Selection Threshold=0.018<br>VIFThreshold=%{x}<br>test_f1_macro=%{y}<extra></extra>",
         "legendgroup": "0.018",
         "line": {
          "color": "#00cc96",
          "dash": "solid"
         },
         "marker": {
          "symbol": "circle"
         },
         "mode": "lines+markers",
         "name": "0.018",
         "orientation": "v",
         "showlegend": true,
         "type": "scatter",
         "x": {
          "bdata": "DxQZHg==",
          "dtype": "i1"
         },
         "xaxis": "x",
         "y": {
          "bdata": "rkfhehR+VUAUrkfheoRVQKRwPQrXg1VApHA9CteDVUA=",
          "dtype": "f8"
         },
         "yaxis": "y"
        }
       ],
       "layout": {
        "legend": {
         "title": {
          "text": "Selection Threshold"
         },
         "tracegroupgap": 0
        },
        "template": {
         "data": {
          "bar": [
           {
            "error_x": {
             "color": "#2a3f5f"
            },
            "error_y": {
             "color": "#2a3f5f"
            },
            "marker": {
             "line": {
              "color": "#E5ECF6",
              "width": 0.5
             },
             "pattern": {
              "fillmode": "overlay",
              "size": 10,
              "solidity": 0.2
             }
            },
            "type": "bar"
           }
          ],
          "barpolar": [
           {
            "marker": {
             "line": {
              "color": "#E5ECF6",
              "width": 0.5
             },
             "pattern": {
              "fillmode": "overlay",
              "size": 10,
              "solidity": 0.2
             }
            },
            "type": "barpolar"
           }
          ],
          "carpet": [
           {
            "aaxis": {
             "endlinecolor": "#2a3f5f",
             "gridcolor": "white",
             "linecolor": "white",
             "minorgridcolor": "white",
             "startlinecolor": "#2a3f5f"
            },
            "baxis": {
             "endlinecolor": "#2a3f5f",
             "gridcolor": "white",
             "linecolor": "white",
             "minorgridcolor": "white",
             "startlinecolor": "#2a3f5f"
            },
            "type": "carpet"
           }
          ],
          "choropleth": [
           {
            "colorbar": {
             "outlinewidth": 0,
             "ticks": ""
            },
            "type": "choropleth"
           }
          ],
          "contour": [
           {
            "colorbar": {
             "outlinewidth": 0,
             "ticks": ""
            },
            "colorscale": [
             [
              0,
              "#0d0887"
             ],
             [
              0.1111111111111111,
              "#46039f"
             ],
             [
              0.2222222222222222,
              "#7201a8"
             ],
             [
              0.3333333333333333,
              "#9c179e"
             ],
             [
              0.4444444444444444,
              "#bd3786"
             ],
             [
              0.5555555555555556,
              "#d8576b"
             ],
             [
              0.6666666666666666,
              "#ed7953"
             ],
             [
              0.7777777777777778,
              "#fb9f3a"
             ],
             [
              0.8888888888888888,
              "#fdca26"
             ],
             [
              1,
              "#f0f921"
             ]
            ],
            "type": "contour"
           }
          ],
          "contourcarpet": [
           {
            "colorbar": {
             "outlinewidth": 0,
             "ticks": ""
            },
            "type": "contourcarpet"
           }
          ],
          "heatmap": [
           {
            "colorbar": {
             "outlinewidth": 0,
             "ticks": ""
            },
            "colorscale": [
             [
              0,
              "#0d0887"
             ],
             [
              0.1111111111111111,
              "#46039f"
             ],
             [
              0.2222222222222222,
              "#7201a8"
             ],
             [
              0.3333333333333333,
              "#9c179e"
             ],
             [
              0.4444444444444444,
              "#bd3786"
             ],
             [
              0.5555555555555556,
              "#d8576b"
             ],
             [
              0.6666666666666666,
              "#ed7953"
             ],
             [
              0.7777777777777778,
              "#fb9f3a"
             ],
             [
              0.8888888888888888,
              "#fdca26"
             ],
             [
              1,
              "#f0f921"
             ]
            ],
            "type": "heatmap"
           }
          ],
          "histogram": [
           {
            "marker": {
             "pattern": {
              "fillmode": "overlay",
              "size": 10,
              "solidity": 0.2
             }
            },
            "type": "histogram"
           }
          ],
          "histogram2d": [
           {
            "colorbar": {
             "outlinewidth": 0,
             "ticks": ""
            },
            "colorscale": [
             [
              0,
              "#0d0887"
             ],
             [
              0.1111111111111111,
              "#46039f"
             ],
             [
              0.2222222222222222,
              "#7201a8"
             ],
             [
              0.3333333333333333,
              "#9c179e"
             ],
             [
              0.4444444444444444,
              "#bd3786"
             ],
             [
              0.5555555555555556,
              "#d8576b"
             ],
             [
              0.6666666666666666,
              "#ed7953"
             ],
             [
              0.7777777777777778,
              "#fb9f3a"
             ],
             [
              0.8888888888888888,
              "#fdca26"
             ],
             [
              1,
              "#f0f921"
             ]
            ],
            "type": "histogram2d"
           }
          ],
          "histogram2dcontour": [
           {
            "colorbar": {
             "outlinewidth": 0,
             "ticks": ""
            },
            "colorscale": [
             [
              0,
              "#0d0887"
             ],
             [
              0.1111111111111111,
              "#46039f"
             ],
             [
              0.2222222222222222,
              "#7201a8"
             ],
             [
              0.3333333333333333,
              "#9c179e"
             ],
             [
              0.4444444444444444,
              "#bd3786"
             ],
             [
              0.5555555555555556,
              "#d8576b"
             ],
             [
              0.6666666666666666,
              "#ed7953"
             ],
             [
              0.7777777777777778,
              "#fb9f3a"
             ],
             [
              0.8888888888888888,
              "#fdca26"
             ],
             [
              1,
              "#f0f921"
             ]
            ],
            "type": "histogram2dcontour"
           }
          ],
          "mesh3d": [
           {
            "colorbar": {
             "outlinewidth": 0,
             "ticks": ""
            },
            "type": "mesh3d"
           }
          ],
          "parcoords": [
           {
            "line": {
             "colorbar": {
              "outlinewidth": 0,
              "ticks": ""
             }
            },
            "type": "parcoords"
           }
          ],
          "pie": [
           {
            "automargin": true,
            "type": "pie"
           }
          ],
          "scatter": [
           {
            "fillpattern": {
             "fillmode": "overlay",
             "size": 10,
             "solidity": 0.2
            },
            "type": "scatter"
           }
          ],
          "scatter3d": [
           {
            "line": {
             "colorbar": {
              "outlinewidth": 0,
              "ticks": ""
             }
            },
            "marker": {
             "colorbar": {
              "outlinewidth": 0,
              "ticks": ""
             }
            },
            "type": "scatter3d"
           }
          ],
          "scattercarpet": [
           {
            "marker": {
             "colorbar": {
              "outlinewidth": 0,
              "ticks": ""
             }
            },
            "type": "scattercarpet"
           }
          ],
          "scattergeo": [
           {
            "marker": {
             "colorbar": {
              "outlinewidth": 0,
              "ticks": ""
             }
            },
            "type": "scattergeo"
           }
          ],
          "scattergl": [
           {
            "marker": {
             "colorbar": {
              "outlinewidth": 0,
              "ticks": ""
             }
            },
            "type": "scattergl"
           }
          ],
          "scattermap": [
           {
            "marker": {
             "colorbar": {
              "outlinewidth": 0,
              "ticks": ""
             }
            },
            "type": "scattermap"
           }
          ],
          "scattermapbox": [
           {
            "marker": {
             "colorbar": {
              "outlinewidth": 0,
              "ticks": ""
             }
            },
            "type": "scattermapbox"
           }
          ],
          "scatterpolar": [
           {
            "marker": {
             "colorbar": {
              "outlinewidth": 0,
              "ticks": ""
             }
            },
            "type": "scatterpolar"
           }
          ],
          "scatterpolargl": [
           {
            "marker": {
             "colorbar": {
              "outlinewidth": 0,
              "ticks": ""
             }
            },
            "type": "scatterpolargl"
           }
          ],
          "scatterternary": [
           {
            "marker": {
             "colorbar": {
              "outlinewidth": 0,
              "ticks": ""
             }
            },
            "type": "scatterternary"
           }
          ],
          "surface": [
           {
            "colorbar": {
             "outlinewidth": 0,
             "ticks": ""
            },
            "colorscale": [
             [
              0,
              "#0d0887"
             ],
             [
              0.1111111111111111,
              "#46039f"
             ],
             [
              0.2222222222222222,
              "#7201a8"
             ],
             [
              0.3333333333333333,
              "#9c179e"
             ],
             [
              0.4444444444444444,
              "#bd3786"
             ],
             [
              0.5555555555555556,
              "#d8576b"
             ],
             [
              0.6666666666666666,
              "#ed7953"
             ],
             [
              0.7777777777777778,
              "#fb9f3a"
             ],
             [
              0.8888888888888888,
              "#fdca26"
             ],
             [
              1,
              "#f0f921"
             ]
            ],
            "type": "surface"
           }
          ],
          "table": [
           {
            "cells": {
             "fill": {
              "color": "#EBF0F8"
             },
             "line": {
              "color": "white"
             }
            },
            "header": {
             "fill": {
              "color": "#C8D4E3"
             },
             "line": {
              "color": "white"
             }
            },
            "type": "table"
           }
          ]
         },
         "layout": {
          "annotationdefaults": {
           "arrowcolor": "#2a3f5f",
           "arrowhead": 0,
           "arrowwidth": 1
          },
          "autotypenumbers": "strict",
          "coloraxis": {
           "colorbar": {
            "outlinewidth": 0,
            "ticks": ""
           }
          },
          "colorscale": {
           "diverging": [
            [
             0,
             "#8e0152"
            ],
            [
             0.1,
             "#c51b7d"
            ],
            [
             0.2,
             "#de77ae"
            ],
            [
             0.3,
             "#f1b6da"
            ],
            [
             0.4,
             "#fde0ef"
            ],
            [
             0.5,
             "#f7f7f7"
            ],
            [
             0.6,
             "#e6f5d0"
            ],
            [
             0.7,
             "#b8e186"
            ],
            [
             0.8,
             "#7fbc41"
            ],
            [
             0.9,
             "#4d9221"
            ],
            [
             1,
             "#276419"
            ]
           ],
           "sequential": [
            [
             0,
             "#0d0887"
            ],
            [
             0.1111111111111111,
             "#46039f"
            ],
            [
             0.2222222222222222,
             "#7201a8"
            ],
            [
             0.3333333333333333,
             "#9c179e"
            ],
            [
             0.4444444444444444,
             "#bd3786"
            ],
            [
             0.5555555555555556,
             "#d8576b"
            ],
            [
             0.6666666666666666,
             "#ed7953"
            ],
            [
             0.7777777777777778,
             "#fb9f3a"
            ],
            [
             0.8888888888888888,
             "#fdca26"
            ],
            [
             1,
             "#f0f921"
            ]
           ],
           "sequentialminus": [
            [
             0,
             "#0d0887"
            ],
            [
             0.1111111111111111,
             "#46039f"
            ],
            [
             0.2222222222222222,
             "#7201a8"
            ],
            [
             0.3333333333333333,
             "#9c179e"
            ],
            [
             0.4444444444444444,
             "#bd3786"
            ],
            [
             0.5555555555555556,
             "#d8576b"
            ],
            [
             0.6666666666666666,
             "#ed7953"
            ],
            [
             0.7777777777777778,
             "#fb9f3a"
            ],
            [
             0.8888888888888888,
             "#fdca26"
            ],
            [
             1,
             "#f0f921"
            ]
           ]
          },
          "colorway": [
           "#636efa",
           "#EF553B",
           "#00cc96",
           "#ab63fa",
           "#FFA15A",
           "#19d3f3",
           "#FF6692",
           "#B6E880",
           "#FF97FF",
           "#FECB52"
          ],
          "font": {
           "color": "#2a3f5f"
          },
          "geo": {
           "bgcolor": "white",
           "lakecolor": "white",
           "landcolor": "#E5ECF6",
           "showlakes": true,
           "showland": true,
           "subunitcolor": "white"
          },
          "hoverlabel": {
           "align": "left"
          },
          "hovermode": "closest",
          "mapbox": {
           "style": "light"
          },
          "paper_bgcolor": "white",
          "plot_bgcolor": "#E5ECF6",
          "polar": {
           "angularaxis": {
            "gridcolor": "white",
            "linecolor": "white",
            "ticks": ""
           },
           "bgcolor": "#E5ECF6",
           "radialaxis": {
            "gridcolor": "white",
            "linecolor": "white",
            "ticks": ""
           }
          },
          "scene": {
           "xaxis": {
            "backgroundcolor": "#E5ECF6",
            "gridcolor": "white",
            "gridwidth": 2,
            "linecolor": "white",
            "showbackground": true,
            "ticks": "",
            "zerolinecolor": "white"
           },
           "yaxis": {
            "backgroundcolor": "#E5ECF6",
            "gridcolor": "white",
            "gridwidth": 2,
            "linecolor": "white",
            "showbackground": true,
            "ticks": "",
            "zerolinecolor": "white"
           },
           "zaxis": {
            "backgroundcolor": "#E5ECF6",
            "gridcolor": "white",
            "gridwidth": 2,
            "linecolor": "white",
            "showbackground": true,
            "ticks": "",
            "zerolinecolor": "white"
           }
          },
          "shapedefaults": {
           "line": {
            "color": "#2a3f5f"
           }
          },
          "ternary": {
           "aaxis": {
            "gridcolor": "white",
            "linecolor": "white",
            "ticks": ""
           },
           "baxis": {
            "gridcolor": "white",
            "linecolor": "white",
            "ticks": ""
           },
           "bgcolor": "#E5ECF6",
           "caxis": {
            "gridcolor": "white",
            "linecolor": "white",
            "ticks": ""
           }
          },
          "title": {
           "x": 0.05
          },
          "xaxis": {
           "automargin": true,
           "gridcolor": "white",
           "linecolor": "white",
           "ticks": "",
           "title": {
            "standoff": 15
           },
           "zerolinecolor": "white",
           "zerolinewidth": 2
          },
          "yaxis": {
           "automargin": true,
           "gridcolor": "white",
           "linecolor": "white",
           "ticks": "",
           "title": {
            "standoff": 15
           },
           "zerolinecolor": "white",
           "zerolinewidth": 2
          }
         }
        },
        "title": {
         "text": "Test F1 Macro vs Selection Threshold for PCA Components = 60"
        },
        "xaxis": {
         "anchor": "y",
         "domain": [
          0,
          1
         ],
         "title": {
          "text": "VIFThreshold"
         }
        },
        "yaxis": {
         "anchor": "x",
         "domain": [
          0,
          1
         ],
         "title": {
          "text": "test_f1_macro"
         }
        }
       }
      }
     },
     "metadata": {},
     "output_type": "display_data"
    },
    {
     "data": {
      "application/vnd.plotly.v1+json": {
       "config": {
        "plotlyServerURL": "https://plot.ly"
       },
       "data": [
        {
         "hovertemplate": "Selection Threshold=0.014<br>VIFThreshold=%{x}<br>test_f1_macro=%{y}<extra></extra>",
         "legendgroup": "0.014",
         "line": {
          "color": "#636efa",
          "dash": "solid"
         },
         "marker": {
          "symbol": "circle"
         },
         "mode": "lines+markers",
         "name": "0.014",
         "orientation": "v",
         "showlegend": true,
         "type": "scatter",
         "x": {
          "bdata": "DxQZHg==",
          "dtype": "i1"
         },
         "xaxis": "x",
         "y": {
          "bdata": "H4XrUbhOVkDsUbgehRtWQOF6FK5HMVZAw/UoXI8iVkA=",
          "dtype": "f8"
         },
         "yaxis": "y"
        },
        {
         "hovertemplate": "Selection Threshold=0.016<br>VIFThreshold=%{x}<br>test_f1_macro=%{y}<extra></extra>",
         "legendgroup": "0.016",
         "line": {
          "color": "#EF553B",
          "dash": "solid"
         },
         "marker": {
          "symbol": "circle"
         },
         "mode": "lines+markers",
         "name": "0.016",
         "orientation": "v",
         "showlegend": true,
         "type": "scatter",
         "x": {
          "bdata": "DxQZHg==",
          "dtype": "i1"
         },
         "xaxis": "x",
         "y": {
          "bdata": "FK5H4Xr0VUCuR+F6FP5VQGZmZmZm9lVAKVyPwvXoVUA=",
          "dtype": "f8"
         },
         "yaxis": "y"
        },
        {
         "hovertemplate": "Selection Threshold=0.018<br>VIFThreshold=%{x}<br>test_f1_macro=%{y}<extra></extra>",
         "legendgroup": "0.018",
         "line": {
          "color": "#00cc96",
          "dash": "solid"
         },
         "marker": {
          "symbol": "circle"
         },
         "mode": "lines+markers",
         "name": "0.018",
         "orientation": "v",
         "showlegend": true,
         "type": "scatter",
         "x": {
          "bdata": "DxQZHg==",
          "dtype": "i1"
         },
         "xaxis": "x",
         "y": {
          "bdata": "XI/C9Sh8VUAAAAAAAJBVQHE9CtejkFVAcT0K16OQVUA=",
          "dtype": "f8"
         },
         "yaxis": "y"
        }
       ],
       "layout": {
        "legend": {
         "title": {
          "text": "Selection Threshold"
         },
         "tracegroupgap": 0
        },
        "template": {
         "data": {
          "bar": [
           {
            "error_x": {
             "color": "#2a3f5f"
            },
            "error_y": {
             "color": "#2a3f5f"
            },
            "marker": {
             "line": {
              "color": "#E5ECF6",
              "width": 0.5
             },
             "pattern": {
              "fillmode": "overlay",
              "size": 10,
              "solidity": 0.2
             }
            },
            "type": "bar"
           }
          ],
          "barpolar": [
           {
            "marker": {
             "line": {
              "color": "#E5ECF6",
              "width": 0.5
             },
             "pattern": {
              "fillmode": "overlay",
              "size": 10,
              "solidity": 0.2
             }
            },
            "type": "barpolar"
           }
          ],
          "carpet": [
           {
            "aaxis": {
             "endlinecolor": "#2a3f5f",
             "gridcolor": "white",
             "linecolor": "white",
             "minorgridcolor": "white",
             "startlinecolor": "#2a3f5f"
            },
            "baxis": {
             "endlinecolor": "#2a3f5f",
             "gridcolor": "white",
             "linecolor": "white",
             "minorgridcolor": "white",
             "startlinecolor": "#2a3f5f"
            },
            "type": "carpet"
           }
          ],
          "choropleth": [
           {
            "colorbar": {
             "outlinewidth": 0,
             "ticks": ""
            },
            "type": "choropleth"
           }
          ],
          "contour": [
           {
            "colorbar": {
             "outlinewidth": 0,
             "ticks": ""
            },
            "colorscale": [
             [
              0,
              "#0d0887"
             ],
             [
              0.1111111111111111,
              "#46039f"
             ],
             [
              0.2222222222222222,
              "#7201a8"
             ],
             [
              0.3333333333333333,
              "#9c179e"
             ],
             [
              0.4444444444444444,
              "#bd3786"
             ],
             [
              0.5555555555555556,
              "#d8576b"
             ],
             [
              0.6666666666666666,
              "#ed7953"
             ],
             [
              0.7777777777777778,
              "#fb9f3a"
             ],
             [
              0.8888888888888888,
              "#fdca26"
             ],
             [
              1,
              "#f0f921"
             ]
            ],
            "type": "contour"
           }
          ],
          "contourcarpet": [
           {
            "colorbar": {
             "outlinewidth": 0,
             "ticks": ""
            },
            "type": "contourcarpet"
           }
          ],
          "heatmap": [
           {
            "colorbar": {
             "outlinewidth": 0,
             "ticks": ""
            },
            "colorscale": [
             [
              0,
              "#0d0887"
             ],
             [
              0.1111111111111111,
              "#46039f"
             ],
             [
              0.2222222222222222,
              "#7201a8"
             ],
             [
              0.3333333333333333,
              "#9c179e"
             ],
             [
              0.4444444444444444,
              "#bd3786"
             ],
             [
              0.5555555555555556,
              "#d8576b"
             ],
             [
              0.6666666666666666,
              "#ed7953"
             ],
             [
              0.7777777777777778,
              "#fb9f3a"
             ],
             [
              0.8888888888888888,
              "#fdca26"
             ],
             [
              1,
              "#f0f921"
             ]
            ],
            "type": "heatmap"
           }
          ],
          "histogram": [
           {
            "marker": {
             "pattern": {
              "fillmode": "overlay",
              "size": 10,
              "solidity": 0.2
             }
            },
            "type": "histogram"
           }
          ],
          "histogram2d": [
           {
            "colorbar": {
             "outlinewidth": 0,
             "ticks": ""
            },
            "colorscale": [
             [
              0,
              "#0d0887"
             ],
             [
              0.1111111111111111,
              "#46039f"
             ],
             [
              0.2222222222222222,
              "#7201a8"
             ],
             [
              0.3333333333333333,
              "#9c179e"
             ],
             [
              0.4444444444444444,
              "#bd3786"
             ],
             [
              0.5555555555555556,
              "#d8576b"
             ],
             [
              0.6666666666666666,
              "#ed7953"
             ],
             [
              0.7777777777777778,
              "#fb9f3a"
             ],
             [
              0.8888888888888888,
              "#fdca26"
             ],
             [
              1,
              "#f0f921"
             ]
            ],
            "type": "histogram2d"
           }
          ],
          "histogram2dcontour": [
           {
            "colorbar": {
             "outlinewidth": 0,
             "ticks": ""
            },
            "colorscale": [
             [
              0,
              "#0d0887"
             ],
             [
              0.1111111111111111,
              "#46039f"
             ],
             [
              0.2222222222222222,
              "#7201a8"
             ],
             [
              0.3333333333333333,
              "#9c179e"
             ],
             [
              0.4444444444444444,
              "#bd3786"
             ],
             [
              0.5555555555555556,
              "#d8576b"
             ],
             [
              0.6666666666666666,
              "#ed7953"
             ],
             [
              0.7777777777777778,
              "#fb9f3a"
             ],
             [
              0.8888888888888888,
              "#fdca26"
             ],
             [
              1,
              "#f0f921"
             ]
            ],
            "type": "histogram2dcontour"
           }
          ],
          "mesh3d": [
           {
            "colorbar": {
             "outlinewidth": 0,
             "ticks": ""
            },
            "type": "mesh3d"
           }
          ],
          "parcoords": [
           {
            "line": {
             "colorbar": {
              "outlinewidth": 0,
              "ticks": ""
             }
            },
            "type": "parcoords"
           }
          ],
          "pie": [
           {
            "automargin": true,
            "type": "pie"
           }
          ],
          "scatter": [
           {
            "fillpattern": {
             "fillmode": "overlay",
             "size": 10,
             "solidity": 0.2
            },
            "type": "scatter"
           }
          ],
          "scatter3d": [
           {
            "line": {
             "colorbar": {
              "outlinewidth": 0,
              "ticks": ""
             }
            },
            "marker": {
             "colorbar": {
              "outlinewidth": 0,
              "ticks": ""
             }
            },
            "type": "scatter3d"
           }
          ],
          "scattercarpet": [
           {
            "marker": {
             "colorbar": {
              "outlinewidth": 0,
              "ticks": ""
             }
            },
            "type": "scattercarpet"
           }
          ],
          "scattergeo": [
           {
            "marker": {
             "colorbar": {
              "outlinewidth": 0,
              "ticks": ""
             }
            },
            "type": "scattergeo"
           }
          ],
          "scattergl": [
           {
            "marker": {
             "colorbar": {
              "outlinewidth": 0,
              "ticks": ""
             }
            },
            "type": "scattergl"
           }
          ],
          "scattermap": [
           {
            "marker": {
             "colorbar": {
              "outlinewidth": 0,
              "ticks": ""
             }
            },
            "type": "scattermap"
           }
          ],
          "scattermapbox": [
           {
            "marker": {
             "colorbar": {
              "outlinewidth": 0,
              "ticks": ""
             }
            },
            "type": "scattermapbox"
           }
          ],
          "scatterpolar": [
           {
            "marker": {
             "colorbar": {
              "outlinewidth": 0,
              "ticks": ""
             }
            },
            "type": "scatterpolar"
           }
          ],
          "scatterpolargl": [
           {
            "marker": {
             "colorbar": {
              "outlinewidth": 0,
              "ticks": ""
             }
            },
            "type": "scatterpolargl"
           }
          ],
          "scatterternary": [
           {
            "marker": {
             "colorbar": {
              "outlinewidth": 0,
              "ticks": ""
             }
            },
            "type": "scatterternary"
           }
          ],
          "surface": [
           {
            "colorbar": {
             "outlinewidth": 0,
             "ticks": ""
            },
            "colorscale": [
             [
              0,
              "#0d0887"
             ],
             [
              0.1111111111111111,
              "#46039f"
             ],
             [
              0.2222222222222222,
              "#7201a8"
             ],
             [
              0.3333333333333333,
              "#9c179e"
             ],
             [
              0.4444444444444444,
              "#bd3786"
             ],
             [
              0.5555555555555556,
              "#d8576b"
             ],
             [
              0.6666666666666666,
              "#ed7953"
             ],
             [
              0.7777777777777778,
              "#fb9f3a"
             ],
             [
              0.8888888888888888,
              "#fdca26"
             ],
             [
              1,
              "#f0f921"
             ]
            ],
            "type": "surface"
           }
          ],
          "table": [
           {
            "cells": {
             "fill": {
              "color": "#EBF0F8"
             },
             "line": {
              "color": "white"
             }
            },
            "header": {
             "fill": {
              "color": "#C8D4E3"
             },
             "line": {
              "color": "white"
             }
            },
            "type": "table"
           }
          ]
         },
         "layout": {
          "annotationdefaults": {
           "arrowcolor": "#2a3f5f",
           "arrowhead": 0,
           "arrowwidth": 1
          },
          "autotypenumbers": "strict",
          "coloraxis": {
           "colorbar": {
            "outlinewidth": 0,
            "ticks": ""
           }
          },
          "colorscale": {
           "diverging": [
            [
             0,
             "#8e0152"
            ],
            [
             0.1,
             "#c51b7d"
            ],
            [
             0.2,
             "#de77ae"
            ],
            [
             0.3,
             "#f1b6da"
            ],
            [
             0.4,
             "#fde0ef"
            ],
            [
             0.5,
             "#f7f7f7"
            ],
            [
             0.6,
             "#e6f5d0"
            ],
            [
             0.7,
             "#b8e186"
            ],
            [
             0.8,
             "#7fbc41"
            ],
            [
             0.9,
             "#4d9221"
            ],
            [
             1,
             "#276419"
            ]
           ],
           "sequential": [
            [
             0,
             "#0d0887"
            ],
            [
             0.1111111111111111,
             "#46039f"
            ],
            [
             0.2222222222222222,
             "#7201a8"
            ],
            [
             0.3333333333333333,
             "#9c179e"
            ],
            [
             0.4444444444444444,
             "#bd3786"
            ],
            [
             0.5555555555555556,
             "#d8576b"
            ],
            [
             0.6666666666666666,
             "#ed7953"
            ],
            [
             0.7777777777777778,
             "#fb9f3a"
            ],
            [
             0.8888888888888888,
             "#fdca26"
            ],
            [
             1,
             "#f0f921"
            ]
           ],
           "sequentialminus": [
            [
             0,
             "#0d0887"
            ],
            [
             0.1111111111111111,
             "#46039f"
            ],
            [
             0.2222222222222222,
             "#7201a8"
            ],
            [
             0.3333333333333333,
             "#9c179e"
            ],
            [
             0.4444444444444444,
             "#bd3786"
            ],
            [
             0.5555555555555556,
             "#d8576b"
            ],
            [
             0.6666666666666666,
             "#ed7953"
            ],
            [
             0.7777777777777778,
             "#fb9f3a"
            ],
            [
             0.8888888888888888,
             "#fdca26"
            ],
            [
             1,
             "#f0f921"
            ]
           ]
          },
          "colorway": [
           "#636efa",
           "#EF553B",
           "#00cc96",
           "#ab63fa",
           "#FFA15A",
           "#19d3f3",
           "#FF6692",
           "#B6E880",
           "#FF97FF",
           "#FECB52"
          ],
          "font": {
           "color": "#2a3f5f"
          },
          "geo": {
           "bgcolor": "white",
           "lakecolor": "white",
           "landcolor": "#E5ECF6",
           "showlakes": true,
           "showland": true,
           "subunitcolor": "white"
          },
          "hoverlabel": {
           "align": "left"
          },
          "hovermode": "closest",
          "mapbox": {
           "style": "light"
          },
          "paper_bgcolor": "white",
          "plot_bgcolor": "#E5ECF6",
          "polar": {
           "angularaxis": {
            "gridcolor": "white",
            "linecolor": "white",
            "ticks": ""
           },
           "bgcolor": "#E5ECF6",
           "radialaxis": {
            "gridcolor": "white",
            "linecolor": "white",
            "ticks": ""
           }
          },
          "scene": {
           "xaxis": {
            "backgroundcolor": "#E5ECF6",
            "gridcolor": "white",
            "gridwidth": 2,
            "linecolor": "white",
            "showbackground": true,
            "ticks": "",
            "zerolinecolor": "white"
           },
           "yaxis": {
            "backgroundcolor": "#E5ECF6",
            "gridcolor": "white",
            "gridwidth": 2,
            "linecolor": "white",
            "showbackground": true,
            "ticks": "",
            "zerolinecolor": "white"
           },
           "zaxis": {
            "backgroundcolor": "#E5ECF6",
            "gridcolor": "white",
            "gridwidth": 2,
            "linecolor": "white",
            "showbackground": true,
            "ticks": "",
            "zerolinecolor": "white"
           }
          },
          "shapedefaults": {
           "line": {
            "color": "#2a3f5f"
           }
          },
          "ternary": {
           "aaxis": {
            "gridcolor": "white",
            "linecolor": "white",
            "ticks": ""
           },
           "baxis": {
            "gridcolor": "white",
            "linecolor": "white",
            "ticks": ""
           },
           "bgcolor": "#E5ECF6",
           "caxis": {
            "gridcolor": "white",
            "linecolor": "white",
            "ticks": ""
           }
          },
          "title": {
           "x": 0.05
          },
          "xaxis": {
           "automargin": true,
           "gridcolor": "white",
           "linecolor": "white",
           "ticks": "",
           "title": {
            "standoff": 15
           },
           "zerolinecolor": "white",
           "zerolinewidth": 2
          },
          "yaxis": {
           "automargin": true,
           "gridcolor": "white",
           "linecolor": "white",
           "ticks": "",
           "title": {
            "standoff": 15
           },
           "zerolinecolor": "white",
           "zerolinewidth": 2
          }
         }
        },
        "title": {
         "text": "Test F1 Macro vs Selection Threshold for PCA Components = 70"
        },
        "xaxis": {
         "anchor": "y",
         "domain": [
          0,
          1
         ],
         "title": {
          "text": "VIFThreshold"
         }
        },
        "yaxis": {
         "anchor": "x",
         "domain": [
          0,
          1
         ],
         "title": {
          "text": "test_f1_macro"
         }
        }
       }
      }
     },
     "metadata": {},
     "output_type": "display_data"
    },
    {
     "data": {
      "application/vnd.plotly.v1+json": {
       "config": {
        "plotlyServerURL": "https://plot.ly"
       },
       "data": [
        {
         "hovertemplate": "Selection Threshold=0.014<br>VIFThreshold=%{x}<br>test_f1_macro=%{y}<extra></extra>",
         "legendgroup": "0.014",
         "line": {
          "color": "#636efa",
          "dash": "solid"
         },
         "marker": {
          "symbol": "circle"
         },
         "mode": "lines+markers",
         "name": "0.014",
         "orientation": "v",
         "showlegend": true,
         "type": "scatter",
         "x": {
          "bdata": "DxQZHg==",
          "dtype": "i1"
         },
         "xaxis": "x",
         "y": {
          "bdata": "FK5H4Xo0VkAK16NwPTpWQOxRuB6FK1ZAAAAAAAAwVkA=",
          "dtype": "f8"
         },
         "yaxis": "y"
        },
        {
         "hovertemplate": "Selection Threshold=0.016<br>VIFThreshold=%{x}<br>test_f1_macro=%{y}<extra></extra>",
         "legendgroup": "0.016",
         "line": {
          "color": "#EF553B",
          "dash": "solid"
         },
         "marker": {
          "symbol": "circle"
         },
         "mode": "lines+markers",
         "name": "0.016",
         "orientation": "v",
         "showlegend": true,
         "type": "scatter",
         "x": {
          "bdata": "DxQZHg==",
          "dtype": "i1"
         },
         "xaxis": "x",
         "y": {
          "bdata": "4XoUrkcBVkAAAAAAAABWQOxRuB6FC1ZAmpmZmZkJVkA=",
          "dtype": "f8"
         },
         "yaxis": "y"
        },
        {
         "hovertemplate": "Selection Threshold=0.018<br>VIFThreshold=%{x}<br>test_f1_macro=%{y}<extra></extra>",
         "legendgroup": "0.018",
         "line": {
          "color": "#00cc96",
          "dash": "solid"
         },
         "marker": {
          "symbol": "circle"
         },
         "mode": "lines+markers",
         "name": "0.018",
         "orientation": "v",
         "showlegend": true,
         "type": "scatter",
         "x": {
          "bdata": "DxQZHg==",
          "dtype": "i1"
         },
         "xaxis": "x",
         "y": {
          "bdata": "uB6F61GIVUBSuB6F66FVQArXo3A9qlVACtejcD2qVUA=",
          "dtype": "f8"
         },
         "yaxis": "y"
        }
       ],
       "layout": {
        "legend": {
         "title": {
          "text": "Selection Threshold"
         },
         "tracegroupgap": 0
        },
        "template": {
         "data": {
          "bar": [
           {
            "error_x": {
             "color": "#2a3f5f"
            },
            "error_y": {
             "color": "#2a3f5f"
            },
            "marker": {
             "line": {
              "color": "#E5ECF6",
              "width": 0.5
             },
             "pattern": {
              "fillmode": "overlay",
              "size": 10,
              "solidity": 0.2
             }
            },
            "type": "bar"
           }
          ],
          "barpolar": [
           {
            "marker": {
             "line": {
              "color": "#E5ECF6",
              "width": 0.5
             },
             "pattern": {
              "fillmode": "overlay",
              "size": 10,
              "solidity": 0.2
             }
            },
            "type": "barpolar"
           }
          ],
          "carpet": [
           {
            "aaxis": {
             "endlinecolor": "#2a3f5f",
             "gridcolor": "white",
             "linecolor": "white",
             "minorgridcolor": "white",
             "startlinecolor": "#2a3f5f"
            },
            "baxis": {
             "endlinecolor": "#2a3f5f",
             "gridcolor": "white",
             "linecolor": "white",
             "minorgridcolor": "white",
             "startlinecolor": "#2a3f5f"
            },
            "type": "carpet"
           }
          ],
          "choropleth": [
           {
            "colorbar": {
             "outlinewidth": 0,
             "ticks": ""
            },
            "type": "choropleth"
           }
          ],
          "contour": [
           {
            "colorbar": {
             "outlinewidth": 0,
             "ticks": ""
            },
            "colorscale": [
             [
              0,
              "#0d0887"
             ],
             [
              0.1111111111111111,
              "#46039f"
             ],
             [
              0.2222222222222222,
              "#7201a8"
             ],
             [
              0.3333333333333333,
              "#9c179e"
             ],
             [
              0.4444444444444444,
              "#bd3786"
             ],
             [
              0.5555555555555556,
              "#d8576b"
             ],
             [
              0.6666666666666666,
              "#ed7953"
             ],
             [
              0.7777777777777778,
              "#fb9f3a"
             ],
             [
              0.8888888888888888,
              "#fdca26"
             ],
             [
              1,
              "#f0f921"
             ]
            ],
            "type": "contour"
           }
          ],
          "contourcarpet": [
           {
            "colorbar": {
             "outlinewidth": 0,
             "ticks": ""
            },
            "type": "contourcarpet"
           }
          ],
          "heatmap": [
           {
            "colorbar": {
             "outlinewidth": 0,
             "ticks": ""
            },
            "colorscale": [
             [
              0,
              "#0d0887"
             ],
             [
              0.1111111111111111,
              "#46039f"
             ],
             [
              0.2222222222222222,
              "#7201a8"
             ],
             [
              0.3333333333333333,
              "#9c179e"
             ],
             [
              0.4444444444444444,
              "#bd3786"
             ],
             [
              0.5555555555555556,
              "#d8576b"
             ],
             [
              0.6666666666666666,
              "#ed7953"
             ],
             [
              0.7777777777777778,
              "#fb9f3a"
             ],
             [
              0.8888888888888888,
              "#fdca26"
             ],
             [
              1,
              "#f0f921"
             ]
            ],
            "type": "heatmap"
           }
          ],
          "histogram": [
           {
            "marker": {
             "pattern": {
              "fillmode": "overlay",
              "size": 10,
              "solidity": 0.2
             }
            },
            "type": "histogram"
           }
          ],
          "histogram2d": [
           {
            "colorbar": {
             "outlinewidth": 0,
             "ticks": ""
            },
            "colorscale": [
             [
              0,
              "#0d0887"
             ],
             [
              0.1111111111111111,
              "#46039f"
             ],
             [
              0.2222222222222222,
              "#7201a8"
             ],
             [
              0.3333333333333333,
              "#9c179e"
             ],
             [
              0.4444444444444444,
              "#bd3786"
             ],
             [
              0.5555555555555556,
              "#d8576b"
             ],
             [
              0.6666666666666666,
              "#ed7953"
             ],
             [
              0.7777777777777778,
              "#fb9f3a"
             ],
             [
              0.8888888888888888,
              "#fdca26"
             ],
             [
              1,
              "#f0f921"
             ]
            ],
            "type": "histogram2d"
           }
          ],
          "histogram2dcontour": [
           {
            "colorbar": {
             "outlinewidth": 0,
             "ticks": ""
            },
            "colorscale": [
             [
              0,
              "#0d0887"
             ],
             [
              0.1111111111111111,
              "#46039f"
             ],
             [
              0.2222222222222222,
              "#7201a8"
             ],
             [
              0.3333333333333333,
              "#9c179e"
             ],
             [
              0.4444444444444444,
              "#bd3786"
             ],
             [
              0.5555555555555556,
              "#d8576b"
             ],
             [
              0.6666666666666666,
              "#ed7953"
             ],
             [
              0.7777777777777778,
              "#fb9f3a"
             ],
             [
              0.8888888888888888,
              "#fdca26"
             ],
             [
              1,
              "#f0f921"
             ]
            ],
            "type": "histogram2dcontour"
           }
          ],
          "mesh3d": [
           {
            "colorbar": {
             "outlinewidth": 0,
             "ticks": ""
            },
            "type": "mesh3d"
           }
          ],
          "parcoords": [
           {
            "line": {
             "colorbar": {
              "outlinewidth": 0,
              "ticks": ""
             }
            },
            "type": "parcoords"
           }
          ],
          "pie": [
           {
            "automargin": true,
            "type": "pie"
           }
          ],
          "scatter": [
           {
            "fillpattern": {
             "fillmode": "overlay",
             "size": 10,
             "solidity": 0.2
            },
            "type": "scatter"
           }
          ],
          "scatter3d": [
           {
            "line": {
             "colorbar": {
              "outlinewidth": 0,
              "ticks": ""
             }
            },
            "marker": {
             "colorbar": {
              "outlinewidth": 0,
              "ticks": ""
             }
            },
            "type": "scatter3d"
           }
          ],
          "scattercarpet": [
           {
            "marker": {
             "colorbar": {
              "outlinewidth": 0,
              "ticks": ""
             }
            },
            "type": "scattercarpet"
           }
          ],
          "scattergeo": [
           {
            "marker": {
             "colorbar": {
              "outlinewidth": 0,
              "ticks": ""
             }
            },
            "type": "scattergeo"
           }
          ],
          "scattergl": [
           {
            "marker": {
             "colorbar": {
              "outlinewidth": 0,
              "ticks": ""
             }
            },
            "type": "scattergl"
           }
          ],
          "scattermap": [
           {
            "marker": {
             "colorbar": {
              "outlinewidth": 0,
              "ticks": ""
             }
            },
            "type": "scattermap"
           }
          ],
          "scattermapbox": [
           {
            "marker": {
             "colorbar": {
              "outlinewidth": 0,
              "ticks": ""
             }
            },
            "type": "scattermapbox"
           }
          ],
          "scatterpolar": [
           {
            "marker": {
             "colorbar": {
              "outlinewidth": 0,
              "ticks": ""
             }
            },
            "type": "scatterpolar"
           }
          ],
          "scatterpolargl": [
           {
            "marker": {
             "colorbar": {
              "outlinewidth": 0,
              "ticks": ""
             }
            },
            "type": "scatterpolargl"
           }
          ],
          "scatterternary": [
           {
            "marker": {
             "colorbar": {
              "outlinewidth": 0,
              "ticks": ""
             }
            },
            "type": "scatterternary"
           }
          ],
          "surface": [
           {
            "colorbar": {
             "outlinewidth": 0,
             "ticks": ""
            },
            "colorscale": [
             [
              0,
              "#0d0887"
             ],
             [
              0.1111111111111111,
              "#46039f"
             ],
             [
              0.2222222222222222,
              "#7201a8"
             ],
             [
              0.3333333333333333,
              "#9c179e"
             ],
             [
              0.4444444444444444,
              "#bd3786"
             ],
             [
              0.5555555555555556,
              "#d8576b"
             ],
             [
              0.6666666666666666,
              "#ed7953"
             ],
             [
              0.7777777777777778,
              "#fb9f3a"
             ],
             [
              0.8888888888888888,
              "#fdca26"
             ],
             [
              1,
              "#f0f921"
             ]
            ],
            "type": "surface"
           }
          ],
          "table": [
           {
            "cells": {
             "fill": {
              "color": "#EBF0F8"
             },
             "line": {
              "color": "white"
             }
            },
            "header": {
             "fill": {
              "color": "#C8D4E3"
             },
             "line": {
              "color": "white"
             }
            },
            "type": "table"
           }
          ]
         },
         "layout": {
          "annotationdefaults": {
           "arrowcolor": "#2a3f5f",
           "arrowhead": 0,
           "arrowwidth": 1
          },
          "autotypenumbers": "strict",
          "coloraxis": {
           "colorbar": {
            "outlinewidth": 0,
            "ticks": ""
           }
          },
          "colorscale": {
           "diverging": [
            [
             0,
             "#8e0152"
            ],
            [
             0.1,
             "#c51b7d"
            ],
            [
             0.2,
             "#de77ae"
            ],
            [
             0.3,
             "#f1b6da"
            ],
            [
             0.4,
             "#fde0ef"
            ],
            [
             0.5,
             "#f7f7f7"
            ],
            [
             0.6,
             "#e6f5d0"
            ],
            [
             0.7,
             "#b8e186"
            ],
            [
             0.8,
             "#7fbc41"
            ],
            [
             0.9,
             "#4d9221"
            ],
            [
             1,
             "#276419"
            ]
           ],
           "sequential": [
            [
             0,
             "#0d0887"
            ],
            [
             0.1111111111111111,
             "#46039f"
            ],
            [
             0.2222222222222222,
             "#7201a8"
            ],
            [
             0.3333333333333333,
             "#9c179e"
            ],
            [
             0.4444444444444444,
             "#bd3786"
            ],
            [
             0.5555555555555556,
             "#d8576b"
            ],
            [
             0.6666666666666666,
             "#ed7953"
            ],
            [
             0.7777777777777778,
             "#fb9f3a"
            ],
            [
             0.8888888888888888,
             "#fdca26"
            ],
            [
             1,
             "#f0f921"
            ]
           ],
           "sequentialminus": [
            [
             0,
             "#0d0887"
            ],
            [
             0.1111111111111111,
             "#46039f"
            ],
            [
             0.2222222222222222,
             "#7201a8"
            ],
            [
             0.3333333333333333,
             "#9c179e"
            ],
            [
             0.4444444444444444,
             "#bd3786"
            ],
            [
             0.5555555555555556,
             "#d8576b"
            ],
            [
             0.6666666666666666,
             "#ed7953"
            ],
            [
             0.7777777777777778,
             "#fb9f3a"
            ],
            [
             0.8888888888888888,
             "#fdca26"
            ],
            [
             1,
             "#f0f921"
            ]
           ]
          },
          "colorway": [
           "#636efa",
           "#EF553B",
           "#00cc96",
           "#ab63fa",
           "#FFA15A",
           "#19d3f3",
           "#FF6692",
           "#B6E880",
           "#FF97FF",
           "#FECB52"
          ],
          "font": {
           "color": "#2a3f5f"
          },
          "geo": {
           "bgcolor": "white",
           "lakecolor": "white",
           "landcolor": "#E5ECF6",
           "showlakes": true,
           "showland": true,
           "subunitcolor": "white"
          },
          "hoverlabel": {
           "align": "left"
          },
          "hovermode": "closest",
          "mapbox": {
           "style": "light"
          },
          "paper_bgcolor": "white",
          "plot_bgcolor": "#E5ECF6",
          "polar": {
           "angularaxis": {
            "gridcolor": "white",
            "linecolor": "white",
            "ticks": ""
           },
           "bgcolor": "#E5ECF6",
           "radialaxis": {
            "gridcolor": "white",
            "linecolor": "white",
            "ticks": ""
           }
          },
          "scene": {
           "xaxis": {
            "backgroundcolor": "#E5ECF6",
            "gridcolor": "white",
            "gridwidth": 2,
            "linecolor": "white",
            "showbackground": true,
            "ticks": "",
            "zerolinecolor": "white"
           },
           "yaxis": {
            "backgroundcolor": "#E5ECF6",
            "gridcolor": "white",
            "gridwidth": 2,
            "linecolor": "white",
            "showbackground": true,
            "ticks": "",
            "zerolinecolor": "white"
           },
           "zaxis": {
            "backgroundcolor": "#E5ECF6",
            "gridcolor": "white",
            "gridwidth": 2,
            "linecolor": "white",
            "showbackground": true,
            "ticks": "",
            "zerolinecolor": "white"
           }
          },
          "shapedefaults": {
           "line": {
            "color": "#2a3f5f"
           }
          },
          "ternary": {
           "aaxis": {
            "gridcolor": "white",
            "linecolor": "white",
            "ticks": ""
           },
           "baxis": {
            "gridcolor": "white",
            "linecolor": "white",
            "ticks": ""
           },
           "bgcolor": "#E5ECF6",
           "caxis": {
            "gridcolor": "white",
            "linecolor": "white",
            "ticks": ""
           }
          },
          "title": {
           "x": 0.05
          },
          "xaxis": {
           "automargin": true,
           "gridcolor": "white",
           "linecolor": "white",
           "ticks": "",
           "title": {
            "standoff": 15
           },
           "zerolinecolor": "white",
           "zerolinewidth": 2
          },
          "yaxis": {
           "automargin": true,
           "gridcolor": "white",
           "linecolor": "white",
           "ticks": "",
           "title": {
            "standoff": 15
           },
           "zerolinecolor": "white",
           "zerolinewidth": 2
          }
         }
        },
        "title": {
         "text": "Test F1 Macro vs Selection Threshold for PCA Components = 80"
        },
        "xaxis": {
         "anchor": "y",
         "domain": [
          0,
          1
         ],
         "title": {
          "text": "VIFThreshold"
         }
        },
        "yaxis": {
         "anchor": "x",
         "domain": [
          0,
          1
         ],
         "title": {
          "text": "test_f1_macro"
         }
        }
       }
      }
     },
     "metadata": {},
     "output_type": "display_data"
    },
    {
     "data": {
      "application/vnd.plotly.v1+json": {
       "config": {
        "plotlyServerURL": "https://plot.ly"
       },
       "data": [
        {
         "hovertemplate": "Selection Threshold=0.014<br>VIFThreshold=%{x}<br>test_f1_macro=%{y}<extra></extra>",
         "legendgroup": "0.014",
         "line": {
          "color": "#636efa",
          "dash": "solid"
         },
         "marker": {
          "symbol": "circle"
         },
         "mode": "lines+markers",
         "name": "0.014",
         "orientation": "v",
         "showlegend": true,
         "type": "scatter",
         "x": {
          "bdata": "DxQZHg==",
          "dtype": "i1"
         },
         "xaxis": "x",
         "y": {
          "bdata": "j8L1KFw/VkCkcD0K10NWQOF6FK5HMVZAhetRuB4lVkA=",
          "dtype": "f8"
         },
         "yaxis": "y"
        },
        {
         "hovertemplate": "Selection Threshold=0.016<br>VIFThreshold=%{x}<br>test_f1_macro=%{y}<extra></extra>",
         "legendgroup": "0.016",
         "line": {
          "color": "#EF553B",
          "dash": "solid"
         },
         "marker": {
          "symbol": "circle"
         },
         "mode": "lines+markers",
         "name": "0.016",
         "orientation": "v",
         "showlegend": true,
         "type": "scatter",
         "x": {
          "bdata": "DxQZHg==",
          "dtype": "i1"
         },
         "xaxis": "x",
         "y": {
          "bdata": "7FG4HoX7VUDD9ShcjxJWQIXrUbgeBVZAFK5H4XoUVkA=",
          "dtype": "f8"
         },
         "yaxis": "y"
        },
        {
         "hovertemplate": "Selection Threshold=0.018<br>VIFThreshold=%{x}<br>test_f1_macro=%{y}<extra></extra>",
         "legendgroup": "0.018",
         "line": {
          "color": "#00cc96",
          "dash": "solid"
         },
         "marker": {
          "symbol": "circle"
         },
         "mode": "lines+markers",
         "name": "0.018",
         "orientation": "v",
         "showlegend": true,
         "type": "scatter",
         "x": {
          "bdata": "DxQZHg==",
          "dtype": "i1"
         },
         "xaxis": "x",
         "y": {
          "bdata": "zczMzMysVUCPwvUoXK9VQJqZmZmZuVVAmpmZmZm5VUA=",
          "dtype": "f8"
         },
         "yaxis": "y"
        }
       ],
       "layout": {
        "legend": {
         "title": {
          "text": "Selection Threshold"
         },
         "tracegroupgap": 0
        },
        "template": {
         "data": {
          "bar": [
           {
            "error_x": {
             "color": "#2a3f5f"
            },
            "error_y": {
             "color": "#2a3f5f"
            },
            "marker": {
             "line": {
              "color": "#E5ECF6",
              "width": 0.5
             },
             "pattern": {
              "fillmode": "overlay",
              "size": 10,
              "solidity": 0.2
             }
            },
            "type": "bar"
           }
          ],
          "barpolar": [
           {
            "marker": {
             "line": {
              "color": "#E5ECF6",
              "width": 0.5
             },
             "pattern": {
              "fillmode": "overlay",
              "size": 10,
              "solidity": 0.2
             }
            },
            "type": "barpolar"
           }
          ],
          "carpet": [
           {
            "aaxis": {
             "endlinecolor": "#2a3f5f",
             "gridcolor": "white",
             "linecolor": "white",
             "minorgridcolor": "white",
             "startlinecolor": "#2a3f5f"
            },
            "baxis": {
             "endlinecolor": "#2a3f5f",
             "gridcolor": "white",
             "linecolor": "white",
             "minorgridcolor": "white",
             "startlinecolor": "#2a3f5f"
            },
            "type": "carpet"
           }
          ],
          "choropleth": [
           {
            "colorbar": {
             "outlinewidth": 0,
             "ticks": ""
            },
            "type": "choropleth"
           }
          ],
          "contour": [
           {
            "colorbar": {
             "outlinewidth": 0,
             "ticks": ""
            },
            "colorscale": [
             [
              0,
              "#0d0887"
             ],
             [
              0.1111111111111111,
              "#46039f"
             ],
             [
              0.2222222222222222,
              "#7201a8"
             ],
             [
              0.3333333333333333,
              "#9c179e"
             ],
             [
              0.4444444444444444,
              "#bd3786"
             ],
             [
              0.5555555555555556,
              "#d8576b"
             ],
             [
              0.6666666666666666,
              "#ed7953"
             ],
             [
              0.7777777777777778,
              "#fb9f3a"
             ],
             [
              0.8888888888888888,
              "#fdca26"
             ],
             [
              1,
              "#f0f921"
             ]
            ],
            "type": "contour"
           }
          ],
          "contourcarpet": [
           {
            "colorbar": {
             "outlinewidth": 0,
             "ticks": ""
            },
            "type": "contourcarpet"
           }
          ],
          "heatmap": [
           {
            "colorbar": {
             "outlinewidth": 0,
             "ticks": ""
            },
            "colorscale": [
             [
              0,
              "#0d0887"
             ],
             [
              0.1111111111111111,
              "#46039f"
             ],
             [
              0.2222222222222222,
              "#7201a8"
             ],
             [
              0.3333333333333333,
              "#9c179e"
             ],
             [
              0.4444444444444444,
              "#bd3786"
             ],
             [
              0.5555555555555556,
              "#d8576b"
             ],
             [
              0.6666666666666666,
              "#ed7953"
             ],
             [
              0.7777777777777778,
              "#fb9f3a"
             ],
             [
              0.8888888888888888,
              "#fdca26"
             ],
             [
              1,
              "#f0f921"
             ]
            ],
            "type": "heatmap"
           }
          ],
          "histogram": [
           {
            "marker": {
             "pattern": {
              "fillmode": "overlay",
              "size": 10,
              "solidity": 0.2
             }
            },
            "type": "histogram"
           }
          ],
          "histogram2d": [
           {
            "colorbar": {
             "outlinewidth": 0,
             "ticks": ""
            },
            "colorscale": [
             [
              0,
              "#0d0887"
             ],
             [
              0.1111111111111111,
              "#46039f"
             ],
             [
              0.2222222222222222,
              "#7201a8"
             ],
             [
              0.3333333333333333,
              "#9c179e"
             ],
             [
              0.4444444444444444,
              "#bd3786"
             ],
             [
              0.5555555555555556,
              "#d8576b"
             ],
             [
              0.6666666666666666,
              "#ed7953"
             ],
             [
              0.7777777777777778,
              "#fb9f3a"
             ],
             [
              0.8888888888888888,
              "#fdca26"
             ],
             [
              1,
              "#f0f921"
             ]
            ],
            "type": "histogram2d"
           }
          ],
          "histogram2dcontour": [
           {
            "colorbar": {
             "outlinewidth": 0,
             "ticks": ""
            },
            "colorscale": [
             [
              0,
              "#0d0887"
             ],
             [
              0.1111111111111111,
              "#46039f"
             ],
             [
              0.2222222222222222,
              "#7201a8"
             ],
             [
              0.3333333333333333,
              "#9c179e"
             ],
             [
              0.4444444444444444,
              "#bd3786"
             ],
             [
              0.5555555555555556,
              "#d8576b"
             ],
             [
              0.6666666666666666,
              "#ed7953"
             ],
             [
              0.7777777777777778,
              "#fb9f3a"
             ],
             [
              0.8888888888888888,
              "#fdca26"
             ],
             [
              1,
              "#f0f921"
             ]
            ],
            "type": "histogram2dcontour"
           }
          ],
          "mesh3d": [
           {
            "colorbar": {
             "outlinewidth": 0,
             "ticks": ""
            },
            "type": "mesh3d"
           }
          ],
          "parcoords": [
           {
            "line": {
             "colorbar": {
              "outlinewidth": 0,
              "ticks": ""
             }
            },
            "type": "parcoords"
           }
          ],
          "pie": [
           {
            "automargin": true,
            "type": "pie"
           }
          ],
          "scatter": [
           {
            "fillpattern": {
             "fillmode": "overlay",
             "size": 10,
             "solidity": 0.2
            },
            "type": "scatter"
           }
          ],
          "scatter3d": [
           {
            "line": {
             "colorbar": {
              "outlinewidth": 0,
              "ticks": ""
             }
            },
            "marker": {
             "colorbar": {
              "outlinewidth": 0,
              "ticks": ""
             }
            },
            "type": "scatter3d"
           }
          ],
          "scattercarpet": [
           {
            "marker": {
             "colorbar": {
              "outlinewidth": 0,
              "ticks": ""
             }
            },
            "type": "scattercarpet"
           }
          ],
          "scattergeo": [
           {
            "marker": {
             "colorbar": {
              "outlinewidth": 0,
              "ticks": ""
             }
            },
            "type": "scattergeo"
           }
          ],
          "scattergl": [
           {
            "marker": {
             "colorbar": {
              "outlinewidth": 0,
              "ticks": ""
             }
            },
            "type": "scattergl"
           }
          ],
          "scattermap": [
           {
            "marker": {
             "colorbar": {
              "outlinewidth": 0,
              "ticks": ""
             }
            },
            "type": "scattermap"
           }
          ],
          "scattermapbox": [
           {
            "marker": {
             "colorbar": {
              "outlinewidth": 0,
              "ticks": ""
             }
            },
            "type": "scattermapbox"
           }
          ],
          "scatterpolar": [
           {
            "marker": {
             "colorbar": {
              "outlinewidth": 0,
              "ticks": ""
             }
            },
            "type": "scatterpolar"
           }
          ],
          "scatterpolargl": [
           {
            "marker": {
             "colorbar": {
              "outlinewidth": 0,
              "ticks": ""
             }
            },
            "type": "scatterpolargl"
           }
          ],
          "scatterternary": [
           {
            "marker": {
             "colorbar": {
              "outlinewidth": 0,
              "ticks": ""
             }
            },
            "type": "scatterternary"
           }
          ],
          "surface": [
           {
            "colorbar": {
             "outlinewidth": 0,
             "ticks": ""
            },
            "colorscale": [
             [
              0,
              "#0d0887"
             ],
             [
              0.1111111111111111,
              "#46039f"
             ],
             [
              0.2222222222222222,
              "#7201a8"
             ],
             [
              0.3333333333333333,
              "#9c179e"
             ],
             [
              0.4444444444444444,
              "#bd3786"
             ],
             [
              0.5555555555555556,
              "#d8576b"
             ],
             [
              0.6666666666666666,
              "#ed7953"
             ],
             [
              0.7777777777777778,
              "#fb9f3a"
             ],
             [
              0.8888888888888888,
              "#fdca26"
             ],
             [
              1,
              "#f0f921"
             ]
            ],
            "type": "surface"
           }
          ],
          "table": [
           {
            "cells": {
             "fill": {
              "color": "#EBF0F8"
             },
             "line": {
              "color": "white"
             }
            },
            "header": {
             "fill": {
              "color": "#C8D4E3"
             },
             "line": {
              "color": "white"
             }
            },
            "type": "table"
           }
          ]
         },
         "layout": {
          "annotationdefaults": {
           "arrowcolor": "#2a3f5f",
           "arrowhead": 0,
           "arrowwidth": 1
          },
          "autotypenumbers": "strict",
          "coloraxis": {
           "colorbar": {
            "outlinewidth": 0,
            "ticks": ""
           }
          },
          "colorscale": {
           "diverging": [
            [
             0,
             "#8e0152"
            ],
            [
             0.1,
             "#c51b7d"
            ],
            [
             0.2,
             "#de77ae"
            ],
            [
             0.3,
             "#f1b6da"
            ],
            [
             0.4,
             "#fde0ef"
            ],
            [
             0.5,
             "#f7f7f7"
            ],
            [
             0.6,
             "#e6f5d0"
            ],
            [
             0.7,
             "#b8e186"
            ],
            [
             0.8,
             "#7fbc41"
            ],
            [
             0.9,
             "#4d9221"
            ],
            [
             1,
             "#276419"
            ]
           ],
           "sequential": [
            [
             0,
             "#0d0887"
            ],
            [
             0.1111111111111111,
             "#46039f"
            ],
            [
             0.2222222222222222,
             "#7201a8"
            ],
            [
             0.3333333333333333,
             "#9c179e"
            ],
            [
             0.4444444444444444,
             "#bd3786"
            ],
            [
             0.5555555555555556,
             "#d8576b"
            ],
            [
             0.6666666666666666,
             "#ed7953"
            ],
            [
             0.7777777777777778,
             "#fb9f3a"
            ],
            [
             0.8888888888888888,
             "#fdca26"
            ],
            [
             1,
             "#f0f921"
            ]
           ],
           "sequentialminus": [
            [
             0,
             "#0d0887"
            ],
            [
             0.1111111111111111,
             "#46039f"
            ],
            [
             0.2222222222222222,
             "#7201a8"
            ],
            [
             0.3333333333333333,
             "#9c179e"
            ],
            [
             0.4444444444444444,
             "#bd3786"
            ],
            [
             0.5555555555555556,
             "#d8576b"
            ],
            [
             0.6666666666666666,
             "#ed7953"
            ],
            [
             0.7777777777777778,
             "#fb9f3a"
            ],
            [
             0.8888888888888888,
             "#fdca26"
            ],
            [
             1,
             "#f0f921"
            ]
           ]
          },
          "colorway": [
           "#636efa",
           "#EF553B",
           "#00cc96",
           "#ab63fa",
           "#FFA15A",
           "#19d3f3",
           "#FF6692",
           "#B6E880",
           "#FF97FF",
           "#FECB52"
          ],
          "font": {
           "color": "#2a3f5f"
          },
          "geo": {
           "bgcolor": "white",
           "lakecolor": "white",
           "landcolor": "#E5ECF6",
           "showlakes": true,
           "showland": true,
           "subunitcolor": "white"
          },
          "hoverlabel": {
           "align": "left"
          },
          "hovermode": "closest",
          "mapbox": {
           "style": "light"
          },
          "paper_bgcolor": "white",
          "plot_bgcolor": "#E5ECF6",
          "polar": {
           "angularaxis": {
            "gridcolor": "white",
            "linecolor": "white",
            "ticks": ""
           },
           "bgcolor": "#E5ECF6",
           "radialaxis": {
            "gridcolor": "white",
            "linecolor": "white",
            "ticks": ""
           }
          },
          "scene": {
           "xaxis": {
            "backgroundcolor": "#E5ECF6",
            "gridcolor": "white",
            "gridwidth": 2,
            "linecolor": "white",
            "showbackground": true,
            "ticks": "",
            "zerolinecolor": "white"
           },
           "yaxis": {
            "backgroundcolor": "#E5ECF6",
            "gridcolor": "white",
            "gridwidth": 2,
            "linecolor": "white",
            "showbackground": true,
            "ticks": "",
            "zerolinecolor": "white"
           },
           "zaxis": {
            "backgroundcolor": "#E5ECF6",
            "gridcolor": "white",
            "gridwidth": 2,
            "linecolor": "white",
            "showbackground": true,
            "ticks": "",
            "zerolinecolor": "white"
           }
          },
          "shapedefaults": {
           "line": {
            "color": "#2a3f5f"
           }
          },
          "ternary": {
           "aaxis": {
            "gridcolor": "white",
            "linecolor": "white",
            "ticks": ""
           },
           "baxis": {
            "gridcolor": "white",
            "linecolor": "white",
            "ticks": ""
           },
           "bgcolor": "#E5ECF6",
           "caxis": {
            "gridcolor": "white",
            "linecolor": "white",
            "ticks": ""
           }
          },
          "title": {
           "x": 0.05
          },
          "xaxis": {
           "automargin": true,
           "gridcolor": "white",
           "linecolor": "white",
           "ticks": "",
           "title": {
            "standoff": 15
           },
           "zerolinecolor": "white",
           "zerolinewidth": 2
          },
          "yaxis": {
           "automargin": true,
           "gridcolor": "white",
           "linecolor": "white",
           "ticks": "",
           "title": {
            "standoff": 15
           },
           "zerolinecolor": "white",
           "zerolinewidth": 2
          }
         }
        },
        "title": {
         "text": "Test F1 Macro vs Selection Threshold for PCA Components = 90"
        },
        "xaxis": {
         "anchor": "y",
         "domain": [
          0,
          1
         ],
         "title": {
          "text": "VIFThreshold"
         }
        },
        "yaxis": {
         "anchor": "x",
         "domain": [
          0,
          1
         ],
         "title": {
          "text": "test_f1_macro"
         }
        }
       }
      }
     },
     "metadata": {},
     "output_type": "display_data"
    },
    {
     "data": {
      "application/vnd.plotly.v1+json": {
       "config": {
        "plotlyServerURL": "https://plot.ly"
       },
       "data": [
        {
         "hovertemplate": "Selection Threshold=0.014<br>VIFThreshold=%{x}<br>test_f1_macro=%{y}<extra></extra>",
         "legendgroup": "0.014",
         "line": {
          "color": "#636efa",
          "dash": "solid"
         },
         "marker": {
          "symbol": "circle"
         },
         "mode": "lines+markers",
         "name": "0.014",
         "orientation": "v",
         "showlegend": true,
         "type": "scatter",
         "x": {
          "bdata": "DxQZHg==",
          "dtype": "i1"
         },
         "xaxis": "x",
         "y": {
          "bdata": "exSuR+E6VkAzMzMzM1NWQM3MzMzMPFZAMzMzMzNDVkA=",
          "dtype": "f8"
         },
         "yaxis": "y"
        },
        {
         "hovertemplate": "Selection Threshold=0.016<br>VIFThreshold=%{x}<br>test_f1_macro=%{y}<extra></extra>",
         "legendgroup": "0.016",
         "line": {
          "color": "#EF553B",
          "dash": "solid"
         },
         "marker": {
          "symbol": "circle"
         },
         "mode": "lines+markers",
         "name": "0.016",
         "orientation": "v",
         "showlegend": true,
         "type": "scatter",
         "x": {
          "bdata": "DxQZHg==",
          "dtype": "i1"
         },
         "xaxis": "x",
         "y": {
          "bdata": "H4XrUbgeVkDD9ShcjxJWQPYoXI/CJVZAuB6F61EoVkA=",
          "dtype": "f8"
         },
         "yaxis": "y"
        },
        {
         "hovertemplate": "Selection Threshold=0.018<br>VIFThreshold=%{x}<br>test_f1_macro=%{y}<extra></extra>",
         "legendgroup": "0.018",
         "line": {
          "color": "#00cc96",
          "dash": "solid"
         },
         "marker": {
          "symbol": "circle"
         },
         "mode": "lines+markers",
         "name": "0.018",
         "orientation": "v",
         "showlegend": true,
         "type": "scatter",
         "x": {
          "bdata": "FBke",
          "dtype": "i1"
         },
         "xaxis": "x",
         "y": {
          "bdata": "4XoUrkfBVUCuR+F6FL5VQK5H4XoUvlVA",
          "dtype": "f8"
         },
         "yaxis": "y"
        }
       ],
       "layout": {
        "legend": {
         "title": {
          "text": "Selection Threshold"
         },
         "tracegroupgap": 0
        },
        "template": {
         "data": {
          "bar": [
           {
            "error_x": {
             "color": "#2a3f5f"
            },
            "error_y": {
             "color": "#2a3f5f"
            },
            "marker": {
             "line": {
              "color": "#E5ECF6",
              "width": 0.5
             },
             "pattern": {
              "fillmode": "overlay",
              "size": 10,
              "solidity": 0.2
             }
            },
            "type": "bar"
           }
          ],
          "barpolar": [
           {
            "marker": {
             "line": {
              "color": "#E5ECF6",
              "width": 0.5
             },
             "pattern": {
              "fillmode": "overlay",
              "size": 10,
              "solidity": 0.2
             }
            },
            "type": "barpolar"
           }
          ],
          "carpet": [
           {
            "aaxis": {
             "endlinecolor": "#2a3f5f",
             "gridcolor": "white",
             "linecolor": "white",
             "minorgridcolor": "white",
             "startlinecolor": "#2a3f5f"
            },
            "baxis": {
             "endlinecolor": "#2a3f5f",
             "gridcolor": "white",
             "linecolor": "white",
             "minorgridcolor": "white",
             "startlinecolor": "#2a3f5f"
            },
            "type": "carpet"
           }
          ],
          "choropleth": [
           {
            "colorbar": {
             "outlinewidth": 0,
             "ticks": ""
            },
            "type": "choropleth"
           }
          ],
          "contour": [
           {
            "colorbar": {
             "outlinewidth": 0,
             "ticks": ""
            },
            "colorscale": [
             [
              0,
              "#0d0887"
             ],
             [
              0.1111111111111111,
              "#46039f"
             ],
             [
              0.2222222222222222,
              "#7201a8"
             ],
             [
              0.3333333333333333,
              "#9c179e"
             ],
             [
              0.4444444444444444,
              "#bd3786"
             ],
             [
              0.5555555555555556,
              "#d8576b"
             ],
             [
              0.6666666666666666,
              "#ed7953"
             ],
             [
              0.7777777777777778,
              "#fb9f3a"
             ],
             [
              0.8888888888888888,
              "#fdca26"
             ],
             [
              1,
              "#f0f921"
             ]
            ],
            "type": "contour"
           }
          ],
          "contourcarpet": [
           {
            "colorbar": {
             "outlinewidth": 0,
             "ticks": ""
            },
            "type": "contourcarpet"
           }
          ],
          "heatmap": [
           {
            "colorbar": {
             "outlinewidth": 0,
             "ticks": ""
            },
            "colorscale": [
             [
              0,
              "#0d0887"
             ],
             [
              0.1111111111111111,
              "#46039f"
             ],
             [
              0.2222222222222222,
              "#7201a8"
             ],
             [
              0.3333333333333333,
              "#9c179e"
             ],
             [
              0.4444444444444444,
              "#bd3786"
             ],
             [
              0.5555555555555556,
              "#d8576b"
             ],
             [
              0.6666666666666666,
              "#ed7953"
             ],
             [
              0.7777777777777778,
              "#fb9f3a"
             ],
             [
              0.8888888888888888,
              "#fdca26"
             ],
             [
              1,
              "#f0f921"
             ]
            ],
            "type": "heatmap"
           }
          ],
          "histogram": [
           {
            "marker": {
             "pattern": {
              "fillmode": "overlay",
              "size": 10,
              "solidity": 0.2
             }
            },
            "type": "histogram"
           }
          ],
          "histogram2d": [
           {
            "colorbar": {
             "outlinewidth": 0,
             "ticks": ""
            },
            "colorscale": [
             [
              0,
              "#0d0887"
             ],
             [
              0.1111111111111111,
              "#46039f"
             ],
             [
              0.2222222222222222,
              "#7201a8"
             ],
             [
              0.3333333333333333,
              "#9c179e"
             ],
             [
              0.4444444444444444,
              "#bd3786"
             ],
             [
              0.5555555555555556,
              "#d8576b"
             ],
             [
              0.6666666666666666,
              "#ed7953"
             ],
             [
              0.7777777777777778,
              "#fb9f3a"
             ],
             [
              0.8888888888888888,
              "#fdca26"
             ],
             [
              1,
              "#f0f921"
             ]
            ],
            "type": "histogram2d"
           }
          ],
          "histogram2dcontour": [
           {
            "colorbar": {
             "outlinewidth": 0,
             "ticks": ""
            },
            "colorscale": [
             [
              0,
              "#0d0887"
             ],
             [
              0.1111111111111111,
              "#46039f"
             ],
             [
              0.2222222222222222,
              "#7201a8"
             ],
             [
              0.3333333333333333,
              "#9c179e"
             ],
             [
              0.4444444444444444,
              "#bd3786"
             ],
             [
              0.5555555555555556,
              "#d8576b"
             ],
             [
              0.6666666666666666,
              "#ed7953"
             ],
             [
              0.7777777777777778,
              "#fb9f3a"
             ],
             [
              0.8888888888888888,
              "#fdca26"
             ],
             [
              1,
              "#f0f921"
             ]
            ],
            "type": "histogram2dcontour"
           }
          ],
          "mesh3d": [
           {
            "colorbar": {
             "outlinewidth": 0,
             "ticks": ""
            },
            "type": "mesh3d"
           }
          ],
          "parcoords": [
           {
            "line": {
             "colorbar": {
              "outlinewidth": 0,
              "ticks": ""
             }
            },
            "type": "parcoords"
           }
          ],
          "pie": [
           {
            "automargin": true,
            "type": "pie"
           }
          ],
          "scatter": [
           {
            "fillpattern": {
             "fillmode": "overlay",
             "size": 10,
             "solidity": 0.2
            },
            "type": "scatter"
           }
          ],
          "scatter3d": [
           {
            "line": {
             "colorbar": {
              "outlinewidth": 0,
              "ticks": ""
             }
            },
            "marker": {
             "colorbar": {
              "outlinewidth": 0,
              "ticks": ""
             }
            },
            "type": "scatter3d"
           }
          ],
          "scattercarpet": [
           {
            "marker": {
             "colorbar": {
              "outlinewidth": 0,
              "ticks": ""
             }
            },
            "type": "scattercarpet"
           }
          ],
          "scattergeo": [
           {
            "marker": {
             "colorbar": {
              "outlinewidth": 0,
              "ticks": ""
             }
            },
            "type": "scattergeo"
           }
          ],
          "scattergl": [
           {
            "marker": {
             "colorbar": {
              "outlinewidth": 0,
              "ticks": ""
             }
            },
            "type": "scattergl"
           }
          ],
          "scattermap": [
           {
            "marker": {
             "colorbar": {
              "outlinewidth": 0,
              "ticks": ""
             }
            },
            "type": "scattermap"
           }
          ],
          "scattermapbox": [
           {
            "marker": {
             "colorbar": {
              "outlinewidth": 0,
              "ticks": ""
             }
            },
            "type": "scattermapbox"
           }
          ],
          "scatterpolar": [
           {
            "marker": {
             "colorbar": {
              "outlinewidth": 0,
              "ticks": ""
             }
            },
            "type": "scatterpolar"
           }
          ],
          "scatterpolargl": [
           {
            "marker": {
             "colorbar": {
              "outlinewidth": 0,
              "ticks": ""
             }
            },
            "type": "scatterpolargl"
           }
          ],
          "scatterternary": [
           {
            "marker": {
             "colorbar": {
              "outlinewidth": 0,
              "ticks": ""
             }
            },
            "type": "scatterternary"
           }
          ],
          "surface": [
           {
            "colorbar": {
             "outlinewidth": 0,
             "ticks": ""
            },
            "colorscale": [
             [
              0,
              "#0d0887"
             ],
             [
              0.1111111111111111,
              "#46039f"
             ],
             [
              0.2222222222222222,
              "#7201a8"
             ],
             [
              0.3333333333333333,
              "#9c179e"
             ],
             [
              0.4444444444444444,
              "#bd3786"
             ],
             [
              0.5555555555555556,
              "#d8576b"
             ],
             [
              0.6666666666666666,
              "#ed7953"
             ],
             [
              0.7777777777777778,
              "#fb9f3a"
             ],
             [
              0.8888888888888888,
              "#fdca26"
             ],
             [
              1,
              "#f0f921"
             ]
            ],
            "type": "surface"
           }
          ],
          "table": [
           {
            "cells": {
             "fill": {
              "color": "#EBF0F8"
             },
             "line": {
              "color": "white"
             }
            },
            "header": {
             "fill": {
              "color": "#C8D4E3"
             },
             "line": {
              "color": "white"
             }
            },
            "type": "table"
           }
          ]
         },
         "layout": {
          "annotationdefaults": {
           "arrowcolor": "#2a3f5f",
           "arrowhead": 0,
           "arrowwidth": 1
          },
          "autotypenumbers": "strict",
          "coloraxis": {
           "colorbar": {
            "outlinewidth": 0,
            "ticks": ""
           }
          },
          "colorscale": {
           "diverging": [
            [
             0,
             "#8e0152"
            ],
            [
             0.1,
             "#c51b7d"
            ],
            [
             0.2,
             "#de77ae"
            ],
            [
             0.3,
             "#f1b6da"
            ],
            [
             0.4,
             "#fde0ef"
            ],
            [
             0.5,
             "#f7f7f7"
            ],
            [
             0.6,
             "#e6f5d0"
            ],
            [
             0.7,
             "#b8e186"
            ],
            [
             0.8,
             "#7fbc41"
            ],
            [
             0.9,
             "#4d9221"
            ],
            [
             1,
             "#276419"
            ]
           ],
           "sequential": [
            [
             0,
             "#0d0887"
            ],
            [
             0.1111111111111111,
             "#46039f"
            ],
            [
             0.2222222222222222,
             "#7201a8"
            ],
            [
             0.3333333333333333,
             "#9c179e"
            ],
            [
             0.4444444444444444,
             "#bd3786"
            ],
            [
             0.5555555555555556,
             "#d8576b"
            ],
            [
             0.6666666666666666,
             "#ed7953"
            ],
            [
             0.7777777777777778,
             "#fb9f3a"
            ],
            [
             0.8888888888888888,
             "#fdca26"
            ],
            [
             1,
             "#f0f921"
            ]
           ],
           "sequentialminus": [
            [
             0,
             "#0d0887"
            ],
            [
             0.1111111111111111,
             "#46039f"
            ],
            [
             0.2222222222222222,
             "#7201a8"
            ],
            [
             0.3333333333333333,
             "#9c179e"
            ],
            [
             0.4444444444444444,
             "#bd3786"
            ],
            [
             0.5555555555555556,
             "#d8576b"
            ],
            [
             0.6666666666666666,
             "#ed7953"
            ],
            [
             0.7777777777777778,
             "#fb9f3a"
            ],
            [
             0.8888888888888888,
             "#fdca26"
            ],
            [
             1,
             "#f0f921"
            ]
           ]
          },
          "colorway": [
           "#636efa",
           "#EF553B",
           "#00cc96",
           "#ab63fa",
           "#FFA15A",
           "#19d3f3",
           "#FF6692",
           "#B6E880",
           "#FF97FF",
           "#FECB52"
          ],
          "font": {
           "color": "#2a3f5f"
          },
          "geo": {
           "bgcolor": "white",
           "lakecolor": "white",
           "landcolor": "#E5ECF6",
           "showlakes": true,
           "showland": true,
           "subunitcolor": "white"
          },
          "hoverlabel": {
           "align": "left"
          },
          "hovermode": "closest",
          "mapbox": {
           "style": "light"
          },
          "paper_bgcolor": "white",
          "plot_bgcolor": "#E5ECF6",
          "polar": {
           "angularaxis": {
            "gridcolor": "white",
            "linecolor": "white",
            "ticks": ""
           },
           "bgcolor": "#E5ECF6",
           "radialaxis": {
            "gridcolor": "white",
            "linecolor": "white",
            "ticks": ""
           }
          },
          "scene": {
           "xaxis": {
            "backgroundcolor": "#E5ECF6",
            "gridcolor": "white",
            "gridwidth": 2,
            "linecolor": "white",
            "showbackground": true,
            "ticks": "",
            "zerolinecolor": "white"
           },
           "yaxis": {
            "backgroundcolor": "#E5ECF6",
            "gridcolor": "white",
            "gridwidth": 2,
            "linecolor": "white",
            "showbackground": true,
            "ticks": "",
            "zerolinecolor": "white"
           },
           "zaxis": {
            "backgroundcolor": "#E5ECF6",
            "gridcolor": "white",
            "gridwidth": 2,
            "linecolor": "white",
            "showbackground": true,
            "ticks": "",
            "zerolinecolor": "white"
           }
          },
          "shapedefaults": {
           "line": {
            "color": "#2a3f5f"
           }
          },
          "ternary": {
           "aaxis": {
            "gridcolor": "white",
            "linecolor": "white",
            "ticks": ""
           },
           "baxis": {
            "gridcolor": "white",
            "linecolor": "white",
            "ticks": ""
           },
           "bgcolor": "#E5ECF6",
           "caxis": {
            "gridcolor": "white",
            "linecolor": "white",
            "ticks": ""
           }
          },
          "title": {
           "x": 0.05
          },
          "xaxis": {
           "automargin": true,
           "gridcolor": "white",
           "linecolor": "white",
           "ticks": "",
           "title": {
            "standoff": 15
           },
           "zerolinecolor": "white",
           "zerolinewidth": 2
          },
          "yaxis": {
           "automargin": true,
           "gridcolor": "white",
           "linecolor": "white",
           "ticks": "",
           "title": {
            "standoff": 15
           },
           "zerolinecolor": "white",
           "zerolinewidth": 2
          }
         }
        },
        "title": {
         "text": "Test F1 Macro vs Selection Threshold for PCA Components = 100"
        },
        "xaxis": {
         "anchor": "y",
         "domain": [
          0,
          1
         ],
         "title": {
          "text": "VIFThreshold"
         }
        },
        "yaxis": {
         "anchor": "x",
         "domain": [
          0,
          1
         ],
         "title": {
          "text": "test_f1_macro"
         }
        }
       }
      }
     },
     "metadata": {},
     "output_type": "display_data"
    }
   ],
   "source": [
    "l = list(range(40,101,10))  # example value\n",
    "# Filter the dataframe\n",
    "for chosen_pca in l:\n",
    "    df_filtered = table[table['PCA_n_Components'] == chosen_pca]\n",
    "    # Create the line plot\n",
    "    fig = px.line(df_filtered, \n",
    "                x='VIFThreshold', \n",
    "                y='test_f1_macro', \n",
    "                color='Selection Threshold', \n",
    "                markers=True,\n",
    "                title=f\"Test F1 Macro vs Selection Threshold for PCA Components = {chosen_pca}\")\n",
    "\n",
    "    fig.show()\n"
   ]
  },
  {
   "cell_type": "code",
   "execution_count": null,
   "id": "535bc868",
   "metadata": {},
   "outputs": [
    {
     "data": {
      "text/plain": [
       "Index(['Selection Threshold', 'VIFThreshold', 'PCA_n_Components',\n",
       "       'train_f1_macro', 'test_f1_macro', 'test_balanced_accuracy',\n",
       "       'test_f1_weighted', 'precision_weighted', 'recall_weighted'],\n",
       "      dtype='object')"
      ]
     },
     "execution_count": 162,
     "metadata": {},
     "output_type": "execute_result"
    }
   ],
   "source": [
    "table.columns"
   ]
  },
  {
   "cell_type": "code",
   "execution_count": null,
   "id": "a5fad5b9",
   "metadata": {},
   "outputs": [
    {
     "data": {
      "application/vnd.plotly.v1+json": {
       "config": {
        "plotlyServerURL": "https://plot.ly"
       },
       "data": [
        {
         "hovertemplate": "VIFThreshold=15<br>PCA_n_Components=%{x}<br>test_f1_macro=%{y}<extra></extra>",
         "legendgroup": "15",
         "line": {
          "color": "#636efa",
          "dash": "solid"
         },
         "marker": {
          "symbol": "circle"
         },
         "mode": "lines+markers",
         "name": "15",
         "orientation": "v",
         "showlegend": true,
         "type": "scatter",
         "x": {
          "bdata": "KDxQZA==",
          "dtype": "i1"
         },
         "xaxis": "x",
         "y": {
          "bdata": "rkfhehTuVUDNzMzMzCxWQBSuR+F6NFZAexSuR+E6VkA=",
          "dtype": "f8"
         },
         "yaxis": "y"
        },
        {
         "hovertemplate": "VIFThreshold=20<br>PCA_n_Components=%{x}<br>test_f1_macro=%{y}<extra></extra>",
         "legendgroup": "20",
         "line": {
          "color": "#EF553B",
          "dash": "solid"
         },
         "marker": {
          "symbol": "circle"
         },
         "mode": "lines+markers",
         "name": "20",
         "orientation": "v",
         "showlegend": true,
         "type": "scatter",
         "x": {
          "bdata": "KDxQZA==",
          "dtype": "i1"
         },
         "xaxis": "x",
         "y": {
          "bdata": "AAAAAAAAVkBI4XoUrhdWQArXo3A9OlZAMzMzMzNTVkA=",
          "dtype": "f8"
         },
         "yaxis": "y"
        },
        {
         "hovertemplate": "VIFThreshold=30<br>PCA_n_Components=%{x}<br>test_f1_macro=%{y}<extra></extra>",
         "legendgroup": "30",
         "line": {
          "color": "#00cc96",
          "dash": "solid"
         },
         "marker": {
          "symbol": "circle"
         },
         "mode": "lines+markers",
         "name": "30",
         "orientation": "v",
         "showlegend": true,
         "type": "scatter",
         "x": {
          "bdata": "KDxQZA==",
          "dtype": "i1"
         },
         "xaxis": "x",
         "y": {
          "bdata": "FK5H4XrkVUDhehSuRwFWQFK4HoXrQVZA4XoUrkdBVkA=",
          "dtype": "f8"
         },
         "yaxis": "y"
        }
       ],
       "layout": {
        "legend": {
         "title": {
          "text": "VIFThreshold"
         },
         "tracegroupgap": 0
        },
        "template": {
         "data": {
          "bar": [
           {
            "error_x": {
             "color": "#2a3f5f"
            },
            "error_y": {
             "color": "#2a3f5f"
            },
            "marker": {
             "line": {
              "color": "#E5ECF6",
              "width": 0.5
             },
             "pattern": {
              "fillmode": "overlay",
              "size": 10,
              "solidity": 0.2
             }
            },
            "type": "bar"
           }
          ],
          "barpolar": [
           {
            "marker": {
             "line": {
              "color": "#E5ECF6",
              "width": 0.5
             },
             "pattern": {
              "fillmode": "overlay",
              "size": 10,
              "solidity": 0.2
             }
            },
            "type": "barpolar"
           }
          ],
          "carpet": [
           {
            "aaxis": {
             "endlinecolor": "#2a3f5f",
             "gridcolor": "white",
             "linecolor": "white",
             "minorgridcolor": "white",
             "startlinecolor": "#2a3f5f"
            },
            "baxis": {
             "endlinecolor": "#2a3f5f",
             "gridcolor": "white",
             "linecolor": "white",
             "minorgridcolor": "white",
             "startlinecolor": "#2a3f5f"
            },
            "type": "carpet"
           }
          ],
          "choropleth": [
           {
            "colorbar": {
             "outlinewidth": 0,
             "ticks": ""
            },
            "type": "choropleth"
           }
          ],
          "contour": [
           {
            "colorbar": {
             "outlinewidth": 0,
             "ticks": ""
            },
            "colorscale": [
             [
              0,
              "#0d0887"
             ],
             [
              0.1111111111111111,
              "#46039f"
             ],
             [
              0.2222222222222222,
              "#7201a8"
             ],
             [
              0.3333333333333333,
              "#9c179e"
             ],
             [
              0.4444444444444444,
              "#bd3786"
             ],
             [
              0.5555555555555556,
              "#d8576b"
             ],
             [
              0.6666666666666666,
              "#ed7953"
             ],
             [
              0.7777777777777778,
              "#fb9f3a"
             ],
             [
              0.8888888888888888,
              "#fdca26"
             ],
             [
              1,
              "#f0f921"
             ]
            ],
            "type": "contour"
           }
          ],
          "contourcarpet": [
           {
            "colorbar": {
             "outlinewidth": 0,
             "ticks": ""
            },
            "type": "contourcarpet"
           }
          ],
          "heatmap": [
           {
            "colorbar": {
             "outlinewidth": 0,
             "ticks": ""
            },
            "colorscale": [
             [
              0,
              "#0d0887"
             ],
             [
              0.1111111111111111,
              "#46039f"
             ],
             [
              0.2222222222222222,
              "#7201a8"
             ],
             [
              0.3333333333333333,
              "#9c179e"
             ],
             [
              0.4444444444444444,
              "#bd3786"
             ],
             [
              0.5555555555555556,
              "#d8576b"
             ],
             [
              0.6666666666666666,
              "#ed7953"
             ],
             [
              0.7777777777777778,
              "#fb9f3a"
             ],
             [
              0.8888888888888888,
              "#fdca26"
             ],
             [
              1,
              "#f0f921"
             ]
            ],
            "type": "heatmap"
           }
          ],
          "histogram": [
           {
            "marker": {
             "pattern": {
              "fillmode": "overlay",
              "size": 10,
              "solidity": 0.2
             }
            },
            "type": "histogram"
           }
          ],
          "histogram2d": [
           {
            "colorbar": {
             "outlinewidth": 0,
             "ticks": ""
            },
            "colorscale": [
             [
              0,
              "#0d0887"
             ],
             [
              0.1111111111111111,
              "#46039f"
             ],
             [
              0.2222222222222222,
              "#7201a8"
             ],
             [
              0.3333333333333333,
              "#9c179e"
             ],
             [
              0.4444444444444444,
              "#bd3786"
             ],
             [
              0.5555555555555556,
              "#d8576b"
             ],
             [
              0.6666666666666666,
              "#ed7953"
             ],
             [
              0.7777777777777778,
              "#fb9f3a"
             ],
             [
              0.8888888888888888,
              "#fdca26"
             ],
             [
              1,
              "#f0f921"
             ]
            ],
            "type": "histogram2d"
           }
          ],
          "histogram2dcontour": [
           {
            "colorbar": {
             "outlinewidth": 0,
             "ticks": ""
            },
            "colorscale": [
             [
              0,
              "#0d0887"
             ],
             [
              0.1111111111111111,
              "#46039f"
             ],
             [
              0.2222222222222222,
              "#7201a8"
             ],
             [
              0.3333333333333333,
              "#9c179e"
             ],
             [
              0.4444444444444444,
              "#bd3786"
             ],
             [
              0.5555555555555556,
              "#d8576b"
             ],
             [
              0.6666666666666666,
              "#ed7953"
             ],
             [
              0.7777777777777778,
              "#fb9f3a"
             ],
             [
              0.8888888888888888,
              "#fdca26"
             ],
             [
              1,
              "#f0f921"
             ]
            ],
            "type": "histogram2dcontour"
           }
          ],
          "mesh3d": [
           {
            "colorbar": {
             "outlinewidth": 0,
             "ticks": ""
            },
            "type": "mesh3d"
           }
          ],
          "parcoords": [
           {
            "line": {
             "colorbar": {
              "outlinewidth": 0,
              "ticks": ""
             }
            },
            "type": "parcoords"
           }
          ],
          "pie": [
           {
            "automargin": true,
            "type": "pie"
           }
          ],
          "scatter": [
           {
            "fillpattern": {
             "fillmode": "overlay",
             "size": 10,
             "solidity": 0.2
            },
            "type": "scatter"
           }
          ],
          "scatter3d": [
           {
            "line": {
             "colorbar": {
              "outlinewidth": 0,
              "ticks": ""
             }
            },
            "marker": {
             "colorbar": {
              "outlinewidth": 0,
              "ticks": ""
             }
            },
            "type": "scatter3d"
           }
          ],
          "scattercarpet": [
           {
            "marker": {
             "colorbar": {
              "outlinewidth": 0,
              "ticks": ""
             }
            },
            "type": "scattercarpet"
           }
          ],
          "scattergeo": [
           {
            "marker": {
             "colorbar": {
              "outlinewidth": 0,
              "ticks": ""
             }
            },
            "type": "scattergeo"
           }
          ],
          "scattergl": [
           {
            "marker": {
             "colorbar": {
              "outlinewidth": 0,
              "ticks": ""
             }
            },
            "type": "scattergl"
           }
          ],
          "scattermap": [
           {
            "marker": {
             "colorbar": {
              "outlinewidth": 0,
              "ticks": ""
             }
            },
            "type": "scattermap"
           }
          ],
          "scattermapbox": [
           {
            "marker": {
             "colorbar": {
              "outlinewidth": 0,
              "ticks": ""
             }
            },
            "type": "scattermapbox"
           }
          ],
          "scatterpolar": [
           {
            "marker": {
             "colorbar": {
              "outlinewidth": 0,
              "ticks": ""
             }
            },
            "type": "scatterpolar"
           }
          ],
          "scatterpolargl": [
           {
            "marker": {
             "colorbar": {
              "outlinewidth": 0,
              "ticks": ""
             }
            },
            "type": "scatterpolargl"
           }
          ],
          "scatterternary": [
           {
            "marker": {
             "colorbar": {
              "outlinewidth": 0,
              "ticks": ""
             }
            },
            "type": "scatterternary"
           }
          ],
          "surface": [
           {
            "colorbar": {
             "outlinewidth": 0,
             "ticks": ""
            },
            "colorscale": [
             [
              0,
              "#0d0887"
             ],
             [
              0.1111111111111111,
              "#46039f"
             ],
             [
              0.2222222222222222,
              "#7201a8"
             ],
             [
              0.3333333333333333,
              "#9c179e"
             ],
             [
              0.4444444444444444,
              "#bd3786"
             ],
             [
              0.5555555555555556,
              "#d8576b"
             ],
             [
              0.6666666666666666,
              "#ed7953"
             ],
             [
              0.7777777777777778,
              "#fb9f3a"
             ],
             [
              0.8888888888888888,
              "#fdca26"
             ],
             [
              1,
              "#f0f921"
             ]
            ],
            "type": "surface"
           }
          ],
          "table": [
           {
            "cells": {
             "fill": {
              "color": "#EBF0F8"
             },
             "line": {
              "color": "white"
             }
            },
            "header": {
             "fill": {
              "color": "#C8D4E3"
             },
             "line": {
              "color": "white"
             }
            },
            "type": "table"
           }
          ]
         },
         "layout": {
          "annotationdefaults": {
           "arrowcolor": "#2a3f5f",
           "arrowhead": 0,
           "arrowwidth": 1
          },
          "autotypenumbers": "strict",
          "coloraxis": {
           "colorbar": {
            "outlinewidth": 0,
            "ticks": ""
           }
          },
          "colorscale": {
           "diverging": [
            [
             0,
             "#8e0152"
            ],
            [
             0.1,
             "#c51b7d"
            ],
            [
             0.2,
             "#de77ae"
            ],
            [
             0.3,
             "#f1b6da"
            ],
            [
             0.4,
             "#fde0ef"
            ],
            [
             0.5,
             "#f7f7f7"
            ],
            [
             0.6,
             "#e6f5d0"
            ],
            [
             0.7,
             "#b8e186"
            ],
            [
             0.8,
             "#7fbc41"
            ],
            [
             0.9,
             "#4d9221"
            ],
            [
             1,
             "#276419"
            ]
           ],
           "sequential": [
            [
             0,
             "#0d0887"
            ],
            [
             0.1111111111111111,
             "#46039f"
            ],
            [
             0.2222222222222222,
             "#7201a8"
            ],
            [
             0.3333333333333333,
             "#9c179e"
            ],
            [
             0.4444444444444444,
             "#bd3786"
            ],
            [
             0.5555555555555556,
             "#d8576b"
            ],
            [
             0.6666666666666666,
             "#ed7953"
            ],
            [
             0.7777777777777778,
             "#fb9f3a"
            ],
            [
             0.8888888888888888,
             "#fdca26"
            ],
            [
             1,
             "#f0f921"
            ]
           ],
           "sequentialminus": [
            [
             0,
             "#0d0887"
            ],
            [
             0.1111111111111111,
             "#46039f"
            ],
            [
             0.2222222222222222,
             "#7201a8"
            ],
            [
             0.3333333333333333,
             "#9c179e"
            ],
            [
             0.4444444444444444,
             "#bd3786"
            ],
            [
             0.5555555555555556,
             "#d8576b"
            ],
            [
             0.6666666666666666,
             "#ed7953"
            ],
            [
             0.7777777777777778,
             "#fb9f3a"
            ],
            [
             0.8888888888888888,
             "#fdca26"
            ],
            [
             1,
             "#f0f921"
            ]
           ]
          },
          "colorway": [
           "#636efa",
           "#EF553B",
           "#00cc96",
           "#ab63fa",
           "#FFA15A",
           "#19d3f3",
           "#FF6692",
           "#B6E880",
           "#FF97FF",
           "#FECB52"
          ],
          "font": {
           "color": "#2a3f5f"
          },
          "geo": {
           "bgcolor": "white",
           "lakecolor": "white",
           "landcolor": "#E5ECF6",
           "showlakes": true,
           "showland": true,
           "subunitcolor": "white"
          },
          "hoverlabel": {
           "align": "left"
          },
          "hovermode": "closest",
          "mapbox": {
           "style": "light"
          },
          "paper_bgcolor": "white",
          "plot_bgcolor": "#E5ECF6",
          "polar": {
           "angularaxis": {
            "gridcolor": "white",
            "linecolor": "white",
            "ticks": ""
           },
           "bgcolor": "#E5ECF6",
           "radialaxis": {
            "gridcolor": "white",
            "linecolor": "white",
            "ticks": ""
           }
          },
          "scene": {
           "xaxis": {
            "backgroundcolor": "#E5ECF6",
            "gridcolor": "white",
            "gridwidth": 2,
            "linecolor": "white",
            "showbackground": true,
            "ticks": "",
            "zerolinecolor": "white"
           },
           "yaxis": {
            "backgroundcolor": "#E5ECF6",
            "gridcolor": "white",
            "gridwidth": 2,
            "linecolor": "white",
            "showbackground": true,
            "ticks": "",
            "zerolinecolor": "white"
           },
           "zaxis": {
            "backgroundcolor": "#E5ECF6",
            "gridcolor": "white",
            "gridwidth": 2,
            "linecolor": "white",
            "showbackground": true,
            "ticks": "",
            "zerolinecolor": "white"
           }
          },
          "shapedefaults": {
           "line": {
            "color": "#2a3f5f"
           }
          },
          "ternary": {
           "aaxis": {
            "gridcolor": "white",
            "linecolor": "white",
            "ticks": ""
           },
           "baxis": {
            "gridcolor": "white",
            "linecolor": "white",
            "ticks": ""
           },
           "bgcolor": "#E5ECF6",
           "caxis": {
            "gridcolor": "white",
            "linecolor": "white",
            "ticks": ""
           }
          },
          "title": {
           "x": 0.05
          },
          "xaxis": {
           "automargin": true,
           "gridcolor": "white",
           "linecolor": "white",
           "ticks": "",
           "title": {
            "standoff": 15
           },
           "zerolinecolor": "white",
           "zerolinewidth": 2
          },
          "yaxis": {
           "automargin": true,
           "gridcolor": "white",
           "linecolor": "white",
           "ticks": "",
           "title": {
            "standoff": 15
           },
           "zerolinecolor": "white",
           "zerolinewidth": 2
          }
         }
        },
        "title": {
         "text": "Test F1 Macro vs Selection Threshold for PCA Components = 0.014"
        },
        "xaxis": {
         "anchor": "y",
         "domain": [
          0,
          1
         ],
         "title": {
          "text": "PCA_n_Components"
         }
        },
        "yaxis": {
         "anchor": "x",
         "domain": [
          0,
          1
         ],
         "title": {
          "text": "test_f1_macro"
         }
        }
       }
      }
     },
     "metadata": {},
     "output_type": "display_data"
    },
    {
     "data": {
      "application/vnd.plotly.v1+json": {
       "config": {
        "plotlyServerURL": "https://plot.ly"
       },
       "data": [
        {
         "hovertemplate": "VIFThreshold=15<br>PCA_n_Components=%{x}<br>test_f1_macro=%{y}<extra></extra>",
         "legendgroup": "15",
         "line": {
          "color": "#636efa",
          "dash": "solid"
         },
         "marker": {
          "symbol": "circle"
         },
         "mode": "lines+markers",
         "name": "15",
         "orientation": "v",
         "showlegend": true,
         "type": "scatter",
         "x": {
          "bdata": "KDxQZA==",
          "dtype": "i1"
         },
         "xaxis": "x",
         "y": {
          "bdata": "w/UoXI/SVUApXI/C9fhVQOF6FK5HAVZAH4XrUbgeVkA=",
          "dtype": "f8"
         },
         "yaxis": "y"
        },
        {
         "hovertemplate": "VIFThreshold=20<br>PCA_n_Components=%{x}<br>test_f1_macro=%{y}<extra></extra>",
         "legendgroup": "20",
         "line": {
          "color": "#EF553B",
          "dash": "solid"
         },
         "marker": {
          "symbol": "circle"
         },
         "mode": "lines+markers",
         "name": "20",
         "orientation": "v",
         "showlegend": true,
         "type": "scatter",
         "x": {
          "bdata": "KDxQZA==",
          "dtype": "i1"
         },
         "xaxis": "x",
         "y": {
          "bdata": "PQrXo3CtVUBI4XoUrqdVQAAAAAAAAFZAw/UoXI8SVkA=",
          "dtype": "f8"
         },
         "yaxis": "y"
        },
        {
         "hovertemplate": "VIFThreshold=30<br>PCA_n_Components=%{x}<br>test_f1_macro=%{y}<extra></extra>",
         "legendgroup": "30",
         "line": {
          "color": "#00cc96",
          "dash": "solid"
         },
         "marker": {
          "symbol": "circle"
         },
         "mode": "lines+markers",
         "name": "30",
         "orientation": "v",
         "showlegend": true,
         "type": "scatter",
         "x": {
          "bdata": "KDxQZA==",
          "dtype": "i1"
         },
         "xaxis": "x",
         "y": {
          "bdata": "CtejcD2qVUAK16NwPdpVQJqZmZmZCVZAuB6F61EoVkA=",
          "dtype": "f8"
         },
         "yaxis": "y"
        }
       ],
       "layout": {
        "legend": {
         "title": {
          "text": "VIFThreshold"
         },
         "tracegroupgap": 0
        },
        "template": {
         "data": {
          "bar": [
           {
            "error_x": {
             "color": "#2a3f5f"
            },
            "error_y": {
             "color": "#2a3f5f"
            },
            "marker": {
             "line": {
              "color": "#E5ECF6",
              "width": 0.5
             },
             "pattern": {
              "fillmode": "overlay",
              "size": 10,
              "solidity": 0.2
             }
            },
            "type": "bar"
           }
          ],
          "barpolar": [
           {
            "marker": {
             "line": {
              "color": "#E5ECF6",
              "width": 0.5
             },
             "pattern": {
              "fillmode": "overlay",
              "size": 10,
              "solidity": 0.2
             }
            },
            "type": "barpolar"
           }
          ],
          "carpet": [
           {
            "aaxis": {
             "endlinecolor": "#2a3f5f",
             "gridcolor": "white",
             "linecolor": "white",
             "minorgridcolor": "white",
             "startlinecolor": "#2a3f5f"
            },
            "baxis": {
             "endlinecolor": "#2a3f5f",
             "gridcolor": "white",
             "linecolor": "white",
             "minorgridcolor": "white",
             "startlinecolor": "#2a3f5f"
            },
            "type": "carpet"
           }
          ],
          "choropleth": [
           {
            "colorbar": {
             "outlinewidth": 0,
             "ticks": ""
            },
            "type": "choropleth"
           }
          ],
          "contour": [
           {
            "colorbar": {
             "outlinewidth": 0,
             "ticks": ""
            },
            "colorscale": [
             [
              0,
              "#0d0887"
             ],
             [
              0.1111111111111111,
              "#46039f"
             ],
             [
              0.2222222222222222,
              "#7201a8"
             ],
             [
              0.3333333333333333,
              "#9c179e"
             ],
             [
              0.4444444444444444,
              "#bd3786"
             ],
             [
              0.5555555555555556,
              "#d8576b"
             ],
             [
              0.6666666666666666,
              "#ed7953"
             ],
             [
              0.7777777777777778,
              "#fb9f3a"
             ],
             [
              0.8888888888888888,
              "#fdca26"
             ],
             [
              1,
              "#f0f921"
             ]
            ],
            "type": "contour"
           }
          ],
          "contourcarpet": [
           {
            "colorbar": {
             "outlinewidth": 0,
             "ticks": ""
            },
            "type": "contourcarpet"
           }
          ],
          "heatmap": [
           {
            "colorbar": {
             "outlinewidth": 0,
             "ticks": ""
            },
            "colorscale": [
             [
              0,
              "#0d0887"
             ],
             [
              0.1111111111111111,
              "#46039f"
             ],
             [
              0.2222222222222222,
              "#7201a8"
             ],
             [
              0.3333333333333333,
              "#9c179e"
             ],
             [
              0.4444444444444444,
              "#bd3786"
             ],
             [
              0.5555555555555556,
              "#d8576b"
             ],
             [
              0.6666666666666666,
              "#ed7953"
             ],
             [
              0.7777777777777778,
              "#fb9f3a"
             ],
             [
              0.8888888888888888,
              "#fdca26"
             ],
             [
              1,
              "#f0f921"
             ]
            ],
            "type": "heatmap"
           }
          ],
          "histogram": [
           {
            "marker": {
             "pattern": {
              "fillmode": "overlay",
              "size": 10,
              "solidity": 0.2
             }
            },
            "type": "histogram"
           }
          ],
          "histogram2d": [
           {
            "colorbar": {
             "outlinewidth": 0,
             "ticks": ""
            },
            "colorscale": [
             [
              0,
              "#0d0887"
             ],
             [
              0.1111111111111111,
              "#46039f"
             ],
             [
              0.2222222222222222,
              "#7201a8"
             ],
             [
              0.3333333333333333,
              "#9c179e"
             ],
             [
              0.4444444444444444,
              "#bd3786"
             ],
             [
              0.5555555555555556,
              "#d8576b"
             ],
             [
              0.6666666666666666,
              "#ed7953"
             ],
             [
              0.7777777777777778,
              "#fb9f3a"
             ],
             [
              0.8888888888888888,
              "#fdca26"
             ],
             [
              1,
              "#f0f921"
             ]
            ],
            "type": "histogram2d"
           }
          ],
          "histogram2dcontour": [
           {
            "colorbar": {
             "outlinewidth": 0,
             "ticks": ""
            },
            "colorscale": [
             [
              0,
              "#0d0887"
             ],
             [
              0.1111111111111111,
              "#46039f"
             ],
             [
              0.2222222222222222,
              "#7201a8"
             ],
             [
              0.3333333333333333,
              "#9c179e"
             ],
             [
              0.4444444444444444,
              "#bd3786"
             ],
             [
              0.5555555555555556,
              "#d8576b"
             ],
             [
              0.6666666666666666,
              "#ed7953"
             ],
             [
              0.7777777777777778,
              "#fb9f3a"
             ],
             [
              0.8888888888888888,
              "#fdca26"
             ],
             [
              1,
              "#f0f921"
             ]
            ],
            "type": "histogram2dcontour"
           }
          ],
          "mesh3d": [
           {
            "colorbar": {
             "outlinewidth": 0,
             "ticks": ""
            },
            "type": "mesh3d"
           }
          ],
          "parcoords": [
           {
            "line": {
             "colorbar": {
              "outlinewidth": 0,
              "ticks": ""
             }
            },
            "type": "parcoords"
           }
          ],
          "pie": [
           {
            "automargin": true,
            "type": "pie"
           }
          ],
          "scatter": [
           {
            "fillpattern": {
             "fillmode": "overlay",
             "size": 10,
             "solidity": 0.2
            },
            "type": "scatter"
           }
          ],
          "scatter3d": [
           {
            "line": {
             "colorbar": {
              "outlinewidth": 0,
              "ticks": ""
             }
            },
            "marker": {
             "colorbar": {
              "outlinewidth": 0,
              "ticks": ""
             }
            },
            "type": "scatter3d"
           }
          ],
          "scattercarpet": [
           {
            "marker": {
             "colorbar": {
              "outlinewidth": 0,
              "ticks": ""
             }
            },
            "type": "scattercarpet"
           }
          ],
          "scattergeo": [
           {
            "marker": {
             "colorbar": {
              "outlinewidth": 0,
              "ticks": ""
             }
            },
            "type": "scattergeo"
           }
          ],
          "scattergl": [
           {
            "marker": {
             "colorbar": {
              "outlinewidth": 0,
              "ticks": ""
             }
            },
            "type": "scattergl"
           }
          ],
          "scattermap": [
           {
            "marker": {
             "colorbar": {
              "outlinewidth": 0,
              "ticks": ""
             }
            },
            "type": "scattermap"
           }
          ],
          "scattermapbox": [
           {
            "marker": {
             "colorbar": {
              "outlinewidth": 0,
              "ticks": ""
             }
            },
            "type": "scattermapbox"
           }
          ],
          "scatterpolar": [
           {
            "marker": {
             "colorbar": {
              "outlinewidth": 0,
              "ticks": ""
             }
            },
            "type": "scatterpolar"
           }
          ],
          "scatterpolargl": [
           {
            "marker": {
             "colorbar": {
              "outlinewidth": 0,
              "ticks": ""
             }
            },
            "type": "scatterpolargl"
           }
          ],
          "scatterternary": [
           {
            "marker": {
             "colorbar": {
              "outlinewidth": 0,
              "ticks": ""
             }
            },
            "type": "scatterternary"
           }
          ],
          "surface": [
           {
            "colorbar": {
             "outlinewidth": 0,
             "ticks": ""
            },
            "colorscale": [
             [
              0,
              "#0d0887"
             ],
             [
              0.1111111111111111,
              "#46039f"
             ],
             [
              0.2222222222222222,
              "#7201a8"
             ],
             [
              0.3333333333333333,
              "#9c179e"
             ],
             [
              0.4444444444444444,
              "#bd3786"
             ],
             [
              0.5555555555555556,
              "#d8576b"
             ],
             [
              0.6666666666666666,
              "#ed7953"
             ],
             [
              0.7777777777777778,
              "#fb9f3a"
             ],
             [
              0.8888888888888888,
              "#fdca26"
             ],
             [
              1,
              "#f0f921"
             ]
            ],
            "type": "surface"
           }
          ],
          "table": [
           {
            "cells": {
             "fill": {
              "color": "#EBF0F8"
             },
             "line": {
              "color": "white"
             }
            },
            "header": {
             "fill": {
              "color": "#C8D4E3"
             },
             "line": {
              "color": "white"
             }
            },
            "type": "table"
           }
          ]
         },
         "layout": {
          "annotationdefaults": {
           "arrowcolor": "#2a3f5f",
           "arrowhead": 0,
           "arrowwidth": 1
          },
          "autotypenumbers": "strict",
          "coloraxis": {
           "colorbar": {
            "outlinewidth": 0,
            "ticks": ""
           }
          },
          "colorscale": {
           "diverging": [
            [
             0,
             "#8e0152"
            ],
            [
             0.1,
             "#c51b7d"
            ],
            [
             0.2,
             "#de77ae"
            ],
            [
             0.3,
             "#f1b6da"
            ],
            [
             0.4,
             "#fde0ef"
            ],
            [
             0.5,
             "#f7f7f7"
            ],
            [
             0.6,
             "#e6f5d0"
            ],
            [
             0.7,
             "#b8e186"
            ],
            [
             0.8,
             "#7fbc41"
            ],
            [
             0.9,
             "#4d9221"
            ],
            [
             1,
             "#276419"
            ]
           ],
           "sequential": [
            [
             0,
             "#0d0887"
            ],
            [
             0.1111111111111111,
             "#46039f"
            ],
            [
             0.2222222222222222,
             "#7201a8"
            ],
            [
             0.3333333333333333,
             "#9c179e"
            ],
            [
             0.4444444444444444,
             "#bd3786"
            ],
            [
             0.5555555555555556,
             "#d8576b"
            ],
            [
             0.6666666666666666,
             "#ed7953"
            ],
            [
             0.7777777777777778,
             "#fb9f3a"
            ],
            [
             0.8888888888888888,
             "#fdca26"
            ],
            [
             1,
             "#f0f921"
            ]
           ],
           "sequentialminus": [
            [
             0,
             "#0d0887"
            ],
            [
             0.1111111111111111,
             "#46039f"
            ],
            [
             0.2222222222222222,
             "#7201a8"
            ],
            [
             0.3333333333333333,
             "#9c179e"
            ],
            [
             0.4444444444444444,
             "#bd3786"
            ],
            [
             0.5555555555555556,
             "#d8576b"
            ],
            [
             0.6666666666666666,
             "#ed7953"
            ],
            [
             0.7777777777777778,
             "#fb9f3a"
            ],
            [
             0.8888888888888888,
             "#fdca26"
            ],
            [
             1,
             "#f0f921"
            ]
           ]
          },
          "colorway": [
           "#636efa",
           "#EF553B",
           "#00cc96",
           "#ab63fa",
           "#FFA15A",
           "#19d3f3",
           "#FF6692",
           "#B6E880",
           "#FF97FF",
           "#FECB52"
          ],
          "font": {
           "color": "#2a3f5f"
          },
          "geo": {
           "bgcolor": "white",
           "lakecolor": "white",
           "landcolor": "#E5ECF6",
           "showlakes": true,
           "showland": true,
           "subunitcolor": "white"
          },
          "hoverlabel": {
           "align": "left"
          },
          "hovermode": "closest",
          "mapbox": {
           "style": "light"
          },
          "paper_bgcolor": "white",
          "plot_bgcolor": "#E5ECF6",
          "polar": {
           "angularaxis": {
            "gridcolor": "white",
            "linecolor": "white",
            "ticks": ""
           },
           "bgcolor": "#E5ECF6",
           "radialaxis": {
            "gridcolor": "white",
            "linecolor": "white",
            "ticks": ""
           }
          },
          "scene": {
           "xaxis": {
            "backgroundcolor": "#E5ECF6",
            "gridcolor": "white",
            "gridwidth": 2,
            "linecolor": "white",
            "showbackground": true,
            "ticks": "",
            "zerolinecolor": "white"
           },
           "yaxis": {
            "backgroundcolor": "#E5ECF6",
            "gridcolor": "white",
            "gridwidth": 2,
            "linecolor": "white",
            "showbackground": true,
            "ticks": "",
            "zerolinecolor": "white"
           },
           "zaxis": {
            "backgroundcolor": "#E5ECF6",
            "gridcolor": "white",
            "gridwidth": 2,
            "linecolor": "white",
            "showbackground": true,
            "ticks": "",
            "zerolinecolor": "white"
           }
          },
          "shapedefaults": {
           "line": {
            "color": "#2a3f5f"
           }
          },
          "ternary": {
           "aaxis": {
            "gridcolor": "white",
            "linecolor": "white",
            "ticks": ""
           },
           "baxis": {
            "gridcolor": "white",
            "linecolor": "white",
            "ticks": ""
           },
           "bgcolor": "#E5ECF6",
           "caxis": {
            "gridcolor": "white",
            "linecolor": "white",
            "ticks": ""
           }
          },
          "title": {
           "x": 0.05
          },
          "xaxis": {
           "automargin": true,
           "gridcolor": "white",
           "linecolor": "white",
           "ticks": "",
           "title": {
            "standoff": 15
           },
           "zerolinecolor": "white",
           "zerolinewidth": 2
          },
          "yaxis": {
           "automargin": true,
           "gridcolor": "white",
           "linecolor": "white",
           "ticks": "",
           "title": {
            "standoff": 15
           },
           "zerolinecolor": "white",
           "zerolinewidth": 2
          }
         }
        },
        "title": {
         "text": "Test F1 Macro vs Selection Threshold for PCA Components = 0.016"
        },
        "xaxis": {
         "anchor": "y",
         "domain": [
          0,
          1
         ],
         "title": {
          "text": "PCA_n_Components"
         }
        },
        "yaxis": {
         "anchor": "x",
         "domain": [
          0,
          1
         ],
         "title": {
          "text": "test_f1_macro"
         }
        }
       }
      }
     },
     "metadata": {},
     "output_type": "display_data"
    }
   ],
   "source": [
    "l = [0.014,0.016]  # example value\n",
    "# Filter the dataframe\n",
    "for chosen_pca in l:\n",
    "    df_filtered = table[table['Selection Threshold'] == chosen_pca]\n",
    "    # Create the line plot\n",
    "    fig = px.line(df_filtered, \n",
    "                x='PCA_n_Components', \n",
    "                y='test_f1_macro', \n",
    "                color='VIFThreshold', \n",
    "                markers=True,\n",
    "                title=f\"Test F1 Macro vs Selection Threshold for PCA Components = {chosen_pca}\")\n",
    "\n",
    "    fig.show()\n"
   ]
  }
 ],
 "metadata": {
  "kernelspec": {
   "display_name": "pancan_env",
   "language": "python",
   "name": "python3"
  },
  "language_info": {
   "codemirror_mode": {
    "name": "ipython",
    "version": 3
   },
   "file_extension": ".py",
   "mimetype": "text/x-python",
   "name": "python",
   "nbconvert_exporter": "python",
   "pygments_lexer": "ipython3",
   "version": "3.13.2"
  }
 },
 "nbformat": 4,
 "nbformat_minor": 5
}
