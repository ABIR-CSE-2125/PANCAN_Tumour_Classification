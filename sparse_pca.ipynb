{
 "cells": [
  {
   "cell_type": "code",
   "execution_count": 3,
   "id": "0aad3f2e",
   "metadata": {},
   "outputs": [],
   "source": [
    "import numpy as np\n",
    "from sklearn.datasets import make_friedman1\n",
    "from sklearn.decomposition import SparsePCA\n",
    "from sklearn.preprocessing import StandardScaler\n",
    "import matplotlib.pyplot as plt\n",
    "from sklearn.model_selection import train_test_split\n",
    "from utils import *\n",
    "random_state = 42\n"
   ]
  },
  {
   "cell_type": "code",
   "execution_count": 7,
   "id": "9bec3b7b",
   "metadata": {},
   "outputs": [
    {
     "name": "stdout",
     "output_type": "stream",
     "text": [
      "DataFrame successfully loaded from data/processed_data/gene_exp_data.pkl\n",
      "DataFrame successfully loaded from data/processed_data/label_data.pkl\n",
      "Entries in Gene Expression Dataframe : 5268\n",
      "Entries in Label Dataframe : 5268\n"
     ]
    }
   ],
   "source": [
    "gene_exp_df = read_dataframe_from_pickle(\"data/processed_data/gene_exp_data.pkl\")\n",
    "label_df = read_dataframe_from_pickle(\"data/processed_data/label_data.pkl\")\n",
    "print(f\"Entries in Gene Expression Dataframe : {len(gene_exp_df)}\")\n",
    "print(f\"Entries in Label Dataframe : {len(label_df)}\")"
   ]
  },
  {
   "cell_type": "code",
   "execution_count": 8,
   "id": "fe9ae2b1",
   "metadata": {},
   "outputs": [],
   "source": [
    "labels_with_high_freq_df = remove_low_frequency_labels(label_df,threshold=150)\n",
    "extracted_data,extracted_label = collect_relevant_data(gene_exp_df_bkp=gene_exp_df,label_df_bkp=labels_with_high_freq_df)\n",
    "encoded_labels,label_encoder = encode_labels(extracted_label)"
   ]
  },
  {
   "cell_type": "code",
   "execution_count": 9,
   "id": "dfacb9c0",
   "metadata": {},
   "outputs": [],
   "source": [
    "scaler = StandardScaler()\n",
    "X_scaled = scaler.fit_transform(extracted_data)"
   ]
  },
  {
   "cell_type": "code",
   "execution_count": 10,
   "id": "2a1f3f64",
   "metadata": {},
   "outputs": [
    {
     "data": {
      "text/plain": [
       "(4392, 20531)"
      ]
     },
     "execution_count": 10,
     "metadata": {},
     "output_type": "execute_result"
    }
   ],
   "source": [
    "X_scaled.shape"
   ]
  },
  {
   "cell_type": "code",
   "execution_count": 11,
   "id": "c0e3ccd0",
   "metadata": {},
   "outputs": [],
   "source": [
    "alpha_list = [0.1,0.5,1]\n",
    "ridge_alpha_list = [0.01,0.05,0.1]\n",
    "\n",
    "spca = SparsePCA(\n",
    "                 alpha=0.5,  # Sparsity controlling parameter\n",
    "                 ridge_alpha=0.01,  # Small ridge regularization\n",
    "                 max_iter=1000,\n",
    "                 random_state=42)"
   ]
  },
  {
   "cell_type": "code",
   "execution_count": null,
   "id": "c253a421",
   "metadata": {},
   "outputs": [],
   "source": [
    "spca"
   ]
  }
 ],
 "metadata": {
  "kernelspec": {
   "display_name": "pancan_env",
   "language": "python",
   "name": "python3"
  },
  "language_info": {
   "codemirror_mode": {
    "name": "ipython",
    "version": 3
   },
   "file_extension": ".py",
   "mimetype": "text/x-python",
   "name": "python",
   "nbconvert_exporter": "python",
   "pygments_lexer": "ipython3",
   "version": "3.13.2"
  }
 },
 "nbformat": 4,
 "nbformat_minor": 5
}
