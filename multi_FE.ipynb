{
 "cells": [
  {
   "cell_type": "code",
   "execution_count": 1,
   "id": "608aaf5c",
   "metadata": {},
   "outputs": [],
   "source": [
    "import numpy as np\n",
    "import pandas as pd\n",
    "from utils import *"
   ]
  },
  {
   "cell_type": "code",
   "execution_count": 2,
   "id": "ec9cefe1",
   "metadata": {},
   "outputs": [
    {
     "name": "stdout",
     "output_type": "stream",
     "text": [
      "DataFrame successfully loaded from data/processed_data/gene_exp_data.pkl\n",
      "DataFrame successfully loaded from data/processed_data/label_data.pkl\n",
      "----------------------------------------------------------------------------------------------------------------------------------------------------------------\n",
      "Entries in Gene Expression Dataframe : 5268\n",
      "Entries in Label Dataframe : 5268\n",
      "----------------------------------------------------------------------------------------------------------------------------------------------------------------\n",
      "Entries in Extracted Gene Expression Dataframe : 4392\n",
      "Entries in Extracted Label Dataframe : 4392\n"
     ]
    }
   ],
   "source": [
    "gene_exp_df = read_dataframe_from_pickle(\"data/processed_data/gene_exp_data.pkl\")\n",
    "label_df = read_dataframe_from_pickle(\"data/processed_data/label_data.pkl\")\n",
    "print(\"--\" * 80)\n",
    "print(f\"Entries in Gene Expression Dataframe : {len(gene_exp_df)}\")\n",
    "print(f\"Entries in Label Dataframe : {len(label_df)}\")\n",
    "labels_with_high_freq_df = remove_low_frequency_labels(label_df,threshold=150)\n",
    "extracted_data,extracted_label = collect_relevant_data(gene_exp_df_bkp=gene_exp_df,label_df_bkp=labels_with_high_freq_df)\n",
    "encoded_labels,label_encoder = encode_labels(extracted_label)\n",
    "print(\"--\" * 80)\n",
    "print(f\"Entries in Extracted Gene Expression Dataframe : {len(extracted_data)}\")\n",
    "print(f\"Entries in Extracted Label Dataframe : {len(encoded_labels)}\")"
   ]
  },
  {
   "cell_type": "code",
   "execution_count": 3,
   "id": "7b5fb5ac",
   "metadata": {},
   "outputs": [
    {
     "ename": "ValueError",
     "evalue": "Distance matrix 'X' must be symmetric.",
     "output_type": "error",
     "traceback": [
      "\u001b[31m---------------------------------------------------------------------------\u001b[39m",
      "\u001b[31mValueError\u001b[39m                                Traceback (most recent call last)",
      "\u001b[36mCell\u001b[39m\u001b[36m \u001b[39m\u001b[32mIn[3]\u001b[39m\u001b[32m, line 13\u001b[39m\n\u001b[32m     10\u001b[39m dist = \u001b[32m1\u001b[39m - corr.values\n\u001b[32m     12\u001b[39m \u001b[38;5;66;03m# 3. Perform Ward linkage on the distance matrix\u001b[39;00m\n\u001b[32m---> \u001b[39m\u001b[32m13\u001b[39m Z = hierarchy.linkage(\u001b[43mhierarchy\u001b[49m\u001b[43m.\u001b[49m\u001b[43mdistance\u001b[49m\u001b[43m.\u001b[49m\u001b[43msquareform\u001b[49m\u001b[43m(\u001b[49m\u001b[43mdist\u001b[49m\u001b[43m)\u001b[49m, method=\u001b[33m'\u001b[39m\u001b[33mward\u001b[39m\u001b[33m'\u001b[39m)\n\u001b[32m     15\u001b[39m \u001b[38;5;66;03m# 4. Plot dendrogram of features\u001b[39;00m\n\u001b[32m     16\u001b[39m plt.figure(figsize=(\u001b[32m8\u001b[39m, \u001b[32m12\u001b[39m))\n",
      "\u001b[36mFile \u001b[39m\u001b[32m~/Developer/pancan_project/pancan_env/lib/python3.13/site-packages/scipy/spatial/distance.py:2468\u001b[39m, in \u001b[36msquareform\u001b[39m\u001b[34m(X, force, checks)\u001b[39m\n\u001b[32m   2466\u001b[39m     \u001b[38;5;28;01mraise\u001b[39;00m \u001b[38;5;167;01mValueError\u001b[39;00m(\u001b[33m'\u001b[39m\u001b[33mThe matrix argument must be square.\u001b[39m\u001b[33m'\u001b[39m)\n\u001b[32m   2467\u001b[39m \u001b[38;5;28;01mif\u001b[39;00m checks:\n\u001b[32m-> \u001b[39m\u001b[32m2468\u001b[39m     \u001b[43mis_valid_dm\u001b[49m\u001b[43m(\u001b[49m\u001b[43mX\u001b[49m\u001b[43m,\u001b[49m\u001b[43m \u001b[49m\u001b[43mthrow\u001b[49m\u001b[43m=\u001b[49m\u001b[38;5;28;43;01mTrue\u001b[39;49;00m\u001b[43m,\u001b[49m\u001b[43m \u001b[49m\u001b[43mname\u001b[49m\u001b[43m=\u001b[49m\u001b[33;43m'\u001b[39;49m\u001b[33;43mX\u001b[39;49m\u001b[33;43m'\u001b[39;49m\u001b[43m)\u001b[49m\n\u001b[32m   2470\u001b[39m \u001b[38;5;66;03m# One-side of the dimensions is set here.\u001b[39;00m\n\u001b[32m   2471\u001b[39m d = s[\u001b[32m0\u001b[39m]\n",
      "\u001b[36mFile \u001b[39m\u001b[32m~/Developer/pancan_project/pancan_env/lib/python3.13/site-packages/scipy/spatial/distance.py:2573\u001b[39m, in \u001b[36mis_valid_dm\u001b[39m\u001b[34m(D, tol, throw, name, warning)\u001b[39m\n\u001b[32m   2571\u001b[39m \u001b[38;5;28;01mif\u001b[39;00m \u001b[38;5;129;01mnot\u001b[39;00m (D == D.T).all():\n\u001b[32m   2572\u001b[39m     \u001b[38;5;28;01mif\u001b[39;00m name:\n\u001b[32m-> \u001b[39m\u001b[32m2573\u001b[39m         \u001b[38;5;28;01mraise\u001b[39;00m \u001b[38;5;167;01mValueError\u001b[39;00m(\u001b[33mf\u001b[39m\u001b[33m\"\u001b[39m\u001b[33mDistance matrix \u001b[39m\u001b[33m'\u001b[39m\u001b[38;5;132;01m{\u001b[39;00mname\u001b[38;5;132;01m}\u001b[39;00m\u001b[33m'\u001b[39m\u001b[33m must be symmetric.\u001b[39m\u001b[33m\"\u001b[39m)\n\u001b[32m   2574\u001b[39m     \u001b[38;5;28;01melse\u001b[39;00m:\n\u001b[32m   2575\u001b[39m         \u001b[38;5;28;01mraise\u001b[39;00m \u001b[38;5;167;01mValueError\u001b[39;00m(\u001b[33m'\u001b[39m\u001b[33mDistance matrix must be symmetric.\u001b[39m\u001b[33m'\u001b[39m)\n",
      "\u001b[31mValueError\u001b[39m: Distance matrix 'X' must be symmetric."
     ]
    }
   ],
   "source": [
    "import pandas as pd\n",
    "import numpy as np\n",
    "from scipy.cluster import hierarchy\n",
    "import matplotlib.pyplot as plt\n",
    "df = extracted_data.copy()\n",
    "# 1. Absolute correlation matrix\n",
    "corr = df.corr().abs()\n",
    "\n",
    "# 2. Convert to distance: higher distance = less correlated\n",
    "dist = 1 - corr.values\n",
    "\n",
    "# 3. Perform Ward linkage on the distance matrix\n",
    "Z = hierarchy.linkage(hierarchy.distance.squareform(dist), method='ward')\n",
    "\n",
    "# 4. Plot dendrogram of features\n",
    "plt.figure(figsize=(8, 12))\n",
    "hierarchy.dendrogram(\n",
    "    Z,\n",
    "    labels=corr.columns.tolist(),\n",
    "    orientation='right',\n",
    "    leaf_font_size=10\n",
    ")\n",
    "plt.title(\"Feature Clustering Dendrogram\")\n",
    "plt.xlabel(\"Distance\")\n",
    "plt.tight_layout()\n",
    "plt.show()\n",
    "del df\n"
   ]
  }
 ],
 "metadata": {
  "kernelspec": {
   "display_name": "pancan_env",
   "language": "python",
   "name": "python3"
  },
  "language_info": {
   "codemirror_mode": {
    "name": "ipython",
    "version": 3
   },
   "file_extension": ".py",
   "mimetype": "text/x-python",
   "name": "python",
   "nbconvert_exporter": "python",
   "pygments_lexer": "ipython3",
   "version": "3.13.2"
  }
 },
 "nbformat": 4,
 "nbformat_minor": 5
}
