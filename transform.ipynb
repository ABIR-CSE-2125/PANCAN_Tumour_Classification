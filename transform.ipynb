{
 "cells": [
  {
   "cell_type": "code",
   "execution_count": 11,
   "metadata": {},
   "outputs": [],
   "source": [
    "import pandas as pd\n",
    "import numpy as np\n"
   ]
  },
  {
   "cell_type": "code",
   "execution_count": 12,
   "metadata": {},
   "outputs": [],
   "source": [
    "raw_data_file_path = \"data/PANCAN_IlluminaHiSeq_RNASeqV2.geneExp.tsv\""
   ]
  },
  {
   "cell_type": "code",
   "execution_count": 13,
   "metadata": {},
   "outputs": [],
   "source": [
    "original_df = pd.read_csv(raw_data_file_path, sep=\"\\t\")"
   ]
  },
  {
   "cell_type": "code",
   "execution_count": 14,
   "metadata": {},
   "outputs": [
    {
     "name": "stdout",
     "output_type": "stream",
     "text": [
      "(20531, 10472)\n"
     ]
    }
   ],
   "source": [
    "print(original_df.shape)"
   ]
  },
  {
   "cell_type": "code",
   "execution_count": 15,
   "metadata": {},
   "outputs": [
    {
     "data": {
      "text/html": [
       "<div>\n",
       "<style scoped>\n",
       "    .dataframe tbody tr th:only-of-type {\n",
       "        vertical-align: middle;\n",
       "    }\n",
       "\n",
       "    .dataframe tbody tr th {\n",
       "        vertical-align: top;\n",
       "    }\n",
       "\n",
       "    .dataframe thead th {\n",
       "        text-align: right;\n",
       "    }\n",
       "</style>\n",
       "<table border=\"1\" class=\"dataframe\">\n",
       "  <thead>\n",
       "    <tr style=\"text-align: right;\">\n",
       "      <th></th>\n",
       "      <th>gene_id</th>\n",
       "      <th>TCGA-OR-A5J1-01A-11R-A29S-07</th>\n",
       "      <th>TCGA-OR-A5J2-01A-11R-A29S-07</th>\n",
       "      <th>TCGA-OR-A5J3-01A-11R-A29S-07</th>\n",
       "      <th>TCGA-OR-A5J5-01A-11R-A29S-07</th>\n",
       "      <th>TCGA-OR-A5J6-01A-31R-A29S-07</th>\n",
       "      <th>TCGA-OR-A5J7-01A-11R-A29S-07</th>\n",
       "      <th>TCGA-OR-A5J8-01A-11R-A29S-07</th>\n",
       "      <th>TCGA-OR-A5J9-01A-11R-A29S-07</th>\n",
       "      <th>TCGA-OR-A5JA-01A-11R-A29S-07</th>\n",
       "      <th>...</th>\n",
       "      <th>TCGA-VQ-AA6A-01A-11R-A414-31</th>\n",
       "      <th>TCGA-VQ-AA6B-01A-11R-A414-31</th>\n",
       "      <th>TCGA-VQ-AA6D-01A-11R-A414-31</th>\n",
       "      <th>TCGA-VQ-AA6F-01A-31R-A414-31</th>\n",
       "      <th>TCGA-VQ-AA6G-01A-11R-A414-31</th>\n",
       "      <th>TCGA-VQ-AA6I-01A-11R-A414-31</th>\n",
       "      <th>TCGA-VQ-AA6J-01A-11R-A414-31</th>\n",
       "      <th>TCGA-VQ-AA6K-01A-11R-A414-31</th>\n",
       "      <th>TCGA-ZA-A8F6-01A-23R-A36D-31</th>\n",
       "      <th>TCGA-ZQ-A9CR-01A-11R-A39E-31</th>\n",
       "    </tr>\n",
       "  </thead>\n",
       "  <tbody>\n",
       "    <tr>\n",
       "      <th>0</th>\n",
       "      <td>?|100130426</td>\n",
       "      <td>0.0000</td>\n",
       "      <td>0.0000</td>\n",
       "      <td>0.0000</td>\n",
       "      <td>0.0000</td>\n",
       "      <td>0.0000</td>\n",
       "      <td>0.0000</td>\n",
       "      <td>0.0000</td>\n",
       "      <td>0.0000</td>\n",
       "      <td>0.0000</td>\n",
       "      <td>...</td>\n",
       "      <td>0.0000</td>\n",
       "      <td>0.3189</td>\n",
       "      <td>0.0000</td>\n",
       "      <td>0.0000</td>\n",
       "      <td>0.0000</td>\n",
       "      <td>0.0000</td>\n",
       "      <td>0.2466</td>\n",
       "      <td>0.4134</td>\n",
       "      <td>0.0000</td>\n",
       "      <td>0.5668</td>\n",
       "    </tr>\n",
       "    <tr>\n",
       "      <th>1</th>\n",
       "      <td>?|100133144</td>\n",
       "      <td>3.2661</td>\n",
       "      <td>2.6815</td>\n",
       "      <td>1.7301</td>\n",
       "      <td>0.0000</td>\n",
       "      <td>0.0000</td>\n",
       "      <td>1.1673</td>\n",
       "      <td>1.4422</td>\n",
       "      <td>0.0000</td>\n",
       "      <td>4.4556</td>\n",
       "      <td>...</td>\n",
       "      <td>26.1744</td>\n",
       "      <td>28.1937</td>\n",
       "      <td>32.4153</td>\n",
       "      <td>18.6091</td>\n",
       "      <td>33.7625</td>\n",
       "      <td>35.0189</td>\n",
       "      <td>27.6770</td>\n",
       "      <td>28.6855</td>\n",
       "      <td>29.3939</td>\n",
       "      <td>19.8016</td>\n",
       "    </tr>\n",
       "    <tr>\n",
       "      <th>2</th>\n",
       "      <td>?|100134869</td>\n",
       "      <td>3.9385</td>\n",
       "      <td>8.9948</td>\n",
       "      <td>6.5650</td>\n",
       "      <td>1.5492</td>\n",
       "      <td>4.4709</td>\n",
       "      <td>6.0529</td>\n",
       "      <td>2.2876</td>\n",
       "      <td>1.3599</td>\n",
       "      <td>5.0581</td>\n",
       "      <td>...</td>\n",
       "      <td>14.3662</td>\n",
       "      <td>16.5156</td>\n",
       "      <td>21.5482</td>\n",
       "      <td>17.2753</td>\n",
       "      <td>20.2653</td>\n",
       "      <td>30.1605</td>\n",
       "      <td>19.2494</td>\n",
       "      <td>21.1378</td>\n",
       "      <td>15.4703</td>\n",
       "      <td>8.5379</td>\n",
       "    </tr>\n",
       "    <tr>\n",
       "      <th>3</th>\n",
       "      <td>?|10357</td>\n",
       "      <td>149.1350</td>\n",
       "      <td>81.0777</td>\n",
       "      <td>86.4879</td>\n",
       "      <td>53.9117</td>\n",
       "      <td>66.9063</td>\n",
       "      <td>103.5060</td>\n",
       "      <td>94.9316</td>\n",
       "      <td>78.1955</td>\n",
       "      <td>69.2389</td>\n",
       "      <td>...</td>\n",
       "      <td>11.5541</td>\n",
       "      <td>10.0447</td>\n",
       "      <td>15.9546</td>\n",
       "      <td>21.9117</td>\n",
       "      <td>8.4115</td>\n",
       "      <td>21.6463</td>\n",
       "      <td>35.6665</td>\n",
       "      <td>11.5371</td>\n",
       "      <td>22.0386</td>\n",
       "      <td>29.3701</td>\n",
       "    </tr>\n",
       "    <tr>\n",
       "      <th>4</th>\n",
       "      <td>?|10431</td>\n",
       "      <td>2034.1000</td>\n",
       "      <td>1304.9300</td>\n",
       "      <td>1054.6600</td>\n",
       "      <td>2350.8900</td>\n",
       "      <td>1257.9900</td>\n",
       "      <td>1866.4300</td>\n",
       "      <td>995.0270</td>\n",
       "      <td>1762.1200</td>\n",
       "      <td>1213.5300</td>\n",
       "      <td>...</td>\n",
       "      <td>357.7860</td>\n",
       "      <td>780.6260</td>\n",
       "      <td>903.2380</td>\n",
       "      <td>1033.0300</td>\n",
       "      <td>733.7430</td>\n",
       "      <td>519.9930</td>\n",
       "      <td>709.6430</td>\n",
       "      <td>702.4730</td>\n",
       "      <td>561.9840</td>\n",
       "      <td>1874.0200</td>\n",
       "    </tr>\n",
       "  </tbody>\n",
       "</table>\n",
       "<p>5 rows × 10472 columns</p>\n",
       "</div>"
      ],
      "text/plain": [
       "       gene_id  TCGA-OR-A5J1-01A-11R-A29S-07  TCGA-OR-A5J2-01A-11R-A29S-07  \\\n",
       "0  ?|100130426                        0.0000                        0.0000   \n",
       "1  ?|100133144                        3.2661                        2.6815   \n",
       "2  ?|100134869                        3.9385                        8.9948   \n",
       "3      ?|10357                      149.1350                       81.0777   \n",
       "4      ?|10431                     2034.1000                     1304.9300   \n",
       "\n",
       "   TCGA-OR-A5J3-01A-11R-A29S-07  TCGA-OR-A5J5-01A-11R-A29S-07  \\\n",
       "0                        0.0000                        0.0000   \n",
       "1                        1.7301                        0.0000   \n",
       "2                        6.5650                        1.5492   \n",
       "3                       86.4879                       53.9117   \n",
       "4                     1054.6600                     2350.8900   \n",
       "\n",
       "   TCGA-OR-A5J6-01A-31R-A29S-07  TCGA-OR-A5J7-01A-11R-A29S-07  \\\n",
       "0                        0.0000                        0.0000   \n",
       "1                        0.0000                        1.1673   \n",
       "2                        4.4709                        6.0529   \n",
       "3                       66.9063                      103.5060   \n",
       "4                     1257.9900                     1866.4300   \n",
       "\n",
       "   TCGA-OR-A5J8-01A-11R-A29S-07  TCGA-OR-A5J9-01A-11R-A29S-07  \\\n",
       "0                        0.0000                        0.0000   \n",
       "1                        1.4422                        0.0000   \n",
       "2                        2.2876                        1.3599   \n",
       "3                       94.9316                       78.1955   \n",
       "4                      995.0270                     1762.1200   \n",
       "\n",
       "   TCGA-OR-A5JA-01A-11R-A29S-07  ...  TCGA-VQ-AA6A-01A-11R-A414-31  \\\n",
       "0                        0.0000  ...                        0.0000   \n",
       "1                        4.4556  ...                       26.1744   \n",
       "2                        5.0581  ...                       14.3662   \n",
       "3                       69.2389  ...                       11.5541   \n",
       "4                     1213.5300  ...                      357.7860   \n",
       "\n",
       "   TCGA-VQ-AA6B-01A-11R-A414-31  TCGA-VQ-AA6D-01A-11R-A414-31  \\\n",
       "0                        0.3189                        0.0000   \n",
       "1                       28.1937                       32.4153   \n",
       "2                       16.5156                       21.5482   \n",
       "3                       10.0447                       15.9546   \n",
       "4                      780.6260                      903.2380   \n",
       "\n",
       "   TCGA-VQ-AA6F-01A-31R-A414-31  TCGA-VQ-AA6G-01A-11R-A414-31  \\\n",
       "0                        0.0000                        0.0000   \n",
       "1                       18.6091                       33.7625   \n",
       "2                       17.2753                       20.2653   \n",
       "3                       21.9117                        8.4115   \n",
       "4                     1033.0300                      733.7430   \n",
       "\n",
       "   TCGA-VQ-AA6I-01A-11R-A414-31  TCGA-VQ-AA6J-01A-11R-A414-31  \\\n",
       "0                        0.0000                        0.2466   \n",
       "1                       35.0189                       27.6770   \n",
       "2                       30.1605                       19.2494   \n",
       "3                       21.6463                       35.6665   \n",
       "4                      519.9930                      709.6430   \n",
       "\n",
       "   TCGA-VQ-AA6K-01A-11R-A414-31  TCGA-ZA-A8F6-01A-23R-A36D-31  \\\n",
       "0                        0.4134                        0.0000   \n",
       "1                       28.6855                       29.3939   \n",
       "2                       21.1378                       15.4703   \n",
       "3                       11.5371                       22.0386   \n",
       "4                      702.4730                      561.9840   \n",
       "\n",
       "   TCGA-ZQ-A9CR-01A-11R-A39E-31  \n",
       "0                        0.5668  \n",
       "1                       19.8016  \n",
       "2                        8.5379  \n",
       "3                       29.3701  \n",
       "4                     1874.0200  \n",
       "\n",
       "[5 rows x 10472 columns]"
      ]
     },
     "execution_count": 15,
     "metadata": {},
     "output_type": "execute_result"
    }
   ],
   "source": [
    "original_df.head()"
   ]
  },
  {
   "cell_type": "code",
   "execution_count": 16,
   "metadata": {},
   "outputs": [],
   "source": [
    "test_df = original_df.T"
   ]
  },
  {
   "cell_type": "code",
   "execution_count": 17,
   "metadata": {},
   "outputs": [],
   "source": [
    "del original_df"
   ]
  },
  {
   "cell_type": "code",
   "execution_count": 18,
   "metadata": {},
   "outputs": [
    {
     "name": "stdout",
     "output_type": "stream",
     "text": [
      "(10472, 20531)\n"
     ]
    }
   ],
   "source": [
    "print(test_df.shape)"
   ]
  },
  {
   "cell_type": "code",
   "execution_count": 19,
   "metadata": {},
   "outputs": [],
   "source": [
    "test_df = test_df.rename(columns= {col: f'gene_{i+1}' for i, col in enumerate(test_df.columns)})"
   ]
  },
  {
   "cell_type": "code",
   "execution_count": 20,
   "metadata": {},
   "outputs": [],
   "source": [
    "test_df = test_df.iloc[1:501]"
   ]
  },
  {
   "cell_type": "code",
   "execution_count": 21,
   "metadata": {},
   "outputs": [],
   "source": [
    "test_df.to_csv(\"data/preprocessed_data_500.csv\",sep=\",\")"
   ]
  },
  {
   "cell_type": "code",
   "execution_count": 22,
   "metadata": {},
   "outputs": [],
   "source": [
    "del test_df"
   ]
  }
 ],
 "metadata": {
  "kernelspec": {
   "display_name": "pancan_env",
   "language": "python",
   "name": "python3"
  },
  "language_info": {
   "codemirror_mode": {
    "name": "ipython",
    "version": 3
   },
   "file_extension": ".py",
   "mimetype": "text/x-python",
   "name": "python",
   "nbconvert_exporter": "python",
   "pygments_lexer": "ipython3",
   "version": "3.13.2"
  }
 },
 "nbformat": 4,
 "nbformat_minor": 2
}
