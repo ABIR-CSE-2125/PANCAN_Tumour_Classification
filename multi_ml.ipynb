{
 "cells": [
  {
   "cell_type": "markdown",
   "id": "d0e30456",
   "metadata": {},
   "source": [
    "## Observations till now : \n",
    "### Using PCA to reduce dimentionality : \n",
    "60 Principle Components give us 87% balanced acc in svm classifier. The acc score does not increase after that mark even if we increase the number of pcs.\n",
    "### Usinng KPCA to reduce dimentionality :  \n",
    "This also shows a 60 Principle Component count to be optimum. Also by cross-validation we can observe that linear kernel is perfromaing better in kpca which is analogous to simple pca. So there is definetly some linearity among the features.\n",
    "## Goal :\n",
    "Test the accuracy of different ML Models with Simple PCA with 60 PCs "
   ]
  },
  {
   "cell_type": "code",
   "execution_count": 2,
   "id": "1032dfa3",
   "metadata": {},
   "outputs": [],
   "source": [
    "import numpy as np\n",
    "import pandas as pd\n",
    "\n",
    "from sklearn.decomposition import PCA\n",
    "from sklearn.pipeline import Pipeline\n",
    "from sklearn.model_selection import train_test_split, RandomizedSearchCV,StratifiedKFold\n",
    "from sklearn.metrics import classification_report\n",
    "from sklearn.preprocessing import StandardScaler\n",
    "from sklearn.ensemble import RandomForestClassifier\n",
    "from sklearn.neural_network import MLPClassifier\n",
    "from sklearn.linear_model import LogisticRegression\n",
    "from sklearn.svm import SVC\n",
    "from xgboost import XGBClassifier\n",
    "from lightgbm import LGBMClassifier\n",
    "from utils import *\n",
    "from sklearn.metrics import balanced_accuracy_score,f1_score,confusion_matrix\n",
    "from scipy.stats import uniform, randint"
   ]
  },
  {
   "cell_type": "code",
   "execution_count": 59,
   "id": "f4f649f5",
   "metadata": {},
   "outputs": [
    {
     "name": "stdout",
     "output_type": "stream",
     "text": [
      "DataFrame successfully loaded from data/processed_data/gene_exp_data.pkl\n",
      "DataFrame successfully loaded from data/processed_data/label_data.pkl\n",
      "----------------------------------------------------------------------------------------------------------------------------------------------------------------\n",
      "Entries in Gene Expression Dataframe : 5268\n",
      "Entries in Label Dataframe : 5268\n",
      "----------------------------------------------------------------------------------------------------------------------------------------------------------------\n",
      "Entries in Extracted Gene Expression Dataframe : 4392\n",
      "Entries in Extracted Label Dataframe : 4392\n"
     ]
    }
   ],
   "source": [
    "gene_exp_df = read_dataframe_from_pickle(\"data/processed_data/gene_exp_data.pkl\")\n",
    "label_df = read_dataframe_from_pickle(\"data/processed_data/label_data.pkl\")\n",
    "print(\"--\" * 80)\n",
    "print(f\"Entries in Gene Expression Dataframe : {len(gene_exp_df)}\")\n",
    "print(f\"Entries in Label Dataframe : {len(label_df)}\")\n",
    "labels_with_high_freq_df = remove_low_frequency_labels(label_df,threshold=150)\n",
    "extracted_data,extracted_label = collect_relevant_data(gene_exp_df_bkp=gene_exp_df,label_df_bkp=labels_with_high_freq_df)\n",
    "encoded_labels,label_encoder = encode_labels(extracted_label)\n",
    "print(\"--\" * 80)\n",
    "print(f\"Entries in Extracted Gene Expression Dataframe : {len(extracted_data)}\")\n",
    "print(f\"Entries in Extracted Label Dataframe : {len(encoded_labels)}\")"
   ]
  },
  {
   "cell_type": "code",
   "execution_count": 60,
   "id": "19e8fc96",
   "metadata": {},
   "outputs": [],
   "source": [
    "random_state = 42\n",
    "n_classes = len(np.unique(encoded_labels))"
   ]
  },
  {
   "cell_type": "code",
   "execution_count": 61,
   "id": "1e979d4b",
   "metadata": {},
   "outputs": [],
   "source": [
    "X_train, X_test, y_train, y_test = train_test_split(\n",
    "    extracted_data, encoded_labels, \n",
    "    test_size=0.2, \n",
    "    stratify=encoded_labels,  # Critical for imbalanced data\n",
    "    random_state=random_state\n",
    ")"
   ]
  },
  {
   "cell_type": "code",
   "execution_count": 63,
   "id": "bac3db7d",
   "metadata": {},
   "outputs": [],
   "source": [
    "cv = StratifiedKFold(n_splits=2, shuffle=True, random_state=random_state)"
   ]
  },
  {
   "cell_type": "code",
   "execution_count": 64,
   "id": "63cc07dd",
   "metadata": {},
   "outputs": [],
   "source": [
    "def build_pipeline(model):\n",
    "    return Pipeline([\n",
    "        ('scaler', StandardScaler()),\n",
    "        ('pca', PCA(n_components=60, random_state=random_state)),\n",
    "        ('clf', model)\n",
    "    ])"
   ]
  },
  {
   "cell_type": "code",
   "execution_count": 67,
   "id": "7c1bf210",
   "metadata": {},
   "outputs": [],
   "source": [
    "models = {\n",
    "    'logreg': LogisticRegression (multi_class='multinomial',max_iter=5000),\n",
    "    'svm': SVC(probability=True),\n",
    "    'xgb': XGBClassifier(\n",
    "        objective='multi:softprob',\n",
    "        num_class=n_classes,\n",
    "        eval_metric='mlogloss',\n",
    "        verbosity=0\n",
    "    ),\n",
    "    'lgbm': LGBMClassifier(\n",
    "                        objective='multiclass', \n",
    "                        num_class=n_classes,\n",
    "                        random_state=random_state,\n",
    "                        early_stopping_rounds=10,\n",
    "                        eval_set=[(X_test, y_test)],\n",
    "    ),         \n",
    "    'rf': RandomForestClassifier(n_estimators=100, random_state=random_state),\n",
    "\n",
    "    'mlp': MLPClassifier(hidden_layer_sizes=(100,), \n",
    "                        max_iter=300,\n",
    "                        validation_fraction=0.2 ,\n",
    "                        random_state=random_state)\n",
    "}"
   ]
  },
  {
   "cell_type": "code",
   "execution_count": 68,
   "id": "467cd0c7",
   "metadata": {},
   "outputs": [],
   "source": [
    "param_grids = {\n",
    "    'logreg': {\n",
    "        'clf__C': uniform(0.01, 10),\n",
    "        'clf__penalty': ['l2'],\n",
    "        'clf__solver': ['lbfgs'],\n",
    "        'clf__class_weight': ['balanced']\n",
    "    },\n",
    "    'svm': {\n",
    "        'clf__C': uniform(0.01, 10),\n",
    "        'clf__gamma': ['scale', 'auto'],\n",
    "        'clf__kernel': ['rbf'],\n",
    "        'clf__class_weight': ['balanced']\n",
    "    },\n",
    "    'xgb': {\n",
    "        'clf__n_estimators': randint(100, 300),\n",
    "        'clf__max_depth': randint(3, 10),\n",
    "        'clf__learning_rate': uniform(0.01, 0.3),\n",
    "    },\n",
    "    'lgbm': {\n",
    "        'clf__n_estimators': randint(100, 300),\n",
    "        'clf__max_depth': randint(3, 10),\n",
    "        'clf__learning_rate': uniform(0.01, 0.3),\n",
    "        'clf__class_weight': ['balanced'],\n",
    "        'clf__subsample': uniform(0.7, 0.3),\n",
    "        'clf__colsample_bytree': uniform(0.7, 0.3),\n",
    "    },\n",
    "    'rf': {\n",
    "        'clf__n_estimators': randint(100, 500),\n",
    "        'clf__max_depth': randint(5, 30),\n",
    "        'clf__min_samples_split': randint(2, 20),\n",
    "        'clf__min_samples_leaf': randint(1, 10),\n",
    "        'clf__class_weight': ['balanced', 'balanced_subsample']\n",
    "    },\n",
    "    'mlp': {\n",
    "        'clf__hidden_layer_sizes': [(100,), (100, 50), (200, 100, 50)],\n",
    "        'clf__activation': ['relu', 'tanh'],\n",
    "        'clf__alpha': uniform(0.0001, 0.01),\n",
    "        'clf__learning_rate': ['constant', 'adaptive'],\n",
    "        'clf__learning_rate_init': uniform(0.001, 0.01),\n",
    "        'clf__early_stopping': [True],\n",
    "    }\n",
    "}\n"
   ]
  },
  {
   "cell_type": "code",
   "execution_count": 69,
   "id": "87ca8fc8",
   "metadata": {},
   "outputs": [],
   "source": [
    "results = {}"
   ]
  },
  {
   "cell_type": "code",
   "execution_count": null,
   "id": "d57f83d8",
   "metadata": {},
   "outputs": [],
   "source": [
    "for name, model in models.items():\n",
    "    if name not in [\"xgb\"]:\n",
    "        continue\n",
    "    try:\n",
    "        print(\"==\"*40)\n",
    "        print(f\"\\n🔎 Tuning {name.upper()}\")\n",
    "        pipe = build_pipeline(model)\n",
    "        fit_params = {}\n",
    "        if name in ['xgb', 'lgbm']:\n",
    "            fit_params = {\n",
    "                'clf__early_stopping_rounds': 10,\n",
    "                'clf__eval_set': [(X_test, y_test)],\n",
    "            }\n",
    "        search = RandomizedSearchCV(\n",
    "            pipe,\n",
    "            param_distributions=param_grids[name],\n",
    "            n_iter=25,\n",
    "            scoring='f1_macro',\n",
    "            n_jobs=6,\n",
    "            cv=cv,\n",
    "            verbose=1,\n",
    "            random_state=random_state,\n",
    "            return_train_score=True \n",
    "        )\n",
    "        \n",
    "        search.fit(X_train, y_train, **fit_params)\n",
    "        print(\"--\"*35)\n",
    "        print(f\"\\n✅ Best params for {name.upper()}:\")\n",
    "        print(search.best_params_)\n",
    "        print(f\"\\n✅ Best score for {name.upper()}:\")\n",
    "        print(search.best_score_)\n",
    "        \n",
    "        # Store the best estimator\n",
    "        best_model = search.best_estimator_\n",
    "        \n",
    "        # Predictions\n",
    "        y_pred = best_model.predict(X_test)\n",
    "        y_proba = best_model.predict_proba(X_test)\n",
    "        \n",
    "        # Evaluation metrics\n",
    "        class_report = classification_report(y_test, y_pred, digits=4, output_dict=True)\n",
    "\n",
    "        results[name] = {\n",
    "            'best_params': search.best_params_,\n",
    "            'best_score': search.best_score_,\n",
    "            'test_accuracy': balanced_accuracy_score(y_test, y_pred),\n",
    "            'test_f1_macro': f1_score(y_test, y_pred, average='macro'),\n",
    "            'test_f1_weighted': f1_score(y_test, y_pred, average='weighted'),\n",
    "            'class_report': class_report,\n",
    "            'confusion_matrix': confusion_matrix(y_test, y_pred),\n",
    "            'best_estimator': best_model,\n",
    "            'y_proba': y_proba\n",
    "        }\n",
    "        print(f\"Successfully Completed all cross validations for model : {name.upper()}\")\n",
    "    except Exception as e:\n",
    "        print(f\"Encountered error at {name.upper} :: {e}\")\n",
    "        continue\n",
    "# Create a summary dataframe for easy comparison\n",
    "summary = pd.DataFrame({\n",
    "    model_name: {\n",
    "        'CV F1 Macro': results[model_name]['best_score'],\n",
    "        'Test F1 Macro': results[model_name]['test_f1_macro'],\n",
    "        'Test F1 Weighted': results[model_name]['test_f1_weighted'],\n",
    "        'Test Accuracy': results[model_name]['test_accuracy']\n",
    "    } for model_name in results\n",
    "}).T\n",
    "summary.to_csv(\"Summary_Metrics.csv\",index=False)\n",
    "print(\"\\n📋 Model Performance Summary:\")\n",
    "print(summary.sort_values('Test F1 Macro', ascending=False))"
   ]
  },
  {
   "cell_type": "code",
   "execution_count": null,
   "id": "7f336c55",
   "metadata": {},
   "outputs": [
    {
     "name": "stdout",
     "output_type": "stream",
     "text": [
      "logreg\n",
      "best_params :: {'clf__C': np.float64(0.21584494295802448), 'clf__class_weight': 'balanced', 'clf__penalty': 'l2', 'clf__solver': 'lbfgs'}\n",
      "best_score :: 0.8431889547360782\n",
      "test_accuracy :: 0.8863999955338829\n",
      "test_f1_macro :: 0.8827624368906615\n",
      "test_f1_weighted :: 0.9123178801532476\n",
      "svm\n",
      "best_params :: {'clf__C': np.float64(3.0561376917337064), 'clf__class_weight': 'balanced', 'clf__gamma': 'scale', 'clf__kernel': 'rbf'}\n",
      "best_score :: 0.869812051474097\n",
      "test_accuracy :: 0.8832150594347234\n",
      "test_f1_macro :: 0.8790503177479092\n",
      "test_f1_weighted :: 0.9133025643218163\n",
      "rf\n",
      "best_params :: {'clf__class_weight': 'balanced_subsample', 'clf__max_depth': 29, 'clf__min_samples_leaf': 3, 'clf__min_samples_split': 6, 'clf__n_estimators': 406}\n",
      "best_score :: 0.867516826619347\n",
      "test_accuracy :: 0.8785418199152417\n",
      "test_f1_macro :: 0.8758963165943556\n",
      "test_f1_weighted :: 0.9068325800959735\n",
      "mlp\n",
      "best_params :: {'clf__activation': 'tanh', 'clf__alpha': np.float64(0.002096737821583597), 'clf__early_stopping': True, 'clf__hidden_layer_sizes': (200, 100, 50), 'clf__learning_rate': 'adaptive', 'clf__learning_rate_init': np.float64(0.006924145688620425)}\n",
      "best_score :: 0.8634794004906915\n",
      "test_accuracy :: 0.8896447171988987\n",
      "test_f1_macro :: 0.8908134580211068\n",
      "test_f1_weighted :: 0.9176375648897099\n"
     ]
    }
   ],
   "source": [
    "for model, performance in results.items():\n",
    "    print(model)\n",
    "    for key,value in performance.items():\n",
    "        if key in [\"confusion_matrix\",\"y_proba\",\"best_estimator\",\"class_report\"]:\n",
    "            continue\n",
    "        print(f\"{key} :: {value}\")"
   ]
  },
  {
   "cell_type": "code",
   "execution_count": 3,
   "id": "a94cbc93",
   "metadata": {},
   "outputs": [],
   "source": [
    "t = {\n",
    "    \"model\" : [\"logreg\",\"svm\",\"rf\",\"mlp\"],\n",
    "    \"best_score\" : [    0.8431889547360782,\n",
    "                        0.869812051474097,\n",
    "                        0.867516826619347,\n",
    "                        0.8634794004906915],\n",
    "    \"test_accuracy\":[   0.8863999955338829,\n",
    "                        0.8832150594347234,\n",
    "                        0.8785418199152417,\n",
    "                        0.8896447171988987,],\n",
    "    \"test_f1_macro\": [  0.8827624368906615,\n",
    "                        0.8790503177479092,\n",
    "                        0.8758963165943556,\n",
    "                        0.8908134580211068,],\n",
    "    \"test_f1_weighted\":[0.9123178801532476,\n",
    "                        0.9133025643218163,\n",
    "                        0.9068325800959735,\n",
    "                        0.9176375648897099,]                                               \n",
    "}\n",
    "df = pd.DataFrame(t)\n",
    "df.to_csv(\"results/Summary_Metrics.csv\")"
   ]
  },
  {
   "cell_type": "code",
   "execution_count": 5,
   "id": "66ed9327",
   "metadata": {},
   "outputs": [
    {
     "data": {
      "application/vnd.plotly.v1+json": {
       "config": {
        "plotlyServerURL": "https://plot.ly"
       },
       "data": [
        {
         "fill": "toself",
         "name": "logreg",
         "r": [
          0.8431889547360782,
          0.8863999955338829,
          0.8827624368906615,
          0.9123178801532476,
          0.8431889547360782
         ],
         "theta": [
          "Best Score",
          "Test Accuracy",
          "F1 Macro",
          "F1 Weighted",
          "Best Score"
         ],
         "type": "scatterpolar"
        },
        {
         "fill": "toself",
         "name": "svm",
         "r": [
          0.869812051474097,
          0.8832150594347234,
          0.8790503177479092,
          0.9133025643218163,
          0.869812051474097
         ],
         "theta": [
          "Best Score",
          "Test Accuracy",
          "F1 Macro",
          "F1 Weighted",
          "Best Score"
         ],
         "type": "scatterpolar"
        },
        {
         "fill": "toself",
         "name": "rf",
         "r": [
          0.867516826619347,
          0.8785418199152417,
          0.8758963165943556,
          0.9068325800959735,
          0.867516826619347
         ],
         "theta": [
          "Best Score",
          "Test Accuracy",
          "F1 Macro",
          "F1 Weighted",
          "Best Score"
         ],
         "type": "scatterpolar"
        },
        {
         "fill": "toself",
         "name": "mlp",
         "r": [
          0.8634794004906915,
          0.8896447171988987,
          0.8908134580211068,
          0.9176375648897099,
          0.8634794004906915
         ],
         "theta": [
          "Best Score",
          "Test Accuracy",
          "F1 Macro",
          "F1 Weighted",
          "Best Score"
         ],
         "type": "scatterpolar"
        }
       ],
       "layout": {
        "polar": {
         "radialaxis": {
          "range": [
           0.8,
           1
          ],
          "visible": true
         }
        },
        "showlegend": true,
        "template": {
         "data": {
          "bar": [
           {
            "error_x": {
             "color": "#2a3f5f"
            },
            "error_y": {
             "color": "#2a3f5f"
            },
            "marker": {
             "line": {
              "color": "#E5ECF6",
              "width": 0.5
             },
             "pattern": {
              "fillmode": "overlay",
              "size": 10,
              "solidity": 0.2
             }
            },
            "type": "bar"
           }
          ],
          "barpolar": [
           {
            "marker": {
             "line": {
              "color": "#E5ECF6",
              "width": 0.5
             },
             "pattern": {
              "fillmode": "overlay",
              "size": 10,
              "solidity": 0.2
             }
            },
            "type": "barpolar"
           }
          ],
          "carpet": [
           {
            "aaxis": {
             "endlinecolor": "#2a3f5f",
             "gridcolor": "white",
             "linecolor": "white",
             "minorgridcolor": "white",
             "startlinecolor": "#2a3f5f"
            },
            "baxis": {
             "endlinecolor": "#2a3f5f",
             "gridcolor": "white",
             "linecolor": "white",
             "minorgridcolor": "white",
             "startlinecolor": "#2a3f5f"
            },
            "type": "carpet"
           }
          ],
          "choropleth": [
           {
            "colorbar": {
             "outlinewidth": 0,
             "ticks": ""
            },
            "type": "choropleth"
           }
          ],
          "contour": [
           {
            "colorbar": {
             "outlinewidth": 0,
             "ticks": ""
            },
            "colorscale": [
             [
              0,
              "#0d0887"
             ],
             [
              0.1111111111111111,
              "#46039f"
             ],
             [
              0.2222222222222222,
              "#7201a8"
             ],
             [
              0.3333333333333333,
              "#9c179e"
             ],
             [
              0.4444444444444444,
              "#bd3786"
             ],
             [
              0.5555555555555556,
              "#d8576b"
             ],
             [
              0.6666666666666666,
              "#ed7953"
             ],
             [
              0.7777777777777778,
              "#fb9f3a"
             ],
             [
              0.8888888888888888,
              "#fdca26"
             ],
             [
              1,
              "#f0f921"
             ]
            ],
            "type": "contour"
           }
          ],
          "contourcarpet": [
           {
            "colorbar": {
             "outlinewidth": 0,
             "ticks": ""
            },
            "type": "contourcarpet"
           }
          ],
          "heatmap": [
           {
            "colorbar": {
             "outlinewidth": 0,
             "ticks": ""
            },
            "colorscale": [
             [
              0,
              "#0d0887"
             ],
             [
              0.1111111111111111,
              "#46039f"
             ],
             [
              0.2222222222222222,
              "#7201a8"
             ],
             [
              0.3333333333333333,
              "#9c179e"
             ],
             [
              0.4444444444444444,
              "#bd3786"
             ],
             [
              0.5555555555555556,
              "#d8576b"
             ],
             [
              0.6666666666666666,
              "#ed7953"
             ],
             [
              0.7777777777777778,
              "#fb9f3a"
             ],
             [
              0.8888888888888888,
              "#fdca26"
             ],
             [
              1,
              "#f0f921"
             ]
            ],
            "type": "heatmap"
           }
          ],
          "histogram": [
           {
            "marker": {
             "pattern": {
              "fillmode": "overlay",
              "size": 10,
              "solidity": 0.2
             }
            },
            "type": "histogram"
           }
          ],
          "histogram2d": [
           {
            "colorbar": {
             "outlinewidth": 0,
             "ticks": ""
            },
            "colorscale": [
             [
              0,
              "#0d0887"
             ],
             [
              0.1111111111111111,
              "#46039f"
             ],
             [
              0.2222222222222222,
              "#7201a8"
             ],
             [
              0.3333333333333333,
              "#9c179e"
             ],
             [
              0.4444444444444444,
              "#bd3786"
             ],
             [
              0.5555555555555556,
              "#d8576b"
             ],
             [
              0.6666666666666666,
              "#ed7953"
             ],
             [
              0.7777777777777778,
              "#fb9f3a"
             ],
             [
              0.8888888888888888,
              "#fdca26"
             ],
             [
              1,
              "#f0f921"
             ]
            ],
            "type": "histogram2d"
           }
          ],
          "histogram2dcontour": [
           {
            "colorbar": {
             "outlinewidth": 0,
             "ticks": ""
            },
            "colorscale": [
             [
              0,
              "#0d0887"
             ],
             [
              0.1111111111111111,
              "#46039f"
             ],
             [
              0.2222222222222222,
              "#7201a8"
             ],
             [
              0.3333333333333333,
              "#9c179e"
             ],
             [
              0.4444444444444444,
              "#bd3786"
             ],
             [
              0.5555555555555556,
              "#d8576b"
             ],
             [
              0.6666666666666666,
              "#ed7953"
             ],
             [
              0.7777777777777778,
              "#fb9f3a"
             ],
             [
              0.8888888888888888,
              "#fdca26"
             ],
             [
              1,
              "#f0f921"
             ]
            ],
            "type": "histogram2dcontour"
           }
          ],
          "mesh3d": [
           {
            "colorbar": {
             "outlinewidth": 0,
             "ticks": ""
            },
            "type": "mesh3d"
           }
          ],
          "parcoords": [
           {
            "line": {
             "colorbar": {
              "outlinewidth": 0,
              "ticks": ""
             }
            },
            "type": "parcoords"
           }
          ],
          "pie": [
           {
            "automargin": true,
            "type": "pie"
           }
          ],
          "scatter": [
           {
            "fillpattern": {
             "fillmode": "overlay",
             "size": 10,
             "solidity": 0.2
            },
            "type": "scatter"
           }
          ],
          "scatter3d": [
           {
            "line": {
             "colorbar": {
              "outlinewidth": 0,
              "ticks": ""
             }
            },
            "marker": {
             "colorbar": {
              "outlinewidth": 0,
              "ticks": ""
             }
            },
            "type": "scatter3d"
           }
          ],
          "scattercarpet": [
           {
            "marker": {
             "colorbar": {
              "outlinewidth": 0,
              "ticks": ""
             }
            },
            "type": "scattercarpet"
           }
          ],
          "scattergeo": [
           {
            "marker": {
             "colorbar": {
              "outlinewidth": 0,
              "ticks": ""
             }
            },
            "type": "scattergeo"
           }
          ],
          "scattergl": [
           {
            "marker": {
             "colorbar": {
              "outlinewidth": 0,
              "ticks": ""
             }
            },
            "type": "scattergl"
           }
          ],
          "scattermap": [
           {
            "marker": {
             "colorbar": {
              "outlinewidth": 0,
              "ticks": ""
             }
            },
            "type": "scattermap"
           }
          ],
          "scattermapbox": [
           {
            "marker": {
             "colorbar": {
              "outlinewidth": 0,
              "ticks": ""
             }
            },
            "type": "scattermapbox"
           }
          ],
          "scatterpolar": [
           {
            "marker": {
             "colorbar": {
              "outlinewidth": 0,
              "ticks": ""
             }
            },
            "type": "scatterpolar"
           }
          ],
          "scatterpolargl": [
           {
            "marker": {
             "colorbar": {
              "outlinewidth": 0,
              "ticks": ""
             }
            },
            "type": "scatterpolargl"
           }
          ],
          "scatterternary": [
           {
            "marker": {
             "colorbar": {
              "outlinewidth": 0,
              "ticks": ""
             }
            },
            "type": "scatterternary"
           }
          ],
          "surface": [
           {
            "colorbar": {
             "outlinewidth": 0,
             "ticks": ""
            },
            "colorscale": [
             [
              0,
              "#0d0887"
             ],
             [
              0.1111111111111111,
              "#46039f"
             ],
             [
              0.2222222222222222,
              "#7201a8"
             ],
             [
              0.3333333333333333,
              "#9c179e"
             ],
             [
              0.4444444444444444,
              "#bd3786"
             ],
             [
              0.5555555555555556,
              "#d8576b"
             ],
             [
              0.6666666666666666,
              "#ed7953"
             ],
             [
              0.7777777777777778,
              "#fb9f3a"
             ],
             [
              0.8888888888888888,
              "#fdca26"
             ],
             [
              1,
              "#f0f921"
             ]
            ],
            "type": "surface"
           }
          ],
          "table": [
           {
            "cells": {
             "fill": {
              "color": "#EBF0F8"
             },
             "line": {
              "color": "white"
             }
            },
            "header": {
             "fill": {
              "color": "#C8D4E3"
             },
             "line": {
              "color": "white"
             }
            },
            "type": "table"
           }
          ]
         },
         "layout": {
          "annotationdefaults": {
           "arrowcolor": "#2a3f5f",
           "arrowhead": 0,
           "arrowwidth": 1
          },
          "autotypenumbers": "strict",
          "coloraxis": {
           "colorbar": {
            "outlinewidth": 0,
            "ticks": ""
           }
          },
          "colorscale": {
           "diverging": [
            [
             0,
             "#8e0152"
            ],
            [
             0.1,
             "#c51b7d"
            ],
            [
             0.2,
             "#de77ae"
            ],
            [
             0.3,
             "#f1b6da"
            ],
            [
             0.4,
             "#fde0ef"
            ],
            [
             0.5,
             "#f7f7f7"
            ],
            [
             0.6,
             "#e6f5d0"
            ],
            [
             0.7,
             "#b8e186"
            ],
            [
             0.8,
             "#7fbc41"
            ],
            [
             0.9,
             "#4d9221"
            ],
            [
             1,
             "#276419"
            ]
           ],
           "sequential": [
            [
             0,
             "#0d0887"
            ],
            [
             0.1111111111111111,
             "#46039f"
            ],
            [
             0.2222222222222222,
             "#7201a8"
            ],
            [
             0.3333333333333333,
             "#9c179e"
            ],
            [
             0.4444444444444444,
             "#bd3786"
            ],
            [
             0.5555555555555556,
             "#d8576b"
            ],
            [
             0.6666666666666666,
             "#ed7953"
            ],
            [
             0.7777777777777778,
             "#fb9f3a"
            ],
            [
             0.8888888888888888,
             "#fdca26"
            ],
            [
             1,
             "#f0f921"
            ]
           ],
           "sequentialminus": [
            [
             0,
             "#0d0887"
            ],
            [
             0.1111111111111111,
             "#46039f"
            ],
            [
             0.2222222222222222,
             "#7201a8"
            ],
            [
             0.3333333333333333,
             "#9c179e"
            ],
            [
             0.4444444444444444,
             "#bd3786"
            ],
            [
             0.5555555555555556,
             "#d8576b"
            ],
            [
             0.6666666666666666,
             "#ed7953"
            ],
            [
             0.7777777777777778,
             "#fb9f3a"
            ],
            [
             0.8888888888888888,
             "#fdca26"
            ],
            [
             1,
             "#f0f921"
            ]
           ]
          },
          "colorway": [
           "#636efa",
           "#EF553B",
           "#00cc96",
           "#ab63fa",
           "#FFA15A",
           "#19d3f3",
           "#FF6692",
           "#B6E880",
           "#FF97FF",
           "#FECB52"
          ],
          "font": {
           "color": "#2a3f5f"
          },
          "geo": {
           "bgcolor": "white",
           "lakecolor": "white",
           "landcolor": "#E5ECF6",
           "showlakes": true,
           "showland": true,
           "subunitcolor": "white"
          },
          "hoverlabel": {
           "align": "left"
          },
          "hovermode": "closest",
          "mapbox": {
           "style": "light"
          },
          "paper_bgcolor": "white",
          "plot_bgcolor": "#E5ECF6",
          "polar": {
           "angularaxis": {
            "gridcolor": "white",
            "linecolor": "white",
            "ticks": ""
           },
           "bgcolor": "#E5ECF6",
           "radialaxis": {
            "gridcolor": "white",
            "linecolor": "white",
            "ticks": ""
           }
          },
          "scene": {
           "xaxis": {
            "backgroundcolor": "#E5ECF6",
            "gridcolor": "white",
            "gridwidth": 2,
            "linecolor": "white",
            "showbackground": true,
            "ticks": "",
            "zerolinecolor": "white"
           },
           "yaxis": {
            "backgroundcolor": "#E5ECF6",
            "gridcolor": "white",
            "gridwidth": 2,
            "linecolor": "white",
            "showbackground": true,
            "ticks": "",
            "zerolinecolor": "white"
           },
           "zaxis": {
            "backgroundcolor": "#E5ECF6",
            "gridcolor": "white",
            "gridwidth": 2,
            "linecolor": "white",
            "showbackground": true,
            "ticks": "",
            "zerolinecolor": "white"
           }
          },
          "shapedefaults": {
           "line": {
            "color": "#2a3f5f"
           }
          },
          "ternary": {
           "aaxis": {
            "gridcolor": "white",
            "linecolor": "white",
            "ticks": ""
           },
           "baxis": {
            "gridcolor": "white",
            "linecolor": "white",
            "ticks": ""
           },
           "bgcolor": "#E5ECF6",
           "caxis": {
            "gridcolor": "white",
            "linecolor": "white",
            "ticks": ""
           }
          },
          "title": {
           "x": 0.05
          },
          "xaxis": {
           "automargin": true,
           "gridcolor": "white",
           "linecolor": "white",
           "ticks": "",
           "title": {
            "standoff": 15
           },
           "zerolinecolor": "white",
           "zerolinewidth": 2
          },
          "yaxis": {
           "automargin": true,
           "gridcolor": "white",
           "linecolor": "white",
           "ticks": "",
           "title": {
            "standoff": 15
           },
           "zerolinecolor": "white",
           "zerolinewidth": 2
          }
         }
        },
        "title": {
         "text": "Model Comparison - Radar Chart"
        }
       }
      }
     },
     "metadata": {},
     "output_type": "display_data"
    }
   ],
   "source": [
    "import plotly.graph_objects as go\n",
    "from plotly.subplots import make_subplots\n",
    "\n",
    "metrics = [\"Best Score\", \"Test Accuracy\", \"F1 Macro\", \"F1 Weighted\"]\n",
    "fig = go.Figure()\n",
    "\n",
    "# Add one trace per model\n",
    "for i, model in enumerate(t[\"model\"]):\n",
    "    values = [\n",
    "        t[\"best_score\"][i],\n",
    "        t[\"test_accuracy\"][i],\n",
    "        t[\"test_f1_macro\"][i],\n",
    "        t[\"test_f1_weighted\"][i]\n",
    "    ]\n",
    "    # Close the loop for radar chart\n",
    "    values += [values[0]]\n",
    "    fig.add_trace(go.Scatterpolar(\n",
    "        r=values,\n",
    "        theta=metrics + [metrics[0]],  # loop back\n",
    "        fill='toself',\n",
    "        name=model\n",
    "    ))\n",
    "\n",
    "fig.update_layout(\n",
    "    title=\"Model Comparison - Radar Chart\",\n",
    "    polar=dict(\n",
    "        radialaxis=dict(\n",
    "            visible=True,\n",
    "            range=[0.8, 1.0]\n",
    "        )\n",
    "    ),\n",
    "    showlegend=True\n",
    ")\n",
    "\n",
    "fig.show()"
   ]
  }
 ],
 "metadata": {
  "kernelspec": {
   "display_name": "pancan_env",
   "language": "python",
   "name": "python3"
  },
  "language_info": {
   "codemirror_mode": {
    "name": "ipython",
    "version": 3
   },
   "file_extension": ".py",
   "mimetype": "text/x-python",
   "name": "python",
   "nbconvert_exporter": "python",
   "pygments_lexer": "ipython3",
   "version": "3.13.2"
  }
 },
 "nbformat": 4,
 "nbformat_minor": 5
}
