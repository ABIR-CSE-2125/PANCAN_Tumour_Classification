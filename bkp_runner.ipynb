{
 "cells": [
  {
   "cell_type": "code",
   "execution_count": 1,
   "id": "cdcf1b3a",
   "metadata": {},
   "outputs": [],
   "source": [
    "import numpy as np\n",
    "from sklearn.datasets import make_friedman1\n",
    "from sklearn.decomposition import SparsePCA\n",
    "from sklearn.preprocessing import StandardScaler\n",
    "import matplotlib.pyplot as plt\n",
    "from sklearn.model_selection import train_test_split\n",
    "from utils import *\n",
    "random_state = 42\n"
   ]
  },
  {
   "cell_type": "code",
   "execution_count": 2,
   "id": "efd5ea4f",
   "metadata": {},
   "outputs": [
    {
     "name": "stdout",
     "output_type": "stream",
     "text": [
      "DataFrame successfully loaded from data/processed_data/gene_exp_data.pkl\n",
      "DataFrame successfully loaded from data/processed_data/label_data.pkl\n",
      "Entries in Gene Expression Dataframe : 5268\n",
      "Entries in Label Dataframe : 5268\n"
     ]
    }
   ],
   "source": [
    "gene_exp_df = read_dataframe_from_pickle(\"data/processed_data/gene_exp_data.pkl\")\n",
    "label_df = read_dataframe_from_pickle(\"data/processed_data/label_data.pkl\")\n",
    "print(f\"Entries in Gene Expression Dataframe : {len(gene_exp_df)}\")\n",
    "print(f\"Entries in Label Dataframe : {len(label_df)}\")"
   ]
  },
  {
   "cell_type": "code",
   "execution_count": 3,
   "id": "7aa6ea88",
   "metadata": {},
   "outputs": [],
   "source": [
    "labels_with_high_freq_df = remove_low_frequency_labels(label_df,threshold=150)\n",
    "extracted_data,extracted_label = collect_relevant_data(gene_exp_df_bkp=gene_exp_df,label_df_bkp=labels_with_high_freq_df)\n",
    "encoded_labels,label_encoder = encode_labels(extracted_label)"
   ]
  },
  {
   "cell_type": "code",
   "execution_count": 6,
   "id": "f223d021",
   "metadata": {},
   "outputs": [],
   "source": [
    "scaler = StandardScaler()\n",
    "X_scaled = scaler.fit_transform(extracted_data)\n",
    "spca = SparsePCA(\n",
    "                n_components=60,\n",
    "                 alpha=0.5,  # Sparsity controlling parameter\n",
    "                 ridge_alpha=0.01,  # Small ridge regularization\n",
    "                 max_iter=10,\n",
    "                 random_state=42)"
   ]
  }
 ],
 "metadata": {
  "kernelspec": {
   "display_name": "pancan_env",
   "language": "python",
   "name": "python3"
  },
  "language_info": {
   "codemirror_mode": {
    "name": "ipython",
    "version": 3
   },
   "file_extension": ".py",
   "mimetype": "text/x-python",
   "name": "python",
   "nbconvert_exporter": "python",
   "pygments_lexer": "ipython3",
   "version": "3.13.2"
  }
 },
 "nbformat": 4,
 "nbformat_minor": 5
}
